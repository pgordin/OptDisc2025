{
 "cells": [
  {
   "cell_type": "markdown",
   "id": "2ba60623",
   "metadata": {},
   "source": [
    "`Autor: Piotr Koneczny (student PŁ, Wydział FTIMS, Kierunek: Matematyka Stosowana, studia II stopnia magisterskie stacjonarne dzienne, nr albumu: 258086)`\n",
    "\n",
    "$$\\text{\\huge{Algorytm Simplex}}$$\n",
    "\n",
    "Bibliografia:\n",
    "\n",
    "[1] Paweł Zieliński, Metody Optymalizacji, wykłady nr 4 i 5. „ZPR PWr – Zintegrowany Program Rozwoju Politechniki Wrocławskiej \", 2024. https://cs.pwr.edu.pl/zielinski/lectures/om/wyklady4_5.pdf\n",
    "\n",
    "[2] Wojda, A. P. (2013). Wykłady z programowania liniowego. Wydział Matematyki Stosowanej AGH. https://wms.mat.agh.edu.pl/˜wojda/Pl3.pdf\n",
    "\n",
    "[3] Przemysław Gordinowicz, Materiały pomocnicze do wykładu nr 1 (LP, MIP) w ramach przedmiotu \"Algorytmy optymalizacji dyskretnej\", prowadzonego dla studentów II semestru na studiach II stopnia magisterskich dziennych, na kierunku \"Matematyka stosowana\". Politechnika Łódzka, 2025.\n",
    "\n",
    "[4] Arthur David Snider, Basics of Optimization Theory, Springer Cham, 2023, DOI: 10.1007/978-3-031-29219-4. Chapter 2\n",
    "\n",
    "[5] Dennis Amematekpor, The Simplex Algorithm | Linear Programming. https://youtu.be/fTKuIXOHbwM\n",
    "\n",
    "---"
   ]
  },
  {
   "cell_type": "code",
   "execution_count": null,
   "id": "11478120",
   "metadata": {},
   "outputs": [],
   "source": [
    "#Wczytujemy potrzebne biblioteki\n",
    "\n",
    "import numpy as np                      #główna biblioteka do obliczeń\n",
    "from copy import deepcopy               #metoda pomocnicza do tworzenia głębokich kopii obiektów w razie potrzeby\n",
    "from scipy.optimize import linprog      #solver LP z scipy do porównania wyników\n",
    "from itertools import combinations      #do \"brutalnego\" przeszukiwania"
   ]
  },
  {
   "cell_type": "markdown",
   "id": "082ecd0c",
   "metadata": {},
   "source": [
    "---"
   ]
  },
  {
   "cell_type": "markdown",
   "id": "c623514e",
   "metadata": {},
   "source": [
    "$\\text{\\large{Krótkie przypomnienie i uporządkowanie podstawowych wiadomości z zakresu programowania liniowego. Podstawowe oznaczenia i ustalenia}}$\n",
    "\n",
    "Ogólny problem `programowania matematycznego` (a więc rozwiązywania zadań optymalizacyjnych z określoną funkcją celu) można sformułować następująco, jak w pracy [2]:\n",
    "\n",
    "$\\textit{Niech } X \\textit{ będzie dowolnym zbiorem i niech }f \\textit{ będzie funkcją zdefiniowaną w zbiorze } X\n",
    "\\textit{o wartościach w zbiorze liczb rzeczywistych.} \\\\ \\textit{Znajdź wartość maksymalną } f(x) \\textit{ dla } x \\in X.$\n",
    "\n",
    "Problemy optymalizacyjne mogą być formułowane na różne sposoby, w zależności od przyjętych założeń. \n",
    "\n",
    "Przykładowo, maksymalizacja funkcji $f \\colon X \\to \\mathbb{R}$ jest równoważna minimalizacji funkcji $g \\colon X \\to \\mathbb{R}$, zdefiniowanej jako $g(x) = -f(x)$ dla każdego $x \\in X$.\n",
    "\n",
    "Jednym z najważniejszych i najlepiej poznanych przypadków programowania matematycznego jest programowanie liniowe (ang. $linear \\, programming$, w skrócie $LP$). \n",
    "\n",
    "`W problemach LP zakłada się, że:`\n",
    "\n",
    "1. przestrzeń dopuszczalna $X$ jest podzbiorem przestrzeni euklidesowej $\\mathbb{R}^n$,\n",
    "\n",
    "2. funkcja celu $f$ jest funkcją liniową.\n",
    "\n",
    "`W takich przypadkach zbiór rozwiązań dopuszczalnych często przyjmuje postać wielościanu` — zbioru wyznaczonego przez układ skończonej liczby nierówności liniowych. Warto zauważyć, że rozwiązania optymalne w problemach $LP$ bardzo często znajdują się w wierzchołkach tego wielościanu, co ma kluczowe znaczenie dla działania algorytmu simpleks.\n",
    "\n",
    "---\n",
    "\n",
    "Przypomnimy teraz formalną definicję problemu programowania liniowego, która pozwoli nam dokładnie zrozumieć strukturę tego typu zadań i uzasadnić zastosowanie metody simpleks. Ustalimy przy okazji i uporządkujemy pewne oznaczenia, które będą się pojawiały w kontekście problemów $LP$. \n",
    "\n",
    "Wklejam ją z preliminariów mojej (właśnie powstającej) pracy magisterskiej (o zastosowaniu $MIP$ - Mixed Integer Programming - do harmonogramowania zajęć uczelni - zapewne poniższą implementację algorytmu Simplex wykorzystam później w konstrukcji programu układającego plan zajęć, który buduję w ramach mojej pracy i w ramach realizacji Własnego Funduszu Stypendialnego, przyznanego mi na rok akademicki 2024/2025).\n",
    "\n",
    "![image.png](projekt_alg_Simplex_zdj/definicja_LP_z_mojej_mgr.png)\n",
    "\n",
    "Algorytm Simplex, który omówimy za chwilę, rozwiązuje problemy $LP$ zapisane w postaci, gdzie wszystkie ograniczenia mają postać równości: $A\\mathbf{x} = \\mathbf{b}$, a nie nierówności $A\\mathbf{x} \\le \\mathbf{b}$.\n",
    "\n",
    "Jeżeli mamy problem $LP$ zadany w takiej postaci:\n",
    "\n",
    "$$\\begin{cases} \\text{zmaksymalizować:} \\quad c^T \\bf{x} \\\\ \\text{przy warunkach:} \\quad \\, \\, \\, \\, A \\cdot \\bf{x} = \\bf{b} \\\\ \\qquad \\qquad \\qquad \\, \\quad \\quad \\, \\, \\, \\, \\quad \\, \\, \\, \\, \\bf{x} \\ge \\theta_{\\mathbb{R}^{n}} \\end{cases}$$\n",
    "\n",
    "to mówimy, że ten problem $LP$ jest zadany w `postaci kanonicznej`.\n",
    "\n",
    "`W dalszej części tekstu będziemy zamiennie używać określeń: `\n",
    "\n",
    "- `postać standardowa/nierównościowa, odwołując się do postaci (1.3.2) na screenie powyżej,`\n",
    "\n",
    "- `postać kanoniczna/równościowa, odwołując się do postaci przedstawionej bezpośrednio powyżej, ale już pod screenem.`\n",
    "\n",
    "`Problem $LP$ w postaci standardowej (przy powyższym nazewnictwie i oznaczeniach) można rozszerzyć do postaci kanonicznej (równościowej), zwiększając jego wymiar.`\n",
    "\n",
    "Konkretnie mówiąc, robi się to dzięki wprowadzeniu tzw. `zmiennych uzupełniających/zmiennych zapasu/zmiennych luzu/slacków` (od ang. $\\textit{slack variables}$).\n",
    "\n",
    "Zamiana nierówności na równości poprzez dodanie zmiennych slack umożliwia reprezentację przestrzeni rozwiązań jako zbioru przecięć hiperpłaszczyzn, co jest kluczowe dla działania algorytmu Simplex, który porusza się od wierzchołka do wierzchołka tego zbioru.\n",
    "\n",
    "Ponieważ mamy $m$ ograniczeń składających się na nierówność $A\\bf{x} \\le \\bf{b}$ (ograniczeń jest tyle samo, ile współrzędnych ma kolumnowy wektor $\\bf{b}$), wprowadźmy zmienne uzupełniające $s_1, \\ldots, s_m$. Przyjmijmy również oznaczenie $\\bf{s} := (s_1, \\ldots, s_m)^T \\in \\R^m$. \n",
    "\n",
    "Oznaczmy również $\\hat{\\bf{c}} := (c_1, \\ldots, c_n, c_{n+1}, \\ldots, c_{n+m})^T \\in \\mathbb{R}^{n+m}$, a także $\\hat{\\bf{x}} := [\\bf{x} \\quad \\bf{s}]^T$ oraz $\\hat{A} := [A \\mid I_m]$. Przy tych oznaczeniach, tak wygląda sformułowanie problemu (1.3.2) w postaci kanonicznej:\n",
    "\n",
    "$$\\begin{cases} \\text{zmaksymalizować:} \\quad \\hat{c}^T \\hat{\\bf{x}} \\\\ \\text{przy warunkach:} \\quad \\, \\, \\, \\, \\hat{A} \\cdot \\hat{\\bf{x}} = \\bf{b} \\\\ \\qquad \\qquad \\qquad \\, \\quad \\quad \\, \\, \\, \\, \\quad \\, \\, \\, \\, \\bf{x} \\ge \\theta_{\\mathbb{R}^{n+m}} \\end{cases}$$\n",
    "\n",
    "Czyli w istocie rzeczy, rozszerzenie wyjściowego problemu $LP$ (w postaci standardowej, tzn. powyższej 1.3.2) do postaci kanonicznej dokonuje się poprzez zamianę nierówności $A\\bf{x} \\le \\bf{b}$ na równość $\\hat{A} \\cdot \\hat{\\bf{x}} = \\bf{b}$. \n",
    "\n",
    "Taką postać tego problemu $LP$ (jak w 1.3.2) nazywamy właśnie jego $\\emph{postacią kanoniczną}$.\n",
    "\n",
    "Poniżej definiujemy funkcję pomocniczą `preprocess_general_lp`, zamieniającą warunki mieszanych typów (\"$\\le$\", \"$\\ge$\", \"$=$\") na jedną wspólną nierówność w postaci macierzowej: $A\\bf{x} \\le \\bf{b}$.\n",
    "\n",
    "`Poniżej własnoręcznie zaimplementowany algorytm Simplex` najpierw przekształca wyjściowe ograniczenia do jednego wspólnego $A\\bf{x} \\le \\bf{b}$ za pomocą powyżej wspomnianej funkcji. \n",
    "\n",
    "Następnie, w celu znalezienia rozwiązania takiego problemu $LP$ (w postaci standardowej), \"zamienia\" go na (równoważny) problem $LP$ w postaci kanonicznej. \n",
    "\n",
    "W dalszej kolejności rozwiązuje ten problem w postaci kanonicznej (bądź wskazuje, że nie istnieje jego optymalne rozwiązanie), automatycznie uzyskując też rozwiązanie wyjściowego problemu $LP$ (w postaci standardowej) i `zwraca rozwiązanie oryginalnego problemu (w postaci standardowej), odrzucając współczynniki dotyczące zmiennych uzupełniających`.\n",
    "\n",
    "Przy powyższych oznaczeniach i ustaleniach, zbiór $\\{ \\bf{x} \\in \\mathbb{R}^n \\colon A\\bf{x} \\le \\bf{b}, \\, \\bf{x} \\ge \\theta_{\\mathbb{R}^n} \\}$ nazywamy $\\emph{zbiorem rozwiązań dopuszczalnych}$ problemu $LP$, jak w (1.3.2), a elementy tego zbioru nazywamy $\\emph{rozwiązaniami dopuszczalnymi}$ takiego problemu $LP$. \n",
    "\n",
    "Zbiór rozwiązań dopuszczalnych problemu $LP$ w postaci kanonicznej oczywiście definiuje się analogicznie, zastępując nierówność $\\le$ równością.\n",
    "\n",
    "Rozwiązanie dopuszczalne problemu $LP$ nazwiemy jego $\\emph{optymalnym rozwiązaniem(dopuszczalnym)}$, jeżeli funkcja celu przyjmuje dla niego największą wartość w zbiorze dopuszczalnym."
   ]
  },
  {
   "cell_type": "markdown",
   "id": "4c265749",
   "metadata": {},
   "source": [
    "---"
   ]
  },
  {
   "cell_type": "markdown",
   "id": "4a2f5c4b",
   "metadata": {},
   "source": [
    "$\\text{\\large{Teoria dotycząca algorytmu Simplex}}$\n",
    "\n",
    "Zacznijmy może od tego, że `sympleks to uogólnienie odcinka, trójkąta i czworościanu na dowolne wymiary`.\n",
    "\n",
    "Intuicyjnie, $k$-wymiarowym sympleksem nazywamy $k$-wymiarowy wielościan, który jest wypukłą otoczką swoich $k+1$ wierzchołków.\n",
    "\n",
    "![image.png](projekt_alg_Simplex_zdj/sympleks_definicja.png)\n",
    "\n",
    "Rys. 1. Przykład 3-wymiarowego sympleksu (źródło: https://upload.wikimedia.org/wikipedia/commons/2/25/Tetrahedron.png).\n",
    "\n",
    "`Algorytm sympleks, który w ramach tej pracy omawiamy, będziemy też nazywać wymiennie: \"algorytmem Simplex\", od jego angielskiej nazwy.`\n",
    "\n",
    "Jak już wspomnieliśmy chwilę wcześniej, algorytm sympleks rozwiązuje problem $LP$ w postaci kanonicznej (bądź stwierdza, że nie istnieją żadne rozwiązania problemu). Jak słusznie zauważono w [1]:\n",
    "\n",
    "$\\textit{Idea algorytmu sympleks polega na inteligentnym przejrzeniu wierzchołków zbioru rozwiązań dopuszczalnych i wybraniu wierzchołka,} \\\\ \\textit{w którym wartość funkcji celu jest optymalna.}$\n",
    "\n",
    "Każdy wierzchołek zbioru rozwiązań dopuszczalnych odpowiada pewnemu rozwiązaniu - takie rozwiązanie nazywamy `bazowym rozwiązaniem dopuszczalnym`. \n",
    "\n",
    "Bazowe rozwiązanie dopuszczalne $LP$ nazwiemy $\\emph{bazowym rozwiązaniem optymalnym}$, jeżeli jest ono (dopuszczalnym) rozwiązaniem optymalnym tego $LP$.\n",
    "\n",
    "Dla porządku, przypominamy z wykładu [3] twierdzenie mówiące o istnieniu rozwiązań takich problemów $LP$:\n",
    "\n",
    "![image.png](projekt_alg_Simplex_zdj/simplex_tw1_wyklad.png)\n",
    "\n",
    "Idea algorytmu sympleks polega innymi słowy na tym, żeby \"stopniowo poprawiać\" rozwiązanie dopuszczalne (problemu $LP$ w postaci kanonicznej). \n",
    "\n",
    "To \"stopniowe poprawianie\" polegać będzie na przechodzeniu między sąsiednimi wierzchołkami. \n",
    "\n",
    "Przejście od jednego wierzchołka do drugiego sąsiedniego wierzchołka (lub równoważnie: przejście od jednego bazowego rozwiązania dopuszczalnego do drugiego sąsiedniego) będzie polegało na wymianie jednej zmiennej (kolumny) bazowej.\n",
    "\n",
    "Wykonując takie przejścia automatycznie dbamy cały czas o zachowanie dopuszczalności rozwiązania.\n",
    "\n",
    "Algorytm kończy działanie, jeśli aktualne bazowe rozwiązanie dopuszczalne jest optymalne.\n",
    "\n",
    "![image.png](projekt_alg_Simplex_zdj/wieloscian_alg_simplex.png)\n",
    "\n",
    "Rys. 2. Wielościan algorytmu sympleksowego w trzech wymiarach (źródło: https://upload.wikimedia.org/wikipedia/commons/d/d4/Simplex-method-3-dimensions.png)."
   ]
  },
  {
   "cell_type": "markdown",
   "id": "b1752634",
   "metadata": {},
   "source": [
    "---"
   ]
  },
  {
   "cell_type": "markdown",
   "id": "1ddee70d",
   "metadata": {},
   "source": [
    "Żeby nie tłumaczyć wszystkiego tak na \"sucho\", będziemy dalej mieszać opis teoretyczny oraz implementację, \"przeplatając\" je z kolejnymi etapami rozwiązywania następującego zadania.\n",
    "\n",
    "`Zadanie:`\n",
    "\n",
    "Pewna firma zajmuje się produkcją dwóch rodzajów lodów:\n",
    "\n",
    "- L1 – lody waniliowe,\n",
    "\n",
    "- L2 – lody czekoladowe.\n",
    "\n",
    "Proces produkcyjny obejmuje etapy takie jak mieszanie, pasteryzacja i zamrażanie. \n",
    "\n",
    "Produkcja przebiega w sposób ciągły – masa lodowa przepływa przez maszyny i może być dozowana w dowolnych ilościach. \n",
    "\n",
    "Maszyny można w każdej chwili uruchamiać i zatrzymywać, a partie produkcyjne można dzielić na dowolne porcje. Dlatego przyjmujemy, że:\n",
    "\n",
    "- jednostką produkcyjną (detalem) jest 1 litr gotowych lodów,\n",
    "\n",
    "- zmienne decyzyjne (czyli liczba litrów danego rodzaju lodów produkowanych tygodniowo) mogą przyjmować dowolne nieujemne wartości rzeczywiste.\n",
    "\n",
    "Dla każdego rodzaju lodów znane są:\n",
    "\n",
    "- czasy pracy potrzebne na każdej z maszyn (w minutach na 1 litr lodów),\n",
    "\n",
    "- maksymalna dostępność czasowa każdej maszyny w tygodniu (w minutach),\n",
    "\n",
    "- zysk jednostkowy ze sprzedaży 1 litra danego rodzaju lodów (w zł).\n",
    "\n",
    "Dane te przedstawione zostały w poniższej tabeli:\n",
    "\n",
    "<img src=\"projekt_alg_Simplex_zdj/simplex_zadanie_tabelka_dane_sample2.png\" width=\"1100\">\n",
    "\n",
    "`Polecenia do wykonania:`\n",
    "\n",
    "a) Zdefiniuj zmienne decyzyjne, sformułuj funkcję celu oraz wszystkie ograniczenia, tworząc kompletny model programowania liniowego.\n",
    "\n",
    "b) Przekształć model do postaci kanonicznej (standardowej) – zapisz wektor funkcji celu, macierz technologiczną $A$ oraz wektor ograniczeń $b$.\n",
    "\n",
    "c) Zastosuj metodę Simplex, aby obliczyć optymalne wartości zmiennych decyzyjnych.\n",
    "\n",
    "---\n",
    "`Rozwiązania:`\n",
    "\n",
    "a) Przyjmijmy następujące oznaczenia na zmienne decyzyjne:\n",
    "\n",
    "- $x_1$ - liczba litrów lodów L1 (waniliowych) produkowanych tygodniowo\n",
    "\n",
    "- $x_2$ - liczba litrów lodów L2 (czekoladowych) produkowanych tygodniowo\n",
    "\n",
    "Należy rozwiązać następujący problem optymalizacyjny:\n",
    "\n",
    "$\\begin{cases} 40 \\cdot x_1 + 50 \\cdot x_2 \\to \\text{max} \\\\ \\text{przy ograniczeniach:} \\\\ \\quad \\, \\, \\, \\, \\qquad \\qquad \\quad \\, \\, x_1, x_2 \\ge 0 \\qquad \\quad \\text{ilość l wyprodukowanych lodów nie może być ujemna} \\\\ \\begin{aligned} & 10 \\cdot x_1 & + \\, \\, & 20 \\cdot x_2 & \\le & \\, \\, 3500 \\quad &\\text{ograniczenie na czas działania mieszalnika} & \\, \\\\  & 40 \\cdot x_1 & + \\, \\, & 30 \\cdot x_2 & \\le & \\, \\, 980\\text{ }  &  \\text{ograniczenie na czas działania pasteryzatora} & \\, \\\\  & 100 \\cdot x_1 & + \\, \\,  & 200 \\cdot x_2 & \\le & \\, \\, 5600 & \\text{ograniczenie na czas działania zamrażarki} & \\, \\end{aligned} \\end{cases}$\n",
    "\n",
    "b) Aby zapisać powyższy problem optymalizacyjny w postaci kanonicznej (nazywanej również standardową lub bazową), wprowadzamy tzw. zmienne zapasu (ang. slack variables). \n",
    "\n",
    "Zmienne te pozwalają przekształcić każde z ograniczeń typu „≤” w równoważne ograniczenie równościowe, co jest wymagane do zastosowania metody Simplex.\n",
    "\n",
    "W naszym przypadku wprowadzamy trzy zmienne zapasu — po jednej dla każdego z ograniczeń odpowiadających tygodniowym zasobom czasowym trzech maszyn. \n",
    "\n",
    "Oznaczamy je odpowiednio jako: $s_1, s_2, s_3$, gdzie każda z nich reprezentuje niewykorzystany tygodniowy zasób czasowy danej maszyny. Czyli:\n",
    "\n",
    "- $s_1$: niewykorzystowany czas mieszalnika,\n",
    "\n",
    "- $s_2$: niewykorzystowany czas pasteryzatora,\n",
    "\n",
    "- $s_3$: niewykorzystowany czas zamrażarki.\n",
    "\n",
    "Po dodaniu zmiennych zapasu, problem w postaci standardowej przyjmuje postać:\n",
    "\n",
    "$\\begin{cases} 40 \\cdot x_1 + 50 \\cdot x_2 + 0 \\cdot s_1 + 0 \\cdot s_2 + 0 \\cdot s_3 \\to \\text{max} \\\\ \\text{przy ograniczeniach:} \\\\ \\quad \\, \\, \\, \\, \\quad \\qquad \\qquad \\qquad \\qquad \\qquad \\qquad \\, \\, \\, \\, \\, x_1, x_2, s_1, s_2, s_3 \\ge 0 \\\\ \\begin{aligned} & 10 \\cdot x_1 & + \\, \\, & 20 \\cdot x_2 & + \\, \\, & 1 \\cdot s_1 & + \\, \\, & 0 \\cdot s_2 & + \\, \\, & 0 \\cdot s_3 & \\le &\\, \\, 3500 \\\\  & 40 \\cdot x_1 & + \\, \\, & 30 \\cdot x_2 & + \\, \\, & 0 \\cdot s_1 & + \\, \\, & 1 \\cdot s_2 & + \\, \\, & 0 \\cdot s_3 & \\le &\\, \\, 980\\\\  & 100 \\cdot x_1 & + \\, \\,  & 200 \\cdot x_2 & + \\, \\, & 0 \\cdot s_1 & + \\, \\, & 0 \\cdot s_2 & + \\, \\, & 1 \\cdot s_3 & \\le & \\, \\, 5600 \\end{aligned} \\end{cases}$\n",
    "\n",
    "Oznaczmy $n = 2$ (liczba zmiennych oryginalnie). Oznaczmy $m = 3$ (liczba ograniczeń, tzn. maszyn, bo mamy jedno ograniczenie dla każdej z trzech maszyn). Oczywiście więc $m < m+n$ (istotnie: $3 < 5$).\n",
    "\n",
    "Wektor zmiennych decyzyjnych (bez zmiennych sztucznych) jest postaci: $\\bf{x} = \\left[ \\begin{aligned} x_1 \\\\ x_2 \\end{aligned} \\right] \\in \\mathbb{R}^n,$, wektor zmiennych sztucznych jest postaci: $\\bf{s} = \\left[ \\begin{aligned} s_1 \\\\ s_2 \\\\ s_3 \\end{aligned} \\right] \\in \\mathbb{R}^m,$, natomiast ze zmiennymi sztucznymi jest postaci: $\\hat{\\bf{x}} = \\left[ \\begin{aligned} x_1 \\\\ x_2 \\\\ s_1 \\\\ s_2 \\\\ s_3 \\end{aligned} \\right] \\in \\mathbb{R}^{n+m}.$\n",
    "\n",
    "Przyjmijmy oznaczenie: $\\bf{c} = \\left[ \\begin{aligned} &\\, 40 \\\\ &\\, 50 \\end{aligned} \\hspace{0.1 em} \\right] \\in \\mathbb{R}^{n}.$ oraz: $\\hat{\\bf{c}} = \\left[ \\begin{aligned} &40 \\\\ &50 \\\\ &\\, 0 \\\\ & \\, 0 \\\\ &\\, 0 \\end{aligned} \\right] \\in \\mathbb{R}^{n+m}.$\n",
    "\n",
    "A więc funkcja celu (dla oryginalnego problemu nierownościowego w postaci standardowej) zdefiniowana jest w sposób następujący: $$\\mathop{\\forall} \\left( {\\bf{x}} = (x_1 \\, \\, \\, \\, x_2)^T \\in \\R^{n} \\right) \\, \\, \\, \\, f(\\bf{x}) = \\bf{c}^T \\bf{x} = [40 \\quad 50] \\cdot \\left[ \\begin{aligned} x_1 \\\\ x_2 \\end{aligned} \\right] = 40 \\cdot x_1 + 50 \\cdot x_2.$$ \n",
    "\n",
    "Natomiast funkcja celu (dla problemu równościowego, tzn. oryginalnego nierownościowego przekształconego z postaci standardowej do postaci kanonicznej) zdefiniowana jest w sposób następujący: $$\\mathop{\\forall} \\left( \\hat{\\bf{x}} = (x_1 \\, \\, \\, \\, x_2 \\, \\, \\, \\, s_1 \\, \\, \\, \\, s_2 \\, \\, \\, \\, s_3)^T \\in \\R^{n+m} \\right) \\, \\, \\, \\, \\hat{f}(\\hat{\\bf{x}}) = \\hat{\\bf{c}}^T \\hat{\\bf{x}} = [40 \\quad 50 \\quad 0 \\quad 0 \\quad 0] \\cdot \\left[ \\begin{aligned} x_1 \\\\ x_2 \\\\ s_1 \\\\ s_2 \\\\ s_3 \\end{aligned} \\right] = 40 \\cdot x_1 + 50 \\cdot x_2 + 0 \\cdot s_1 + 0 \\cdot s_2 + 0 \\cdot s_3.$$ \n",
    "\n",
    "Dalej, przyjmujemy oznaczenia na:\n",
    "- (oryginalną) macierz (technologiczną?) dla problemu nierównościowego (w postaci standardowej): $A = \\left[ \\begin{aligned} & \\, \\, 10  & 20\\\\ &\\, \\, 40 &30\\\\ &100 \\, & 200 \\end{aligned} \\right] \\in \\mathcal{M}_{m \\times n}$\n",
    "\n",
    "- macierz (technologiczną?) dla problemu równościowego (oryginalnego ale w postaci kanonicznej): $\\hat{A} = [A \\mid I_3] = \\left[ \\begin{aligned} & \\, \\, 10  & 20 \\quad \\, \\, & 1 \\, \\, & 0 \\quad & 0 \\\\ &\\, \\, 40 & 30 \\quad \\, \\, & 0 \\, \\,  & 1 \\quad & 0\\\\ &100 \\, & 200 \\quad \\, \\, & 0 \\, \\, & 0 \\quad & 1 \\end{aligned} \\right] \\in \\mathcal{M}_{m \\times (n+m)}$\n",
    "\n",
    "- wektor ograniczeń: $\\qquad \\, b =  \\left[ \\, \\begin{aligned} &3500 \\\\ &\\, 980 \\\\ &5600 \\end{aligned} \\, \\right] \\in \\mathbb{R}^m$\n",
    "\n",
    "Nasz problem optymalizacyjny (problem $LP$) najpierw więc przedstawiliśmy (w punkcie a) w postaci standardowej (nierównościowej):\n",
    "\n",
    "$$\\begin{cases} \\text{zmaksymalizować:} \\quad \\bf{c}^T \\bf{x} \\\\ \\text{przy warunkach:} \\quad \\, \\, \\, \\, A \\cdot \\bf{x} \\le \\bf{b} \\\\ \\qquad \\qquad \\qquad \\quad \\quad \\, \\, \\, \\, \\quad \\, \\, \\, \\, \\bf{x} \\ge \\theta_{\\mathbb{R}^n} \\end{cases}$$\n",
    "\n",
    "a teraz równoważnie przedstawiliśmy go w postaci kanonicznej (równościowej):\n",
    "\n",
    "$$\\begin{cases} \\text{zmaksymalizować:} \\quad \\hat{\\bf{c}}^T \\hat{\\bf{x}} \\\\ \\text{przy warunkach:} \\quad \\, \\, \\, \\, \\hat{A} \\cdot \\hat{\\bf{x}} = \\bf{b} \\\\ \\qquad \\qquad \\qquad \\quad \\quad \\, \\, \\, \\, \\quad \\, \\, \\, \\, \\hat{\\bf{x}} \\ge \\theta_{\\mathbb{R}^{n+m}} \\end{cases}$$\n",
    "\n",
    "---\n",
    "\n",
    "Opieramy się teraz merytorycznie na [1], jednak przy oznaczeniach pozostajemy bardziej \"wierni\" wykładowi [3]. Oczywiście opieramy się też na oznaczeniach przyjętych powyżej w tym tekście.\n",
    "\n",
    "Załóżmy, że $\\bf{x}$ jest bazowym rozwiązaniem dopuszczalnym powyższego problemu $LP$ przekształconego do postaci kanonicznej (jak w podpunkcie b), przy czym $\\bf{x}^T = [x_B \\quad x_N]^T$, gdzie $\\bf{x}_B \\ge \\bf{0}$ oraz $\\bf{x}_N = \\bf{0}$ oraz $\\bf{x}_B \\in \\mathbb{R}^m$ oraz $\\bf{x}_N \\in \\mathbb{R}^n$.\n",
    "\n",
    "Wówczas macierz $\\hat{A}$ da się przedstawić w postaci sklejenia macierzy $\\hat{A} = [B \\quad N]$, gdzie $B \\in \\mathcal{M}_{m \\times m}$ jest nieosobliwa (a więc równoważnie: $\\mathop{\\text{rank}} B = m$) oraz $N \\in \\mathcal{M}_{m \\times n}$.\n",
    "\n",
    "Macierze $B, N$ za pomocą ich kolumn będziemy zapisywać następująco: $B = [B_1, \\ldots, B_m], N = [N_{m+1}, \\ldots, N_{m+n}]$.\n",
    "\n",
    "Przejście od bazowego rozwiązania dopuszczalnego $\\bf{x}$ (bazy dopuszczalnej $B$) do sąsiedniego bazowego rozwiązania dopuszczalnego $\\bf{\\bar{x}}$ (sąsiedniej bazy dopuszczalnej $\\bar{B}$) polega na \"wyjściu z bazy\" pewnej bazowej kolumny $B_{i_{\\star}}$ (zmiennej bazowej $x_{i_{\\star}}$), dla pewnego $i_{\\star} \\in \\{ 1, \\ldots, m\\}$, oraz \"wejściu do bazy\" pewnej niebazowej kolumny $N_k$ (zmiennej niebazowej $x_k$), dla pewnego $k \\in \\{ m+1, \\ldots, m+n\\}$. \n",
    "\n",
    "Konkretnie to przejście polega więc na wymianie jednej zmiennej (kolumny) między zbiorem kolumn bazowych oraz zbiorem kolumn niebazowych. Przejście to wygląda w ten sposób:\n",
    "\n",
    "$$ \\bf{x}^T = [x_1^B, \\ldots, x_{i_{\\star}-1}^B, x_{i_{\\star}}^B, x_{i_{\\star}+1}^B, \\ldots, x_m^B, \\bf{0}_{n}] \\quad \\to \\quad \\bar{\\bf{x}}^T = [x_1^B, \\ldots, x_{i_{\\star}-1}^B, x_{i_{\\star}+1}^B, \\ldots, x_m^B, x_k^N, \\bf{0}_{n-1}] $$\n",
    "\n",
    "W \"języku\" macierzy bazowych to przejście wygląda tak:\n",
    "\n",
    "$$ B = [B_1, \\ldots, B_{i_{\\star}-1}, B_{i_{\\star}}, B_{i_{\\star} + 1}, \\ldots, B_m] \\quad \\to \\quad  \\bar{B} = [B_1, \\ldots, B_{i_{\\star}-1}, B_{i_{\\star} + 1}, \\ldots, B_m, N_k]$$\n",
    "\n",
    "W kontekście algorytmu Simplex bardzo ważne są:\n",
    "\n",
    "1. kryteria wyjścia, tzn. kryteria doboru zmiennej (kolumny) bazowej, która wychodzi z bazy\n",
    "\n",
    "2. kryteria wejścia, tzn. kryteria doboru zmiennej (kolumny) niebazowej, która wchodzi do bazy\n",
    "\n",
    "Oznaczmy indeks zmiennej (kolumny), która wchodzi do bazy, jako $k$ - oczywiście $k \\in \\{ m + 1, \\ldots, m+n\\}$.\n",
    "\n",
    "Niech $\\bf{y}_k := B^{-1} N_k$ (wówczas $\\bf{y}_k \\in \\mathbb{R}^m$) - wówczas $\\bf{y}_k$ jest przedstawieniem kolumny niebazowej $N_k$ w aktualnej bazie $B$. Da się udowodnić następujące twierdzenie.\n",
    "\n",
    "`Twierdzenie 1 (Kryterium wyjścia)`: Jeżeli w wektorze $\\bf{y}_k$ przynajmniej jedna składowa jest dodatnia oraz:\n",
    "\n",
    "$$ \\bar{\\Theta}_k := \\frac{x_{i_{\\star}}^B}{y_{i_{\\star}}^k} = \\mathop{\\text{min}} \\left\\{ \\frac{x_{i}^B}{y_{i}^k} \\colon y_i^k > 0, 1 \\le i \\le m \\right\\}$$\n",
    "\n",
    "to $\\bf{\\bar{x}}$ jest sąsiednim bazowym rozwiązaniem dopuszczalnym, gdzie:\n",
    "\n",
    "$$\n",
    "\\bar{\\mathbf{x}} = \\bar{\\mathbf{x}}(\\overline{\\Theta}_k) =\n",
    "\\left[\n",
    "\\begin{array}{c}\n",
    "x_1^B - \\bar{\\Theta}_k y_1^k \\\\\n",
    "\\vdots \\\\\n",
    "x_{i^*-1}^B - \\bar{\\Theta}_k y_{i^*-1}^k \\\\\n",
    "0 \\\\\n",
    "x_{i^*+1}^B - \\bar{\\Theta}_k y_{i^*+1}^k \\\\\n",
    "\\vdots \\\\\n",
    "x_m^B - \\bar{\\Theta}_k y_m^k \\\\\n",
    "\\bf{0} \\\\\n",
    "\\bar{\\Theta}_k \\\\\n",
    "\\bf{0}\n",
    "\\end{array}\n",
    "\\right]\n",
    "$$\n",
    "\n",
    "Ponadto, jeżeli żadna składowa wektora $\\bf{y}_k$ nie jest dodatnia, wówczas zbiór rozwiązań dopuszczalnych jest nieograniczony.\n",
    "\n",
    "Algorytm Simplex w takim przypadku wykrywa to i kończy działanie, \"wyrzucając\" odpowiedni komunikat. Czyli algorytm ten jest w stanie, przy konstrukcji sąsiedniego bazowego rozwiązania dopuszczalnego, stwierdzić, czy wartość funkcji celu jest ograniczona z góry na zbiorze rozwiązań dopuszczalnych.\n",
    "\n",
    "Przyjmijmy oznaczenie: $\\bf{c}_B := [c_1, \\ldots, c_m]^T$ oraz $z_k := (\\bf{c}_B)^T {\\bf{y}}_k = (\\bf{c}_B)^T B^{-1} N_k = (\\bf{c}_B)^T B^{-1} A_k$.\n",
    "\n",
    "Jeśliby wprowadzić oznaczenie $\\lambda := (B^{-1})^T c_B$, to wówczas $\\lambda^T = [(B^{-1})^T c_B]^T = c_B^T B^{-1}$. Wówczas $z_k = \\lambda^T A_k$.\n",
    "\n",
    "Przy tych oznaczeniach, wektor $\\lambda$ nazywamy $\\emph{wektorem mnożników sympleksowych}$.\n",
    "\n",
    "Przy jednym takim przejściu, wartość funkcji celu zmienia się o $\\bar{\\Theta}_k \\cdot (c_k-z_k)$. Stąd, jeśli $c_k - z_k > 0$, to takie przejście prowadzi do poprawy wartości funkcji celu przy takim przejściu. \n",
    "\n",
    "A więc jeżeli istnieje kolumna niebazowa $N_k$, dla pewnego $k \\in \\{ m + 1, \\ldots, m + n\\}$, dla której $c_k - z_k > 0$, to aktualne bazowe rozwiązanie dopuszczalne $\\bf{x}$ nie jest optymalne. Stąd:\n",
    "\n",
    "`Twierdzenie 2 (Kryterium wejścia)`: Indeks zmiennej (kolumny) niebazowej $k$, wchodzącej do bazy, może być wyznaczony w sposób zachłanny, tzn.\n",
    "\n",
    "$$ c_k - z_k = \\mathop{\\text{max}} \\{ c_j - z_j \\colon c_j - z_j > 0, m + 1 \\le j \\le m + n\\} $$\n",
    "\n",
    "tyle że jest to metoda dość droga obliczeniowo. Taniej jest wybrać pierwszą kolumnę niebazową $j$, dla której $c_j - z_j > 0$. Ponadto okazuje się, że zachodzi:\n",
    "\n",
    "`Twierdzenie 3 (Kryterium optymalności)`: Jeżeli dla wszystkich kolumn niebazowych $N_k$, gdzie $k \\in \\{ m+1, \\ldots, m+n\\}$, zachodzą nierówności $c_k - z_k \\le 0$, to aktualny $\\bf{x}$ jest optymalnym rozwiązaniem rozważanego $LP$.\n",
    "\n",
    "Ponadto zachodzi twierdzenie:\n",
    "\n",
    "![image.png](projekt_alg_Simplex_zdj/simplex_tw2_wyklad.png)\n",
    "\n",
    "Warto jednak wspomnieć, że to twierdzenie ma jedno istotne założenie. Otóż musimy w specyficzny sposób wybierać indeksy kolumn wychodzących z bazy i wchodzących do bazy. Bardziej formalnie, to twierdzenie brzmiałoby tak (formułujemy je tak jak było ono sformułowane w źródle [1]):\n",
    "\n",
    "`Twierdzenie 4 (Algorytm Simplex zatrzymuje się)` Załóżmy, że $N_k$ będzie kolumną wchodzącą do bazy wybraną następująco:\n",
    "\n",
    "$$ k = \\mathop{\\text{min}} \\{ j \\colon c_j - z_j > 0, m + 1 \\le j \\le m + n\\}$$\n",
    "\n",
    "oraz w przypadku pojawienia się niejednoznaczności przy zastosowaniu kryterium wyjścia, przyjmiemy jako indeks zmiennej wychodzącej z bazy indeks $i_{\\star}$ będący indeksem o najmniejszej wartości spośród indeksów wyznaczających minimalną wartość ilorazu $\\frac{x_{i_\\star}^B}{y_{i_\\star}^k}$. Wówczas algorytm sympleks skończy działanie w skończonej liczbie kroków."
   ]
  },
  {
   "cell_type": "markdown",
   "id": "3652b5ab",
   "metadata": {},
   "source": [
    "---"
   ]
  },
  {
   "cell_type": "markdown",
   "id": "de324674",
   "metadata": {},
   "source": [
    "Jako pierwszą implementujemy funkcję, która pozwala, za pomocą poniżej własnoręcznie zaimplementowanego solvera dla algorytmu Simplex, rozwiązywać problemy $LP$ polegające na maksymalizacji $\\bf{c}^T \\bf{x}$ przy ograniczeniach $\\bf{x} \\ge 0$ oraz ograniczeniach mieszanych typów, tzn. ogólnie mogących przyjąć formy:\n",
    "\n",
    "- nierówności typu \"$\\le$\": $\\quad A_{le} \\cdot \\bf{x} \\le b_{le}$\n",
    "\n",
    "- nierówności typu \"$\\ge$\": $\\quad A_{ge} \\cdot \\bf{x} \\ge b_{ge}$\n",
    "\n",
    "- równości: $\\qquad \\qquad \\quad \\, \\, \\, \\, A_{eq} \\cdot \\bf{x} = b_{eq}$\n",
    "\n",
    "Funkcja ta zbierać będzie wszystkie te ograniczenia mieszanych typów i doprowadzać je do jednolitej postaci $A \\le \\bf{x} \\le b$, uwzględniającej wszystkie te ograniczenia jednocześnie.\n",
    "\n",
    "Z tej funkcji będziemy oczywiście w bardzo kluczowych \"momentach\" kodu korzystać - odgrywa ona dość istotną rolę, ponieważ dzięki niej możliwości solvera własnoręcznie zaimplementowanego są dużo większe niż tylko typowo rozwiązywanie problemów $LP$ z ograniczeniami wyłącznie w postaci równości (wtedy mówimy o postaci kanonicznej) czy też nierówności typu $\\le$."
   ]
  },
  {
   "cell_type": "code",
   "execution_count": 2,
   "id": "08e936d2",
   "metadata": {},
   "outputs": [],
   "source": [
    "# --- Narzędzie: przetwarzanie ogólnych ograniczeń LP ---\n",
    "def preprocess_general_lp(A_le=None, b_le=None, A_ge=None, b_ge=None, A_eq=None, b_eq=None, return_origin=False):\n",
    "    \"\"\"\n",
    "    Funkcja przyjmuje:\n",
    "    - macierz A_le i wektor b_le  → ograniczenia typu A_le * x ≤ b_le\n",
    "    - macierz A_ge i wektor b_ge  → ograniczenia typu A_ge * x ≥ b_ge\n",
    "    - macierz A_eq i wektor b_eq  → ograniczenia typu A_eq * x = b_eq\n",
    "\n",
    "    Zwraca (domyślnie) macierz A oraz wektor b, które łącznie reprezentują wszystkie\n",
    "    ograniczenia w postaci A * x ≤ b. Jeśli return_origin=True, dodatkowo zwraca\n",
    "    listę origin_list, gdzie każdy element to etykieta wskazująca, z jakiego\n",
    "    typu ograniczenia pochodzi dany wiersz:\n",
    "      - 'le'  → wiersz oryginalnie z A_le x ≤ b_le\n",
    "      - 'ge'  → wiersz pierwotnie z A_ge x ≥ b_ge (po przekształceniu przez −1)\n",
    "      - 'eq'  → wiersz pochodzący z rozbicia A_eq x = b_eq na dwie nierówności\n",
    "\n",
    "    Umożliwia wygodne wykorzystanie w dalszych etapach (np. w fazie I Simplexu),\n",
    "    by wiedzieć, które wiersze wolno dodatkowo odwrócić, a których nie.\n",
    "    \"\"\"\n",
    "    A_rows, b_rows = [], []\n",
    "    origin_list = []\n",
    "\n",
    "    # 1) Ograniczenia \"≤\" (le)\n",
    "    if A_le is not None:\n",
    "        for Ai, bi in zip(np.atleast_2d(A_le), b_le):\n",
    "            A_rows.append(Ai.copy())\n",
    "            b_rows.append(bi)\n",
    "            origin_list.append('le')\n",
    "\n",
    "    # 2) Ograniczenia \"≥\" (ge) → zamiana na \"≤\" przez pomnożenie przez -1\n",
    "    if A_ge is not None:\n",
    "        for Ai, bi in zip(np.atleast_2d(A_ge), b_ge):\n",
    "            A_rows.append(-Ai.copy())   # -A_ge\n",
    "            b_rows.append(-bi)          # -b_ge\n",
    "            origin_list.append('ge')\n",
    "\n",
    "    # 3) Ograniczenia \"=\" (eq) → rozbicie na dwie nierówności \"≤\"\n",
    "    if A_eq is not None:\n",
    "        for Ai, bi in zip(np.atleast_2d(A_eq), b_eq):\n",
    "            # A_eq x ≤ b_eq\n",
    "            A_rows.append(Ai.copy())\n",
    "            b_rows.append(bi)\n",
    "            origin_list.append('eq')\n",
    "            # -A_eq x ≤ -b_eq\n",
    "            A_rows.append(-Ai.copy())\n",
    "            b_rows.append(-bi)\n",
    "            origin_list.append('eq')\n",
    "\n",
    "    # 4) Scalanie wierszy w macierz A i wektor b\n",
    "    A = np.vstack(A_rows)      # (liczba_wierszy × n)\n",
    "    b = np.hstack(b_rows)      # (liczba_wierszy,)\n",
    "\n",
    "    if return_origin:\n",
    "        return A, b, origin_list\n",
    "    else:\n",
    "        return A, b"
   ]
  },
  {
   "cell_type": "markdown",
   "id": "dffd91cb",
   "metadata": {},
   "source": [
    "Dane dla naszego problemu:"
   ]
  },
  {
   "cell_type": "code",
   "execution_count": 3,
   "id": "e46722e6",
   "metadata": {},
   "outputs": [],
   "source": [
    "A = np.array([[10,20],\n",
    "              [40,30],\n",
    "              [100,200]]).astype(float)\n",
    "m, n = A.shape\n",
    "b = np.array([[3500],\n",
    "              [980],\n",
    "              [5600]]).astype(float)\n",
    "c = np.array([[40],\n",
    "              [50]]).astype(float)"
   ]
  },
  {
   "cell_type": "code",
   "execution_count": 4,
   "id": "3cd8a63f",
   "metadata": {},
   "outputs": [
    {
     "data": {
      "text/plain": [
       "3"
      ]
     },
     "execution_count": 4,
     "metadata": {},
     "output_type": "execute_result"
    }
   ],
   "source": [
    "m #liczba wierszy \"oryginalnej\" macierzy A (czyli dla LP w postaci standardowej, tzn. nierównościowej)"
   ]
  },
  {
   "cell_type": "code",
   "execution_count": 5,
   "id": "0e0a5528",
   "metadata": {},
   "outputs": [
    {
     "data": {
      "text/plain": [
       "2"
      ]
     },
     "execution_count": 5,
     "metadata": {},
     "output_type": "execute_result"
    }
   ],
   "source": [
    "n #liczba kolumn \"oryginalnej\" macierzy A (czyli dla LP w postaci standardowej, tzn. nierównościowej)"
   ]
  },
  {
   "cell_type": "markdown",
   "id": "56bddd9b",
   "metadata": {},
   "source": [
    "Sprawdźmy, co robi ta funkcja."
   ]
  },
  {
   "cell_type": "code",
   "execution_count": 6,
   "id": "11c82c47",
   "metadata": {},
   "outputs": [],
   "source": [
    "A_ub, b_ub, origin_list = preprocess_general_lp(A_le=A, b_le=b, return_origin=True)"
   ]
  },
  {
   "cell_type": "code",
   "execution_count": 7,
   "id": "5662bd33",
   "metadata": {},
   "outputs": [
    {
     "data": {
      "text/plain": [
       "array([[ 10.,  20.],\n",
       "       [ 40.,  30.],\n",
       "       [100., 200.]])"
      ]
     },
     "execution_count": 7,
     "metadata": {},
     "output_type": "execute_result"
    }
   ],
   "source": [
    "A_ub"
   ]
  },
  {
   "cell_type": "code",
   "execution_count": 8,
   "id": "ae336b27",
   "metadata": {},
   "outputs": [
    {
     "data": {
      "text/plain": [
       "(3, 2)"
      ]
     },
     "execution_count": 8,
     "metadata": {},
     "output_type": "execute_result"
    }
   ],
   "source": [
    "A_ub.shape"
   ]
  },
  {
   "cell_type": "code",
   "execution_count": 9,
   "id": "5d995484",
   "metadata": {},
   "outputs": [
    {
     "data": {
      "text/plain": [
       "array([3500.,  980., 5600.])"
      ]
     },
     "execution_count": 9,
     "metadata": {},
     "output_type": "execute_result"
    }
   ],
   "source": [
    "b_ub"
   ]
  },
  {
   "cell_type": "code",
   "execution_count": 10,
   "id": "5616bc6a",
   "metadata": {},
   "outputs": [
    {
     "data": {
      "text/plain": [
       "(3,)"
      ]
     },
     "execution_count": 10,
     "metadata": {},
     "output_type": "execute_result"
    }
   ],
   "source": [
    "b_ub.shape"
   ]
  },
  {
   "cell_type": "code",
   "execution_count": 11,
   "id": "b1ad9149",
   "metadata": {},
   "outputs": [
    {
     "data": {
      "text/plain": [
       "['le', 'le', 'le']"
      ]
     },
     "execution_count": 11,
     "metadata": {},
     "output_type": "execute_result"
    }
   ],
   "source": [
    "origin_list"
   ]
  },
  {
   "cell_type": "code",
   "execution_count": 12,
   "id": "83476290",
   "metadata": {},
   "outputs": [
    {
     "name": "stdout",
     "output_type": "stream",
     "text": [
      "Ai = [10. 20.]\n",
      "bi = [3500.]\n",
      "\n",
      "Ai = [40. 30.]\n",
      "bi = [980.]\n",
      "\n",
      "Ai = [100. 200.]\n",
      "bi = [5600.]\n",
      "\n"
     ]
    }
   ],
   "source": [
    "#Jak działa np.atleast_2d w połączeniu z zip w kodzie powyżej?\n",
    "for Ai, bi in zip(np.atleast_2d(A),b): #--> nawet fajne :)\n",
    "    print(\"Ai =\", Ai)\n",
    "    print(\"bi =\", bi)\n",
    "    print()"
   ]
  },
  {
   "cell_type": "markdown",
   "id": "353f0d65",
   "metadata": {},
   "source": [
    "Podsumowując powyższe, algorytm sympleks wyznaczający optymalną wartość funkcji celu w problemie $LP$ sformułowanym w postaci kanonicznej da się wyrazić za pommocą następującego pseudokodu (który został przedstawiony na wykładzie [3]):\n",
    "\n",
    "![image.png](projekt_alg_Simplex_zdj/simplex_pseudokod1.png)\n",
    "\n",
    "Zrobimy to w ramach funkcji `simplex_core`. Będzie to funkcja pobierająca macierze/wektory $\\hat{A}, b, \\hat{\\bf{c}}$ dla problemu $LP$ zapisanego już w postaci równościowej (kanonicznej), a więc po ewentualnym (jeżeli koniecznym) \"dołożeniu\" slacków/zmiennych sztucznych. Więcej o tym, co to są \"slacki\" i zmienne sztuczne i czym to się różni, trochę później (niżej). Przykładowo, według notacji powyższej, jeśli jedynym co dokładamy jest \"pakiet\" m \"slacków\", to ta funkcja rozwiązuje właśnie problem:\n",
    "\n",
    "$$\\begin{cases} \\text{zmaksymalizować:} \\quad \\hat{\\bf{c}}^T \\hat{\\bf{x}} \\\\ \\text{przy warunkach:} \\quad \\, \\, \\, \\, \\hat{A} \\cdot \\hat{\\bf{x}} = \\bf{b} \\\\ \\qquad \\qquad \\qquad \\quad \\quad \\, \\, \\, \\, \\quad \\, \\, \\, \\, \\bf{x} \\ge \\theta_{\\mathbb{R}^{n+m}} \\end{cases}$$\n",
    "\n",
    "W istocie, będzie to funkcja pomocnicza dla takiej \"ostatecznej\" (końcowej) funkcji (o nazwie `simplex_solve_general`), która będzie rozwiązywała wyjściowy, uniwersalnie zapisany nierównościowy problem $LP$ (tzn. podany w postaci standardowej wg oznaczeń powyżej, ogólnie z ograniczeniami już po \"przepuszczeniu\" przez funkcję `preprocess_general_lp`).\n",
    "\n",
    "Opisem kroku (1) - i tego jak znajdywać tą początkową bazę - zajmiemy się troszeczkę później."
   ]
  },
  {
   "cell_type": "code",
   "execution_count": 13,
   "id": "98e1542f",
   "metadata": {},
   "outputs": [],
   "source": [
    "# --- Rdzeń Algorytmu Simplex (Faza II) ---\n",
    "def simplex_core(A_hat, b, c_hat, B_cols = None, return_more=False, tol=1e-9, draw_tableaus=False):\n",
    "    \"\"\"\n",
    "    Ta funkcja jest implementacją powyżej przedstawionego pseudokodu (z wykładu), realizującą fazę II algorytu Simplex.\n",
    "    Więcej o tym, że algorytm Simplex w ogólności implementuje się dwu-fazowo, później.\n",
    "\n",
    "    Ta funkcja przyjmuje następujące argumenty (według notacji bezpośrednio powyżej, z postaci kanonicznej):\n",
    "    - A_hat: macierz lewych stron ograniczeń (m x n_hat)\n",
    "    - b: wektor prawych stron ograniczeń (m x 1)\n",
    "    - c_hat: wektor współczynników celu (n_hat x 1)\n",
    "    - B_cols: lista indeksów kolumn bazy --> TO JEST WAŻNE! WYWOŁUJĄC TĄ FUNKCJĘ JUŻ MUSIMY WIEDZIEĆ, KTÓRE KOLUMNY MACIERZY a_hat TWORZĄ BAZĘ (MACIERZ BAZOWĄ B)\n",
    "    - return_more: jeśli True, zwracamy również wartość funkcji celu i końcową bazę (w sensie numerów kolumn)\n",
    "    - tol: tolerancja dla sprawdzania optymalności i unikania dzielenia przez 0 - zmienna typowo do \"czysto technicznych celów obliczeń numerycznych\"\n",
    "    \"\"\"\n",
    "    m, n_hat = A_hat.shape\n",
    "\n",
    "    # Inicjalizujemy macierz bazową (bazę)\n",
    "    if B_cols is None:\n",
    "        found_basis = False #flaga pomocnicza\n",
    "        for candidate in combinations(range(n_hat), m):\n",
    "            M_candidate = A_hat[:, candidate]\n",
    "            # Sprawdzamy, czy macierz kandydata ma pełną rangę\n",
    "            if np.linalg.matrix_rank(M_candidate) < m:\n",
    "                continue\n",
    "            # Rozwiązujemy układ M_candidate * x_B = b\n",
    "            xB_candidate = np.linalg.solve(M_candidate, b)\n",
    "            # Uznajemy bazę, gdy rozwiązanie jest dopuszczalne (każdy element >= -tol)\n",
    "            if np.all(xB_candidate >= -tol):\n",
    "                B = list(candidate)\n",
    "                found_basis = True\n",
    "                break\n",
    "        if not found_basis:\n",
    "            raise Exception(\"Nie znaleziono poprawnej bazy, która daje dopuszczalne rozwiązanie.\")\n",
    "    else:\n",
    "        B = list(B_cols)\n",
    "    \n",
    "    # Inicjalizujemy wektor x (n_hat x 1) jako wektor zer\n",
    "    x = np.zeros((n_hat, 1))\n",
    "\n",
    "    iteration = 0\n",
    "    while True:\n",
    "        # 1) Rozwiązanie układu B x_B = b, gdzie B = A_hat[:, B], tzn. wyznaczenie rozwiązania bazowego x_B --> nie odwracamy macierzy bazowej wprost dla stabilności numerycznej\n",
    "        #Z pseudokodu powyżej krok nr 1 --> dana jest baza B, że x_B = B^-1 * b >= 0\n",
    "        M = A_hat[:, B]                        # macierz bazowa (m x m)\n",
    "        xB = np.linalg.solve(M, b).flatten()   # rozwiązanie x_B (flattowany na wektor długości m)\n",
    "\n",
    "        # 2) Krok typowo programistyczny - musimy \"podmienić\" to rozwiązanie bazowe a na pozostałych pozycjach wstawić zera\n",
    "        x.fill(0)\n",
    "        for i, j in enumerate(B):\n",
    "            x[j, 0] = xB[i]                   # wstawiamy xB na pozycje odpowiadające indeksom bazy\n",
    "\n",
    "        # 3) Obliczenie wektora mnożników sympleksowych λ: (B^T) λ = c_B\n",
    "        #Z pseudokodu powyżej krok nr 2 --> wyznaczyć wektor mnożników sympleksowych\n",
    "        cB = c_hat[B].reshape((m, 1))         # wektor c dla zmiennych bazowych (m x 1)\n",
    "        lamb = np.linalg.solve(M.T, cB).flatten()\n",
    "\n",
    "        # --- Jeżeli draw_tableaus=True, budujemy i drukujemy tablicę ---\n",
    "        if draw_tableaus:\n",
    "            # Obliczamy z_j i c_j - z_j\n",
    "            z_j = (lamb @ A_hat).flatten()\n",
    "            c_vec = c_hat.flatten()\n",
    "            cj_minus_zj = c_vec - z_j\n",
    "\n",
    "            header = f\"\\nIteracja {iteration}\"\n",
    "            print(header)\n",
    "            print(\"-\" * (8 * (n_hat + 3)))\n",
    "\n",
    "            # Wiersz c_j\n",
    "            line_cj = \"    cj  |\"\n",
    "            for j in range(n_hat):\n",
    "                line_cj += f\" {c_vec[j]:>6.2f} \"\n",
    "            print(line_cj)\n",
    "\n",
    "            # Wiersz nagłówków kolumn zmiennych + \"RHS\"\n",
    "            line_vars = \"  j    |\"\n",
    "            for j in range(n_hat):\n",
    "                line_vars += f\"  x{j:<4}\"\n",
    "            line_vars += \"  RHS   |\"     \n",
    "            print(line_vars)\n",
    "            print(\"-\" * (8 * (n_hat + 3)))\n",
    "\n",
    "            # Wiersze odpowiadające zmiennym bazowym\n",
    "            B_inv = np.linalg.inv(M)\n",
    "            BA = B_inv @ A_hat\n",
    "            for i_row, j_base in enumerate(B):\n",
    "                row_coeffs = BA[i_row, :]\n",
    "                line = f\"  {j_base:>3d}  |\"\n",
    "                for j in range(n_hat):\n",
    "                    line += f\" {row_coeffs[j]:>6.2f}\"\n",
    "                line += f\" | {xB[i_row]:>8.2f}\"  # to jest właśnie RHS\n",
    "                print(line)\n",
    "\n",
    "            # Wiersz z_j\n",
    "            print(\"-\" * (8 * (n_hat + 3)))\n",
    "            line_zj = \"  z_j  |\"\n",
    "            for j in range(n_hat):\n",
    "                line_zj += f\" {z_j[j]:>6.2f}\"\n",
    "            line_zj += \" |\"\n",
    "            print(line_zj)\n",
    "\n",
    "            # Wiersz c_j - z_j\n",
    "            line_cj_zj = \"c_j–z_j |\"\n",
    "            for j in range(n_hat):\n",
    "                line_cj_zj += f\" {cj_minus_zj[j]:>6.2f}\"\n",
    "            line_cj_zj += \" |\"\n",
    "            print(line_cj_zj)\n",
    "            print(\"-\" * (8 * (n_hat + 3)))\n",
    "            # ===== koniec rysowania tabeli =====\n",
    "\n",
    "        #Z pseudokodu powyżej krok nr 3 --> wybrać z N taką kolumnę A_k, że p_k = c_k - lamb^T * A_k > 0. Jeśli nie ma, to znaleziono rozwiązanie optymalne\n",
    "        # 4) Obliczenie wskaźników p: p = c_N - λ^T A_N --> robimy to jednak sprytnie, bo za pomocą wektoryzacji\n",
    "        N = [j for j in range(n_hat) if j not in B] # Lista indeksów zmiennych niebazowych\n",
    "        A_N = A_hat[:, N]                     # macierz kolumn niebazowych (m x |N|)\n",
    "        cN = c_hat[N].flatten()               # wektor c dla kolumn niebazowych\n",
    "        p = cN - lamb @ A_N                   # wektor kosztów redukowanych (|N|-wymiarowy)\n",
    "\n",
    "        # 5) Sprawdzamy warunek optymalności: jeśli nie ma p[i] > tol, znaleźliśmy szukane ekstremum funkcji celu\n",
    "        enters = [N[i] for i in range(len(p)) if p[i] > tol]\n",
    "        if not enters:\n",
    "            # brak zmiennych z dodatnim wskaźnikiem p → optymalność\n",
    "            x_opt = x.flatten()\n",
    "            if return_more:\n",
    "                # obliczamy wartość funkcji celu f_opt = c_hat^T x\n",
    "                f_opt = float((c_hat.T @ x).item())\n",
    "                return x_opt, f_opt, sorted([int(elem) for elem in B])         # zwracamy rozwiązanie, wartość celu i bazę (indeksy, tzn. numery, kolumn z których składa się baza)\n",
    "            return x_opt                       # zwracamy tylko rozwiązanie x\n",
    "\n",
    "        # 6) Wybór zmiennej wchodzącej do bazy (zasada Blooma/Blanda: najmniejszy indeks)\n",
    "        e = min(enters)\n",
    "\n",
    "        #Z pseudokodu powyżej krok nr 4 --> wyznaczyć y = B^-1 * A_k\n",
    "        # 7) Obliczenie kierunku dopuszczalnego w przestrzeni zmiennych bazowych y = B^{-1} A[:, e]\n",
    "        y = np.linalg.solve(M, A_hat[:, e].reshape((m, 1))).flatten()\n",
    "\n",
    "        # 8) Test ilorazowy: wybieramy minimalne θ = min{xB[i]/y[i] dla y[i] > tol, i <= m}\n",
    "        #    Jeśli dla wszystkich y[i] ≤ tol, LP jest nieograniczone w kierunku e\n",
    "        ratios = [xB[i] / y[i] if y[i] > tol else np.inf for i in range(m)]\n",
    "        theta = min(ratios)\n",
    "        if theta == np.inf:\n",
    "            # LP nieograniczone → brak ograniczenia od góry dla zmiennej e\n",
    "            raise Exception(\"LP nieograniczone\")\n",
    "\n",
    "        # 9) Wybór zmiennej wychodzącej (Bland): jeśli kilka i ma xB[i]/y[i] = θ, wybieramy tę z najmniejszym indeksem B[i]\n",
    "        leaves = [i for i, val in enumerate(ratios) if abs(val - theta) <= tol]\n",
    "        leave = min(leaves, key=lambda i: B[i])\n",
    "        # Zamieniamy w bazie zmienną z indeksem B[leave] na e\n",
    "        B[leave] = e\n",
    "        # Powtarzamy iterację, aktualizując bazę\n",
    "        iteration += 1"
   ]
  },
  {
   "cell_type": "markdown",
   "id": "15973016",
   "metadata": {},
   "source": [
    "Sprawdźmy na razie samodzielnie, jeszcze bez \"pomocy\" ostatecznej funkcji `simplex_solve_general`, jak wyglądałoby rozwiązanie naszego problemu. \n",
    "\n",
    "Musimy więc sami \"wyprodukować\" macierz $\\hat{A} = [A \\mid I_m]$ oraz wektor $\\hat{\\bf{c}} = [\\bf{c} \\quad 0_m]$."
   ]
  },
  {
   "cell_type": "code",
   "execution_count": 14,
   "id": "e7a40c84",
   "metadata": {},
   "outputs": [
    {
     "data": {
      "text/plain": [
       "array([[ 10.,  20.,   1.,   0.,   0.],\n",
       "       [ 40.,  30.,   0.,   1.,   0.],\n",
       "       [100., 200.,   0.,   0.,   1.]])"
      ]
     },
     "execution_count": 14,
     "metadata": {},
     "output_type": "execute_result"
    }
   ],
   "source": [
    "A_hat = np.hstack([A_ub, np.eye(m)])\n",
    "A_hat"
   ]
  },
  {
   "cell_type": "code",
   "execution_count": 15,
   "id": "a48fcba8",
   "metadata": {},
   "outputs": [
    {
     "data": {
      "text/plain": [
       "(3, 5)"
      ]
     },
     "execution_count": 15,
     "metadata": {},
     "output_type": "execute_result"
    }
   ],
   "source": [
    "A_hat.shape #wymiary: m x n_hat (n_hat = n+m = 2 + 3 = 5)"
   ]
  },
  {
   "cell_type": "code",
   "execution_count": 16,
   "id": "77c5fa59",
   "metadata": {},
   "outputs": [
    {
     "data": {
      "text/plain": [
       "array([[40.],\n",
       "       [50.],\n",
       "       [ 0.],\n",
       "       [ 0.],\n",
       "       [ 0.]])"
      ]
     },
     "execution_count": 16,
     "metadata": {},
     "output_type": "execute_result"
    }
   ],
   "source": [
    "c_hat = np.vstack([c, np.zeros((m,1))])\n",
    "c_hat"
   ]
  },
  {
   "cell_type": "code",
   "execution_count": 17,
   "id": "cce9b88a",
   "metadata": {},
   "outputs": [
    {
     "data": {
      "text/plain": [
       "(5, 1)"
      ]
     },
     "execution_count": 17,
     "metadata": {},
     "output_type": "execute_result"
    }
   ],
   "source": [
    "c_hat.shape #wymiary: n_hat x 1"
   ]
  },
  {
   "cell_type": "code",
   "execution_count": 18,
   "id": "a30da7ec",
   "metadata": {},
   "outputs": [
    {
     "data": {
      "text/plain": [
       "array([[3500.],\n",
       "       [ 980.],\n",
       "       [5600.]])"
      ]
     },
     "execution_count": 18,
     "metadata": {},
     "output_type": "execute_result"
    }
   ],
   "source": [
    "b"
   ]
  },
  {
   "cell_type": "code",
   "execution_count": 19,
   "id": "899a93c5",
   "metadata": {},
   "outputs": [
    {
     "data": {
      "text/plain": [
       "(3, 1)"
      ]
     },
     "execution_count": 19,
     "metadata": {},
     "output_type": "execute_result"
    }
   ],
   "source": [
    "b.shape #wymiary: m x 1"
   ]
  },
  {
   "cell_type": "markdown",
   "id": "4c036e4f",
   "metadata": {},
   "source": [
    "Przyjmujemy bazę:"
   ]
  },
  {
   "cell_type": "code",
   "execution_count": 20,
   "id": "e8087ff4",
   "metadata": {},
   "outputs": [],
   "source": [
    "B_cols = [2,3,4]"
   ]
  },
  {
   "cell_type": "markdown",
   "id": "5f49bea6",
   "metadata": {},
   "source": [
    "No to zobaczmy, jakie będzie rozwiązanie naszego problemu."
   ]
  },
  {
   "cell_type": "code",
   "execution_count": 21,
   "id": "c52c1d18",
   "metadata": {},
   "outputs": [
    {
     "name": "stdout",
     "output_type": "stream",
     "text": [
      "x_opt ze zmiennymi luzu = [   5.6   25.2 2940.     0.     0. ]\n",
      "x_opt bez zmiennych luzu = (x_1, x_2) = [ 5.6 25.2]\n",
      "f_opt = 1484.0\n",
      "B_cols_opt = [0, 1, 2]\n"
     ]
    }
   ],
   "source": [
    "x_opt, f_opt, B_cols_opt = tuple(simplex_core(A_hat,b,c_hat,B_cols,return_more=True,tol=1e-10))\n",
    "print('x_opt ze zmiennymi luzu =', x_opt)\n",
    "print('x_opt bez zmiennych luzu = (x_1, x_2) =', x_opt[:2])\n",
    "print('f_opt =', f_opt)\n",
    "print('B_cols_opt =', B_cols_opt)"
   ]
  },
  {
   "cell_type": "markdown",
   "id": "09889394",
   "metadata": {},
   "source": [
    "Czyli najbardziej opłaca się produkować tygodniowo 5.6l lodów waniliowych i 25.2l czekoladowych - wówczas zysk tygodniowy będzie największy i wyniesie 1484 zł.\n",
    "\n",
    "Zobaczmy porównanie wyników naszego solvera z solverem w bibliotece scipy."
   ]
  },
  {
   "cell_type": "code",
   "execution_count": 22,
   "id": "280f9f52",
   "metadata": {},
   "outputs": [
    {
     "name": "stdout",
     "output_type": "stream",
     "text": [
      "scipy solver linprog - rozwiązanie: [ 5.6 25.2],               wartość funkcji celu: 1484.0\n"
     ]
    }
   ],
   "source": [
    "res = linprog(c=-c, A_ub=A_ub, b_ub=b_ub,\n",
    "                bounds=[(0, None)] * c.shape[0], method='highs')\n",
    "print('scipy solver linprog - rozwiązanie: {},               wartość funkcji celu: {}'.format(res.x, -res.fun))\n",
    "# Uwaga: SciPy dla maksymalizacji przyjmuje -c i zwraca -fun jako wartość celu."
   ]
  },
  {
   "cell_type": "markdown",
   "id": "e8dcfccb",
   "metadata": {},
   "source": [
    "Yeey! Zgadza się! Wychodzi idealnie to samo :)"
   ]
  },
  {
   "cell_type": "markdown",
   "id": "c4450957",
   "metadata": {},
   "source": [
    "Nasza funkcja `simplex_core` ma jeszcze \"umiejętność rysowania tabelek sympleksowych krok po kroku:"
   ]
  },
  {
   "cell_type": "code",
   "execution_count": 23,
   "id": "db69a29c",
   "metadata": {},
   "outputs": [
    {
     "name": "stdout",
     "output_type": "stream",
     "text": [
      "\n",
      "Iteracja 0\n",
      "----------------------------------------------------------------\n",
      "    cj  |  40.00   50.00    0.00    0.00    0.00 \n",
      "  j    |  x0     x1     x2     x3     x4     RHS   |\n",
      "----------------------------------------------------------------\n",
      "    2  |  10.00  20.00   1.00   0.00   0.00 |  3500.00\n",
      "    3  |  40.00  30.00   0.00   1.00   0.00 |   980.00\n",
      "    4  | 100.00 200.00   0.00   0.00   1.00 |  5600.00\n",
      "----------------------------------------------------------------\n",
      "  z_j  |   0.00   0.00   0.00   0.00   0.00 |\n",
      "c_j–z_j |  40.00  50.00   0.00   0.00   0.00 |\n",
      "----------------------------------------------------------------\n",
      "\n",
      "Iteracja 1\n",
      "----------------------------------------------------------------\n",
      "    cj  |  40.00   50.00    0.00    0.00    0.00 \n",
      "  j    |  x0     x1     x2     x3     x4     RHS   |\n",
      "----------------------------------------------------------------\n",
      "    2  |   0.00  12.50   1.00  -0.25   0.00 |  3255.00\n",
      "    0  |   1.00   0.75   0.00   0.03   0.00 |    24.50\n",
      "    4  |   0.00 125.00   0.00  -2.50   1.00 |  3150.00\n",
      "----------------------------------------------------------------\n",
      "  z_j  |  40.00  30.00   0.00   1.00   0.00 |\n",
      "c_j–z_j |   0.00  20.00   0.00  -1.00   0.00 |\n",
      "----------------------------------------------------------------\n",
      "\n",
      "Iteracja 2\n",
      "----------------------------------------------------------------\n",
      "    cj  |  40.00   50.00    0.00    0.00    0.00 \n",
      "  j    |  x0     x1     x2     x3     x4     RHS   |\n",
      "----------------------------------------------------------------\n",
      "    2  |   0.00   0.00   1.00   0.00  -0.10 |  2940.00\n",
      "    0  |   1.00  -0.00   0.00   0.04  -0.01 |     5.60\n",
      "    1  |  -0.00   1.00   0.00  -0.02   0.01 |    25.20\n",
      "----------------------------------------------------------------\n",
      "  z_j  |  40.00  50.00   0.00   0.60   0.16 |\n",
      "c_j–z_j |   0.00   0.00   0.00  -0.60  -0.16 |\n",
      "----------------------------------------------------------------\n",
      "x_opt ze zmiennymi luzu = [   5.6   25.2 2940.     0.     0. ]\n",
      "x_opt bez zmiennych luzu = (x_1, x_2) = [ 5.6 25.2]\n",
      "f_opt = 1484.0\n",
      "B_cols_opt = [0, 1, 2]\n"
     ]
    }
   ],
   "source": [
    "x_opt, f_opt, B_cols_opt = tuple(simplex_core(A_hat,b,c_hat,B_cols,return_more=True,tol=1e-10, draw_tableaus=True))\n",
    "print('x_opt ze zmiennymi luzu =', x_opt)\n",
    "print('x_opt bez zmiennych luzu = (x_1, x_2) =', x_opt[:2])\n",
    "print('f_opt =', f_opt)\n",
    "print('B_cols_opt =', B_cols_opt)"
   ]
  },
  {
   "cell_type": "markdown",
   "id": "b211ac45",
   "metadata": {},
   "source": [
    "Autor poradnika [5] rozrysowuje przykład LP, pokazując właśnie kolejne kroki algorytmu Simplex poprzez rysowanie kolejnych tabelek Simplex:\n",
    "\n",
    "![image.png](projekt_alg_Simplex_zdj/przyklad_yt.png)\n",
    "\n",
    "![image.png](projekt_alg_Simplex_zdj/screen1_poradnik_white.png)"
   ]
  },
  {
   "cell_type": "markdown",
   "id": "ab0e2f91",
   "metadata": {},
   "source": [
    "---\n",
    "\n",
    "Pojawia się naturalne pytanie: w jaki sposób efektywnie wybrać kolumny tworzące początkową macierz bazową? Oczywiście można zastosować tzw. podejście brutalnej siły, polegające na sprawdzeniu wszystkich możliwych kombinacji $m$ kolumn spośród $(n + m)$ kolumn macierzy rozszerzonej $\\hat{A}$ (gdzie $m$ i $n$ oznaczają odpowiednio liczbę równań i zmiennych decyzyjnych w pierwotnym problemie nierównościowym $LP$).\n",
    "\n",
    "Jednakże takie rozwiązanie jest bardzo nieefektywne obliczeniowo – w najgorszym przypadku wymagałoby przeszukania ogromnej liczby kombinacji, co dla dużych i złożonych problemów skutkuje nieakceptowalnym czasem wykonania.\n",
    "\n",
    "Na wykładzie [3] zaproponowano znacznie bardziej eleganckie i praktyczne podejście, pozwalające w sposób inteligentny i konstruktywny wyznaczyć pierwsze dopuszczalne bazowe rozwiązanie – a tym samym wybrać odpowiednie kolumny tworzące początkową macierz bazową $B$, od której można rozpocząć działanie algorytmu Simplex w kierunku znalezienia rozwiązania optymalnego. Poniżej przedstawiamy to podejście w formie pseudokodu.\n",
    "\n",
    "![image.png](projekt_alg_Simplex_zdj/simplex_pseudokod2.png)\n",
    "\n",
    "Możemy więc już zauważyć, że algorytm Simplex zwykle rozwiązuje problem programowania liniowego (podany w postaci nierównościowej) w dwóch etapach:\n",
    "\n",
    "- Faza I – szukamy tzw. rozwiązania bazowego, czyli punktu startowego, od którego zaczniemy właściwe obliczenia. W praktyce sprowadza się to do wybrania odpowiednich kolumn, które utworzą tzw. macierz bazową. Ta faza także może być rozwiązana za pomocą funkcji `simplex_core`. W efekcie wyznaczamy to pierwsze bazowe rozwiązanie dopuszczalne lub stwierdzamy, że problem nie ma rozwiązania.\n",
    "\n",
    "- Faza II – właściwe rozwiązywanie oryginalnego problemu, już przekształconego do postaci równościowej (kanonicznej). Tutaj też wykorzystujemy funkcję `simplex_core`.\n",
    "\n",
    "Końcowa funkcja, czyli `simplex_solve_general`, będzie umiała:\n",
    "\n",
    "- określić, które kolumny tworzą dobrą bazę (na podstawie wyniku z fazy I),\n",
    "\n",
    "- przekształcić pierwotny problem (z ograniczeniami w postaci nierówności) do postaci kanonicznej (czyli z ograniczeniami jako równości), przez dodanie tzw. slacków (zmiennych uzupełniających) lub zmiennych sztucznych.\n",
    "\n",
    "Zanim jednak zaimplementujemy tę główną funkcję, napiszemy jeszcze prostą funkcję pomocniczą, która przygotuje dane potrzebne do fazy I – zgodnie z tym, co pokazano na wcześniejszym slajdzie."
   ]
  },
  {
   "cell_type": "code",
   "execution_count": 24,
   "id": "ad71b482",
   "metadata": {},
   "outputs": [],
   "source": [
    "# --- Funkcja przygotowująca program do rozwiązania fazy I w algorytmie Simplex ---\n",
    "def prepare_phase_I_general(A_le = None, b_le = None, A_ge=None, b_ge=None, A_eq=None, b_eq=None):\n",
    "    \"\"\"\n",
    "    Ta funkcja, podobnie jak simplex_core, również jest funkcją pomocniczą, którą potem wykorzystuje metoda simplex_solve_general.\n",
    "    To co robi ta funkcja, to zwraca dane w gotowej postaci pod fazę I realizacji algorytmu Simplex.\n",
    "    W fazie I maksymalizujemy –∑(zmienne sztuczne), aby znaleźć dopuszczalne rozwiązanie bazowe x_B.\n",
    "\n",
    "    Przyjmuje te same argumenty co preprocess_general_lp:\n",
    "      A_le, b_le – ograniczenia A_le x ≤ b_le,\n",
    "      A_ge, b_ge – ograniczenia A_ge x ≥ b_ge,\n",
    "      A_eq, b_eq – ograniczenia A_eq x = b_eq.\n",
    "\n",
    "    Zwraca:\n",
    "      A_art   – macierz (m_all × (n_orig + 2·m_all)),\n",
    "      b_mod   – wektor (m_all × 1),\n",
    "      c_art   – wektor (n_orig + 2·m_all, 1),\n",
    "      B0      – lista długości m_all z indeksami kolumn sztucznych,\n",
    "      n_orig  – liczba kolumn w A_tmp --> A_tmp to macierz A zwracana przez preprocess_general_lp (po pełnej konwersji ≤, ≥, = na ≤), \n",
    "      m_all   – liczba wierszy w A_tmp\n",
    "    \"\"\"\n",
    "    # 1) Zbieramy wszystkie nierówności w formie A_tmp x ≤ b_tmp. W tym celu wywołujemy preprocess_general_lp(…, return_origin=True),\n",
    "    # dostając na wyjściu: A_tmp, b_tmp, origin_list. W A_tmp mamy wszystkie nierówności w formie „≤” (nawet te, które pierwotnie były „≥” lub „=”), \n",
    "    # natomiast b_tmp to odpowiadające prawe strony (mogą być ujemne lub dodatnie). \n",
    "    A_tmp, b_tmp, origin_list = preprocess_general_lp(\n",
    "        A_le, b_le, A_ge, b_ge, A_eq, b_eq, return_origin=True\n",
    "    )\n",
    "\n",
    "    # 2) Nie ruszamy A_tmp ani b_tmp – tylko wyznaczamy z nich wymiary:\n",
    "    m_all, n_orig = A_tmp.shape\n",
    "\n",
    "    # 3) Konstruujemy I_slack = I_{m_all}  (zwykła macierz jednostkowa, bo każdą nierówność „≤” zamieniamy na równanie przez dodanie slacków),\n",
    "    I_slack = np.eye(m_all)\n",
    "\n",
    "    # 4) Budujemy macierz dla zmiennych sztucznych Ī: bierzemy macierz jednostkową i przekształcamy ją tak, że i-ty jej wiersz mnożyy przez –1 jeżeli b_tmp[i] < 0.\n",
    "    rows_sign = np.where(b_tmp.flatten() >= 0, +1, -1)\n",
    "    I_art_bar = np.diag(rows_sign) \n",
    "\n",
    "    # 5) Składamy pełne A_art = [ A_tmp | I_slack | I_art_bar ]\n",
    "    A_art = np.hstack([A_tmp, I_slack, I_art_bar])\n",
    "    # Czyli wymiary A_art:  m_all × (n_orig + m_all + m_all). \n",
    "\n",
    "    # 6) Wektor prawej strony fazy I to po prostu b_tmp w postaci kolumny\n",
    "    b_mod = b_tmp.reshape(-1, 1)\n",
    "\n",
    "    # 7) Konstruujemy wektor współczynników dla funkcji celu w fazie I\n",
    "    # 7) najpierw n_orig zer (dla x), potem m_all zer (dla s, czyli slacków), potem m_all razy –1 (dla v, czyli zmiennych sztucznych)\n",
    "    # Rrozwiązanie fazy I ma minimalizować ∑ v_i  (czyli maksymalizować –∑ v_i)\n",
    "    c_art = np.vstack([\n",
    "        np.zeros((n_orig + m_all, 1)),   # 0 dla [ x ; slack ]\n",
    "        -np.ones((m_all, 1))             # –1 dla każdej sztucznej v_i\n",
    "    ])\n",
    "\n",
    "    # 8) Baza startowa B0 to wszystkie kolumny związane ze zmiennymi sztucznymi v_i, czyli te o indeksach od n_orig+m_all do n_orig+2*m_all–1\n",
    "    B0 = list(range(n_orig + m_all, n_orig + 2 * m_all))\n",
    "\n",
    "    return A_art, b_mod, c_art, B0, n_orig, m_all"
   ]
  },
  {
   "cell_type": "markdown",
   "id": "143f3b78",
   "metadata": {},
   "source": [
    "Zobaczmy, w jaki sposób będą wyglądały nasze dane, przygotowane do wstawienia do `simplex_core`, aby rozwiązać fazę I."
   ]
  },
  {
   "cell_type": "code",
   "execution_count": 25,
   "id": "2b8dd769",
   "metadata": {},
   "outputs": [],
   "source": [
    "A_art, b_mod, c_art, B0, n_orig, m_all = prepare_phase_I_general(A,b)"
   ]
  },
  {
   "cell_type": "code",
   "execution_count": 26,
   "id": "ba81163c",
   "metadata": {},
   "outputs": [
    {
     "data": {
      "text/plain": [
       "array([[ 10.,  20.,   1.,   0.,   0.,   1.,   0.,   0.],\n",
       "       [ 40.,  30.,   0.,   1.,   0.,   0.,   1.,   0.],\n",
       "       [100., 200.,   0.,   0.,   1.,   0.,   0.,   1.]])"
      ]
     },
     "execution_count": 26,
     "metadata": {},
     "output_type": "execute_result"
    }
   ],
   "source": [
    "A_art"
   ]
  },
  {
   "cell_type": "code",
   "execution_count": 27,
   "id": "4eefdb30",
   "metadata": {},
   "outputs": [
    {
     "data": {
      "text/plain": [
       "array([[3500.],\n",
       "       [ 980.],\n",
       "       [5600.]])"
      ]
     },
     "execution_count": 27,
     "metadata": {},
     "output_type": "execute_result"
    }
   ],
   "source": [
    "b_mod"
   ]
  },
  {
   "cell_type": "code",
   "execution_count": 28,
   "id": "90c2f724",
   "metadata": {},
   "outputs": [
    {
     "data": {
      "text/plain": [
       "array([[ 0.],\n",
       "       [ 0.],\n",
       "       [ 0.],\n",
       "       [ 0.],\n",
       "       [ 0.],\n",
       "       [-1.],\n",
       "       [-1.],\n",
       "       [-1.]])"
      ]
     },
     "execution_count": 28,
     "metadata": {},
     "output_type": "execute_result"
    }
   ],
   "source": [
    "c_art"
   ]
  },
  {
   "cell_type": "code",
   "execution_count": 29,
   "id": "056d5c70",
   "metadata": {},
   "outputs": [
    {
     "data": {
      "text/plain": [
       "[5, 6, 7]"
      ]
     },
     "execution_count": 29,
     "metadata": {},
     "output_type": "execute_result"
    }
   ],
   "source": [
    "B0"
   ]
  },
  {
   "cell_type": "code",
   "execution_count": 30,
   "id": "9c2139d5",
   "metadata": {},
   "outputs": [
    {
     "data": {
      "text/plain": [
       "2"
      ]
     },
     "execution_count": 30,
     "metadata": {},
     "output_type": "execute_result"
    }
   ],
   "source": [
    "n_orig"
   ]
  },
  {
   "cell_type": "code",
   "execution_count": 31,
   "id": "4d36b518",
   "metadata": {},
   "outputs": [
    {
     "data": {
      "text/plain": [
       "3"
      ]
     },
     "execution_count": 31,
     "metadata": {},
     "output_type": "execute_result"
    }
   ],
   "source": [
    "m_all"
   ]
  },
  {
   "cell_type": "code",
   "execution_count": 32,
   "id": "81d67864",
   "metadata": {},
   "outputs": [],
   "source": [
    "x1, f1, B1 = simplex_core(A_art, b_mod, c_art, B0, return_more=True)\n",
    "if abs(f1) > 1e-9:\n",
    "    raise Exception(\"Brak dopuszczalnego rozwiązania (faza I)\")"
   ]
  },
  {
   "cell_type": "code",
   "execution_count": 33,
   "id": "f2b6e8a3",
   "metadata": {},
   "outputs": [
    {
     "data": {
      "text/plain": [
       "array([   5.6,   25.2, 2940. ,    0. ,    0. ,    0. ,    0. ,    0. ])"
      ]
     },
     "execution_count": 33,
     "metadata": {},
     "output_type": "execute_result"
    }
   ],
   "source": [
    "x1"
   ]
  },
  {
   "cell_type": "code",
   "execution_count": 34,
   "id": "a6ce0b45",
   "metadata": {},
   "outputs": [
    {
     "data": {
      "text/plain": [
       "0.0"
      ]
     },
     "execution_count": 34,
     "metadata": {},
     "output_type": "execute_result"
    }
   ],
   "source": [
    "f1"
   ]
  },
  {
   "cell_type": "code",
   "execution_count": 35,
   "id": "e7edce73",
   "metadata": {},
   "outputs": [
    {
     "data": {
      "text/plain": [
       "[0, 1, 2]"
      ]
     },
     "execution_count": 35,
     "metadata": {},
     "output_type": "execute_result"
    }
   ],
   "source": [
    "B1 #kolumny, które należałoby użyć, aby skonstruować bazę"
   ]
  },
  {
   "cell_type": "markdown",
   "id": "13e144bc",
   "metadata": {},
   "source": [
    "No to zaimplementujmy tą ostateczną funkcję `simplex_solve` i zobaczy, czy ta ostateczna funkcja radzi sobie z rozwiązaniem tego problemu, za pomocą jednego odwołania tylko do niej, czy robi sobie wszysko sama i sobie radzi, od A do Z."
   ]
  },
  {
   "cell_type": "code",
   "execution_count": 36,
   "id": "6fdc8bdc",
   "metadata": {},
   "outputs": [],
   "source": [
    "def simplex_solve_general(A_le=None, b_le=None, c=None, A_ge=None, b_ge=None, A_eq=None, b_eq=None, return_more=False, tol=1e-9):\n",
    "    \"\"\"\n",
    "    Ta funkcja rozwiązuje problem LP w postaci max c^T x przy mieszanych ograniczeniach:\n",
    "      A_le x ≤ b_le, A_ge x ≥ b_ge, A_eq x = b_eq, x ≥ 0.\n",
    "\n",
    "    Przyjmuje te same argumenty co preprocess_general_lp:\n",
    "      A_le, b_le – ograniczenia A_le x ≤ b_le,\n",
    "      A_ge, b_ge – ograniczenia A_ge x ≥ b_ge,\n",
    "      A_eq, b_eq – ograniczenia A_eq x = b_eq.\n",
    "    Poza tym przyjmuje argument typu bool o nazwie return_more.\n",
    "    Poza tym przyjmuje argument o nazwie tol: tolerancja dla sprawdzania optymalności i unikania dzielenia przez 0 - zmienna typowo do \"czysto technicznych celów obliczeń numerycznych\".\n",
    "    Argument tol jest przekazywany do funkcji simplex_core.\n",
    "\n",
    "    Zwraca:\n",
    "      x_opt – wektor optymalnych wartości zmiennych (n_orig),\n",
    "      f_opt – wartość funkcji celu w optimum,\n",
    "      B_opt – indeksy kolumn bazy w końcowym rozwiązaniu.\n",
    "\n",
    "    Schemat działania tej funkcji:\n",
    "     1) Faza I: wywołanie prepare_phase_I_general, uruchomienie simplex_core → uzyskanie x1, f1, B1.\n",
    "        Jeżeli abs(f1) > 0 → brak dopuszczalnego rozwiązania LP (wywołanie błędu z tym komunikatem)\n",
    "     2) Budowa modelu fazy II: usunięcie kolumn sztucznych z A_art, skonstruowanie wektora funkcji celu na etapie II\n",
    "     3) Uzupełnienie bazy za pomocą bazy otrzymanej z fazy I (bez sztucznych zmiennych), ewentualne dodanie slacków, \n",
    "        uruchomienie simplex_core fazy II → uzyskanie x2, f2, B2.\n",
    "     4) Zwrócenie x_opt = pierwsze n_orig współrzędnych x2 oraz (jeśli return_more = True) również f_opt = f2, B_opt = B2.\n",
    "    \"\"\"\n",
    "\n",
    "    # ===================== Faza I =====================\n",
    "    # Sprawdzamy i przygotowujemy model LP w fazie I (wprowadzamy zmienne sztuczne, ujednolicamy ograniczenia).\n",
    "    A1, b1, c1, B1, n_orig, m_all = prepare_phase_I_general(A_le, b_le, A_ge, b_ge, A_eq, b_eq)\n",
    "\n",
    "    # Uruchamiamy rdzeń algorytmu Simplex na modelu fazy I, aby znaleźć pierwsze bazowe rozwiązanie dopuszczalne.\n",
    "    x1, f1, B1 = simplex_core(A1, b1, c1, B1, return_more=True, tol=tol)\n",
    "\n",
    "    # Sprawdzamy, czy wartość funkcji celu dla fazy I jest w granicach tolerancji (powinna wynosić zero).\n",
    "    if abs(f1) > tol:\n",
    "        # Jeśli wartość jest różna od zera, to problem nie ma rozwiązania dopuszczalnego.\n",
    "        raise Exception(\"LP nie ma dopuszczalnych rozwiązań.\")\n",
    "\n",
    "    # ===================== Faza II =====================\n",
    "    # Sprawdzamy pełną macierz zawierającą zmienne oryginalne, slacki i sztuczne.\n",
    "    A2 = A1.copy()\n",
    "    b1_mod = b1.copy()\n",
    "\n",
    "    # Sprawdzamy liczbę wszystkich zmiennych i ustalamy na której pozycji zaczynają się sztuczne.\n",
    "    total_vars = A1.shape[1]\n",
    "    artificial_start = n_orig + m_all\n",
    "\n",
    "    # Konstruujemy wektor funkcji celu dla fazy II:\n",
    "    #   • dla zmiennych oryginalnych stosujemy podane c,\n",
    "    #   • dla slacków i sztucznych ustawiamy wagi na zero.\n",
    "    c2 = np.vstack([c.reshape((n_orig, 1)), np.zeros((total_vars - n_orig, 1))])\n",
    "\n",
    "    # Próbujemy utworzyć macierz bazy B_mat oraz jej odwrotność – baza pochodzi z fazy I.\n",
    "    try:\n",
    "        B2 = B1.copy()\n",
    "        B2_set = set(B2)\n",
    "        B_mat = A2[:, B2]\n",
    "        # Obliczamy odwrotność macierzy bazowej – posłuży nam do testów pivotu.\n",
    "        B_mat_inv = np.linalg.inv(B_mat)\n",
    "    except np.linalg.LinAlgError:\n",
    "        # Jeśli baza jest osobliwa, w fazie II używamy bazy slacków.\n",
    "        B2 = list(range(n_orig, n_orig + m_all))\n",
    "        B2_set = set(B2)\n",
    "        B_mat = A2[:, B2]\n",
    "        B_mat_inv = np.linalg.inv(B_mat)\n",
    "\n",
    "    # Inicjujemy indeks wiersza w bazie\n",
    "    i = 0\n",
    "    while i < len(B2):\n",
    "        base_col = B2[i]\n",
    "\n",
    "        # Sprawdzamy, czy kolumna bazowa jest zmienną sztuczną (indeks >= artificial_start).\n",
    "        if base_col >= artificial_start:\n",
    "            pushed = False  # flaga: czy udało się wypchnąć daną sztuczną zmienną\n",
    "\n",
    "            # Przeglądamy wszystkie zmienne oryginalne i slacki (indeksy < n_orig + m_all).\n",
    "            for j in range(n_orig + m_all):\n",
    "                if j in B2_set:\n",
    "                    # Pomijamy kolumny, które już są w bazie.\n",
    "                    continue\n",
    "\n",
    "                # Obliczamy y_ij = (B_mat_inv @ A2[:, j])[i]\n",
    "                # To jest współczynnik w i-tym wierszu odpowiadający kolumnie j.\n",
    "                y_ij = (B_mat_inv @ A2[:, j])[i]\n",
    "\n",
    "                # Jeśli wartość absolutna y_ij jest większa od tol, to pivotujemy.\n",
    "                if abs(y_ij) > tol:\n",
    "                    # Usuwamy bieżącą sztuczną zmienną z zestawu i z listy B2.\n",
    "                    B2_set.remove(base_col)\n",
    "                    # Dodajemy kolumnę j do bazy.\n",
    "                    B2_set.add(j)\n",
    "                    B2[i] = j\n",
    "                    pushed = True\n",
    "\n",
    "                    # Rekalkulujemy macierz bazową i jej odwrotność,\n",
    "                    # ponieważ baza się zmieniła.\n",
    "                    B_mat = A2[:, B2]\n",
    "                    B_mat_inv = np.linalg.inv(B_mat)\n",
    "                    break  # zakończamy przeszukiwanie w celu wypchnięcia\n",
    "\n",
    "            # Jeśli nie znaleźliśmy żadnego j z y_ij ≠ 0, to wiersz jest liniowo zależny.\n",
    "            if not pushed:\n",
    "                # Usuwamy i-ty wiersz z A2 (ograniczenie nie wnosi nic nowego).\n",
    "                A2 = np.delete(A2, i, axis=0)\n",
    "                # Usuwamy odpowiadający element z wektora b1_mod.\n",
    "                b1_mod = np.delete(b1_mod, i, axis=0)\n",
    "                # Usuwamy tę sztuczną zmienną z listy B2.\n",
    "                del B2[i]\n",
    "\n",
    "                # Ponownie aktualizujemy macierz bazową i jej odwrotność po usunięciu wiersza.\n",
    "                B_mat = A2[:, B2]\n",
    "                B_mat_inv = np.linalg.inv(B_mat)\n",
    "\n",
    "                # Nie zwiększamy i – w bieżącej pozycji w B2 jest nowy wiersz, który trzeba sprawdzić.\n",
    "                continue\n",
    "\n",
    "        # Jeśli kolumna nie była sztuczną lub udało się ją wypchnąć, przechodzimy dalej.\n",
    "        i += 1\n",
    "\n",
    "    # Po zakończeniu wypychania usuwamy wszystkie kolumny sztuczne z A2 oraz z c2.\n",
    "    A2 = A2[:, :n_orig + m_all]\n",
    "    c2 = c2[:n_orig + m_all]\n",
    "\n",
    "    # ===================== Rozwiązywanie fazy II =====================\n",
    "    try:\n",
    "        # Uruchamiamy simplex_core na macierzy oczyszczonej z kolumn sztucznych.\n",
    "        x2, f2, B2 = simplex_core(A2, b1_mod, c2, B2, return_more=True, tol=tol)\n",
    "    except Exception as e:\n",
    "        try:\n",
    "            # Jeśli nadal baza jest singlularna, przyjmujemy za bazę slacki.\n",
    "            B2 = list(range(n_orig, n_orig + m_all))\n",
    "            x2, f2, B2 = simplex_core(A2, b1_mod, c2, B2, return_more=True, tol=tol)\n",
    "        except Exception as e:\n",
    "            B2 = None\n",
    "            x2, f2, B2 = simplex_core(A2, b1_mod, c2, B2, return_more=True, tol=tol)\n",
    "\n",
    "    # Wyciągamy z x2 tylko pierwsze n_orig współrzędnych – to są wartości zmiennych oryginalnych.\n",
    "    x_opt = x2[:n_orig].flatten()\n",
    "\n",
    "    if return_more:\n",
    "        return x_opt, f2, B2\n",
    "    else:\n",
    "        return x_opt"
   ]
  },
  {
   "cell_type": "code",
   "execution_count": 37,
   "id": "3da6a0b3",
   "metadata": {},
   "outputs": [],
   "source": [
    "# --- Dwufazowy Simplex (ogólna, ostateczna/końcowa metoda) - WERSJA 2, przed implementacją zabezpieczeń przed szczególnymi przypadkami - POPRAWNA? ---\n",
    "def simplex_solve_general_faster(A_le = None, b_le = None, c = None, A_ge=None, b_ge=None, A_eq=None, b_eq=None, return_more = False, tol = 1e-9):\n",
    "    \"\"\"\n",
    "    Ta funkcja rozwiązuje problem LP w postaci max c^T x przy mieszanych ograniczeniach:\n",
    "      A_le x ≤ b_le, A_ge x ≥ b_ge, A_eq x = b_eq, x ≥ 0.\n",
    "\n",
    "    Przyjmuje te same argumenty co preprocess_general_lp:\n",
    "      A_le, b_le – ograniczenia A_le x ≤ b_le,\n",
    "      A_ge, b_ge – ograniczenia A_ge x ≥ b_ge,\n",
    "      A_eq, b_eq – ograniczenia A_eq x = b_eq.\n",
    "    Poza tym przyjmuje argument typu bool o nazwie return_more.\n",
    "    Poza tym przyjmuje argument o nazwie tol: tolerancja dla sprawdzania optymalności i unikania dzielenia przez 0 - zmienna typowo do \"czysto technicznych celów obliczeń numerycznych\".\n",
    "    Argument tol jest przekazywany do funkcji simplex_core.\n",
    "\n",
    "    Zwraca:\n",
    "      x_opt – wektor optymalnych wartości zmiennych (n_orig),\n",
    "      f_opt – wartość funkcji celu w optimum,\n",
    "      B_opt – indeksy kolumn bazy w końcowym rozwiązaniu.\n",
    "\n",
    "    Schemat działania tej funkcji:\n",
    "     1) Faza I: wywołanie prepare_phase_I_general, uruchomienie simplex_core → uzyskanie x1, f1, B1.\n",
    "        Jeżeli abs(f1) > 0 → brak dopuszczalnego rozwiązania LP (wywołanie błędu z tym komunikatem)\n",
    "     2) Budowa modelu fazy II: usunięcie kolumn sztucznych z A_art, skonstruowanie wektora funkcji celu na etapie II\n",
    "     3) Uzupełnienie bazy za pomocą bazy otrzymanej z fazy I (bez sztucznych zmiennych), ewentualne dodanie slacków, \n",
    "        uruchomienie simplex_core fazy II → uzyskanie x2, f2, B2.\n",
    "     4) Zwrócenie x_opt = pierwsze n_orig współrzędnych x2 oraz (jeśli return_more = True) również f_opt = f2, B_opt = B2.\n",
    "    \"\"\"\n",
    "    # --- Faza I ---\n",
    "    A1, b1, c1, B1, n_orig, m_all = prepare_phase_I_general(\n",
    "        A_le, b_le, A_ge, b_ge, A_eq, b_eq\n",
    "    )\n",
    "    x1, f1, B1 = simplex_core(A1, b1, c1, B1, return_more=True, tol=tol)\n",
    "    if abs(f1) > tol:\n",
    "        raise Exception(\"LP nie ma dopuszczalnych rozwiązań.\")\n",
    "\n",
    "    # --- Faza II ---\n",
    "    # 1) Usuwamy kolumny odpowiadające zmiennym sztucznym: zostawiamy tylko oryginalne zmienne i slacki\n",
    "    A2 = A1[:, :n_orig + m_all]\n",
    "    # 2) Wektor współczynników funkcji celu w fazie II: [c (dla x); 0 (dla slack)]\n",
    "    c2 = np.vstack([c.reshape((n_orig, 1)), np.zeros((m_all, 1))])\n",
    "\n",
    "    # 3) Pierwotna baza B2 = te kolumny z B1, które są < n_orig+m_all\n",
    "    B2 = [j for j in B1 if j < n_orig + m_all]\n",
    "\n",
    "    # 4) Jeżeli brakuje kolumn (len(B2) < m_all), dopisujemy brakujące z przedziału [n_orig .. n_orig+m_all-1]\n",
    "    if len(B2) < m_all:\n",
    "        candidates = [j for j in range(n_orig, n_orig + m_all) if j not in B2]\n",
    "        for j in candidates:\n",
    "            B2.append(j)\n",
    "            if len(B2) == m_all:\n",
    "                break\n",
    "        # Uwaga: nie nadpisujemy B2 jako pełnego range dla slacków tak \"po prostu\" – tylko uzupełniamy jakby brakujące wymiary\n",
    "\n",
    "    # 5) Wywołujemy simplex_core dla fazy II z tą bazą i z tol\n",
    "    try:\n",
    "        x2, f2, B2 = simplex_core(A2, b1, c2, B2, return_more=True, tol=tol)\n",
    "    except:\n",
    "        B2 = list(range(n_orig, n_orig + m_all))\n",
    "        x2, f2, B2 = simplex_core(A2, b1, c2, B2, return_more=True, tol=tol)\n",
    "        \n",
    "    x_opt = x2[:n_orig].flatten()\n",
    "\n",
    "    if return_more:\n",
    "        return x_opt, f2, B2\n",
    "    else:\n",
    "        return x_opt"
   ]
  },
  {
   "cell_type": "markdown",
   "id": "b0dfeebb",
   "metadata": {},
   "source": [
    "Sprawdźmy działanie całościowej wersji:"
   ]
  },
  {
   "cell_type": "code",
   "execution_count": 38,
   "id": "2b3fb25f",
   "metadata": {},
   "outputs": [
    {
     "data": {
      "text/plain": [
       "array([ 5.6, 25.2])"
      ]
     },
     "execution_count": 38,
     "metadata": {},
     "output_type": "execute_result"
    }
   ],
   "source": [
    "simplex_result = simplex_solve_general(A,b,c)\n",
    "simplex_result #zgadza się z wynikiem z poradnika"
   ]
  },
  {
   "cell_type": "code",
   "execution_count": 39,
   "id": "3b45912b",
   "metadata": {},
   "outputs": [
    {
     "name": "stdout",
     "output_type": "stream",
     "text": [
      "x_opt = [ 5.6 25.2]\n",
      "\n",
      "f_opt = 1484.0\n",
      "\n",
      "B_col_nrs_from_A_opt = [0, 1, 2]\n"
     ]
    }
   ],
   "source": [
    "x_opt, f_opt, B_col_nrs_from_A_opt = tuple(simplex_solve_general(A,b,c, return_more=True))\n",
    "\n",
    "#zgadza się z wynikami z poradnika\n",
    "print(\"x_opt =\", x_opt)\n",
    "print()\n",
    "print(\"f_opt =\", f_opt)\n",
    "print()\n",
    "print(\"B_col_nrs_from_A_opt =\", B_col_nrs_from_A_opt)"
   ]
  },
  {
   "cell_type": "markdown",
   "id": "dcf9946f",
   "metadata": {},
   "source": [
    "--- \n",
    "\n",
    "Przyjrzyjmy się jeszcze troszkę uważniej fazie I, z formalnego punktu widzenia. W szczególności, uwagę zwrócimy na to, co może podczas rozwiązywania danego problemu LP metodą Simplex, pójść \"nie tak\".\n",
    "\n",
    "Warto podkreślić, że w powyższym pseudokodzie macierz $A$ właściwie przy naszych wcześniejszych oznaczeniach jest macierzą $\\hat{A}$, podobnie wektor $\\bf{x}$ jest właściwie wektorem $\\bf{\\hat{x}}$.\n",
    "\n",
    "Niech $[\\bf{x}, v]^T$ będzie rozwiązaniem optymalnym problemu wspomnianego w tym pseudokodzie. Mamy trzy możliwości:\n",
    "\n",
    "1. $-\\mathop{\\sum}\\limits_{i = 1}^{m} v_i < 0$, wówczas istnieje co najmniej jedna sztuczna zmienna o wartości dodatniej. Wówczas wyjściowy problem $LP$ nie ma rozwiązań.\n",
    "\n",
    "Pokażmy przykład takiego problemu $LP$:"
   ]
  },
  {
   "cell_type": "code",
   "execution_count": 40,
   "id": "00396c27",
   "metadata": {},
   "outputs": [],
   "source": [
    "# -1 * x1 - 1 * x2 -> max\n",
    "# przy ograniczeniach\n",
    "# x1 + x2 <= 1 --> typu \"le\"\n",
    "# x1 + x2 >= 3 --> typu \"ge\"\n",
    "# x1, x2 >= 0\n",
    "\n",
    "A_przykl1_le = np.array([[1,1]]).astype(float)\n",
    "b_przykl1_le = np.array([[1]]).astype(float)\n",
    "\n",
    "A_przykl1_ge = np.array([[1,1]]).astype(float)\n",
    "b_przykl1_ge = np.array([[3]]).astype(float)\n",
    "\n",
    "A_przykl1, b_przykl1, origin_list_przykl1 = preprocess_general_lp(A_przykl1_le, b_przykl1_le, A_przykl1_ge, b_przykl1_ge, return_origin=True)"
   ]
  },
  {
   "cell_type": "code",
   "execution_count": 41,
   "id": "9d14ebb6",
   "metadata": {},
   "outputs": [
    {
     "data": {
      "text/plain": [
       "array([[ 1.,  1.],\n",
       "       [-1., -1.]])"
      ]
     },
     "execution_count": 41,
     "metadata": {},
     "output_type": "execute_result"
    }
   ],
   "source": [
    "A_przykl1"
   ]
  },
  {
   "cell_type": "code",
   "execution_count": 42,
   "id": "e96f8bb0",
   "metadata": {},
   "outputs": [
    {
     "data": {
      "text/plain": [
       "array([[ 1.],\n",
       "       [-3.]])"
      ]
     },
     "execution_count": 42,
     "metadata": {},
     "output_type": "execute_result"
    }
   ],
   "source": [
    "b_przykl1.reshape(-1,1)"
   ]
  },
  {
   "cell_type": "code",
   "execution_count": 43,
   "id": "8a2453b7",
   "metadata": {},
   "outputs": [
    {
     "data": {
      "text/plain": [
       "array([[-1],\n",
       "       [-1]])"
      ]
     },
     "execution_count": 43,
     "metadata": {},
     "output_type": "execute_result"
    }
   ],
   "source": [
    "c_przykl1 = np.array([[-1],\n",
    "                      [-1]])\n",
    "c_przykl1"
   ]
  },
  {
   "cell_type": "markdown",
   "id": "dc0c1c27",
   "metadata": {},
   "source": [
    "Zobaczmy wyniki fazy I:"
   ]
  },
  {
   "cell_type": "code",
   "execution_count": 44,
   "id": "80527d76",
   "metadata": {},
   "outputs": [],
   "source": [
    "A_art_przykl1, b_mod_przykl1, c_art_przykl1, B0_przykl1, n_orig_przykl1, m_all_przykl1 = prepare_phase_I_general(A_przykl1,b_przykl1)"
   ]
  },
  {
   "cell_type": "code",
   "execution_count": 45,
   "id": "7885175f",
   "metadata": {},
   "outputs": [
    {
     "data": {
      "text/plain": [
       "array([[ 1.,  1.,  1.,  0.,  1.,  0.],\n",
       "       [-1., -1.,  0.,  1.,  0., -1.]])"
      ]
     },
     "execution_count": 45,
     "metadata": {},
     "output_type": "execute_result"
    }
   ],
   "source": [
    "A_art_przykl1"
   ]
  },
  {
   "cell_type": "code",
   "execution_count": 46,
   "id": "57f76f28",
   "metadata": {},
   "outputs": [
    {
     "data": {
      "text/plain": [
       "array([[ 1.],\n",
       "       [-3.]])"
      ]
     },
     "execution_count": 46,
     "metadata": {},
     "output_type": "execute_result"
    }
   ],
   "source": [
    "b_mod_przykl1"
   ]
  },
  {
   "cell_type": "code",
   "execution_count": 47,
   "id": "bace5523",
   "metadata": {},
   "outputs": [
    {
     "data": {
      "text/plain": [
       "array([[ 0.],\n",
       "       [ 0.],\n",
       "       [ 0.],\n",
       "       [ 0.],\n",
       "       [-1.],\n",
       "       [-1.]])"
      ]
     },
     "execution_count": 47,
     "metadata": {},
     "output_type": "execute_result"
    }
   ],
   "source": [
    "c_art_przykl1"
   ]
  },
  {
   "cell_type": "code",
   "execution_count": 48,
   "id": "8093ca0c",
   "metadata": {},
   "outputs": [
    {
     "data": {
      "text/plain": [
       "[4, 5]"
      ]
     },
     "execution_count": 48,
     "metadata": {},
     "output_type": "execute_result"
    }
   ],
   "source": [
    "B0_przykl1"
   ]
  },
  {
   "cell_type": "code",
   "execution_count": 49,
   "id": "660d8c44",
   "metadata": {},
   "outputs": [
    {
     "data": {
      "text/plain": [
       "2"
      ]
     },
     "execution_count": 49,
     "metadata": {},
     "output_type": "execute_result"
    }
   ],
   "source": [
    "n_orig_przykl1"
   ]
  },
  {
   "cell_type": "code",
   "execution_count": 50,
   "id": "e1f1a041",
   "metadata": {},
   "outputs": [
    {
     "data": {
      "text/plain": [
       "2"
      ]
     },
     "execution_count": 50,
     "metadata": {},
     "output_type": "execute_result"
    }
   ],
   "source": [
    "m_all_przykl1"
   ]
  },
  {
   "cell_type": "code",
   "execution_count": 51,
   "id": "473d0670",
   "metadata": {},
   "outputs": [
    {
     "name": "stdout",
     "output_type": "stream",
     "text": [
      "Brak dopuszczalnego rozwiązania (faza I)\n"
     ]
    }
   ],
   "source": [
    "x1_przykl1, f1_przykl1, B1_przykl1 = simplex_core(A_art_przykl1, b_mod_przykl1, c_art_przykl1, B0_przykl1, return_more=True)\n",
    "if abs(f1_przykl1) > 1e-9:\n",
    "    print(\"Brak dopuszczalnego rozwiązania (faza I)\")"
   ]
  },
  {
   "cell_type": "code",
   "execution_count": 52,
   "id": "554da474",
   "metadata": {},
   "outputs": [
    {
     "data": {
      "text/plain": [
       "array([1., 0., 0., 0., 0., 2.])"
      ]
     },
     "execution_count": 52,
     "metadata": {},
     "output_type": "execute_result"
    }
   ],
   "source": [
    "x1_przykl1 #jedna ze zmiennych sztucznych jest dodatnia"
   ]
  },
  {
   "cell_type": "code",
   "execution_count": 53,
   "id": "c8ffda88",
   "metadata": {},
   "outputs": [
    {
     "data": {
      "text/plain": [
       "-2.0"
      ]
     },
     "execution_count": 53,
     "metadata": {},
     "output_type": "execute_result"
    }
   ],
   "source": [
    "f1_przykl1 #faktycznie, funkcja celu przyjmuje ujemną wartość"
   ]
  },
  {
   "cell_type": "code",
   "execution_count": 54,
   "id": "1349ace2",
   "metadata": {},
   "outputs": [
    {
     "data": {
      "text/plain": [
       "[0, 5]"
      ]
     },
     "execution_count": 54,
     "metadata": {},
     "output_type": "execute_result"
    }
   ],
   "source": [
    "B1_przykl1"
   ]
  },
  {
   "cell_type": "markdown",
   "id": "07fcace7",
   "metadata": {},
   "source": [
    "W takiej sytuacji wyjściowy problem $LP$ nie posiada rozwiązań. No i ostateczna metoda w tym przypadku nas o tym informuje:"
   ]
  },
  {
   "cell_type": "code",
   "execution_count": 55,
   "id": "08fcdc7c",
   "metadata": {},
   "outputs": [
    {
     "name": "stdout",
     "output_type": "stream",
     "text": [
      "LP nie ma dopuszczalnych rozwiązań.\n"
     ]
    }
   ],
   "source": [
    "try:\n",
    "    simplex_solve_general(A_przykl1, b_przykl1, c_przykl1)\n",
    "except Exception as e:\n",
    "    print(e)"
   ]
  },
  {
   "cell_type": "markdown",
   "id": "b5c23367",
   "metadata": {},
   "source": [
    "2. $-\\mathop{\\sum}\\limits_{i = 1}^{m} v_i = 0$ i żadna ze zmiennych sztucznych nie ma wartości dodatniej. A więc przechodzimy do fazy II i $\\bf{x}$ jest pierwszym bazowym rozwiązaniem dopuszczalnym rozwiązywanego wyjściowo problemu $LP$.\n",
    "\n",
    "Tak było chociażby w przypadku naszych danych w zadaniu o produkcji lodów."
   ]
  },
  {
   "cell_type": "code",
   "execution_count": 56,
   "id": "0c19df03",
   "metadata": {},
   "outputs": [
    {
     "data": {
      "text/plain": [
       "array([ 5.6, 25.2])"
      ]
     },
     "execution_count": 56,
     "metadata": {},
     "output_type": "execute_result"
    }
   ],
   "source": [
    "simplex_solve_general(A, b, c)"
   ]
  },
  {
   "cell_type": "code",
   "execution_count": 57,
   "id": "028e8ad0",
   "metadata": {},
   "outputs": [
    {
     "data": {
      "text/plain": [
       "0.0"
      ]
     },
     "execution_count": 57,
     "metadata": {},
     "output_type": "execute_result"
    }
   ],
   "source": [
    "f1"
   ]
  },
  {
   "cell_type": "code",
   "execution_count": 58,
   "id": "b8848158",
   "metadata": {},
   "outputs": [
    {
     "data": {
      "text/plain": [
       "[0, 1, 2]"
      ]
     },
     "execution_count": 58,
     "metadata": {},
     "output_type": "execute_result"
    }
   ],
   "source": [
    "B1"
   ]
  },
  {
   "cell_type": "code",
   "execution_count": 59,
   "id": "6cd314e2",
   "metadata": {},
   "outputs": [
    {
     "data": {
      "text/plain": [
       "array([[ 10.,  20.,   1.,   0.,   0.],\n",
       "       [ 40.,  30.,   0.,   1.,   0.],\n",
       "       [100., 200.,   0.,   0.,   1.]])"
      ]
     },
     "execution_count": 59,
     "metadata": {},
     "output_type": "execute_result"
    }
   ],
   "source": [
    "A_hat"
   ]
  },
  {
   "cell_type": "markdown",
   "id": "92fc2118",
   "metadata": {},
   "source": [
    "3. $-\\mathop{\\sum}\\limits_{i = 1}^{m} v_i = 0$ i żadna ze zmiennych sztucznych nie ma wartości dodatniej, ale istnieje co najmniej jedna sztuczna zmienna, która jest zmienną bazową, oznaczmy ją przez $v_{i_\\star}$. Oczywiście więc $v_{i_\\star} = 0$ oraz $i_\\star \\in \\{ 1, \\ldots, m \\}$.\n",
    "\n",
    "Stosujemy wówczas trick, zwany `wypychaniem` zmiennych sztucznych.\n",
    "\n",
    "Szukamy zmiennej niebazowej $x_k$ (a więc $x_k = 0$), dla której $y_{i\\star}^k \\not = 0$. \n",
    "\n",
    "Zmienna $x_k$ wchodzi do bazy, natomiast zmienna $v_{i_\\star} = 0$ wychodzi z bazy. Wówczas $\\bar{\\Theta}_k = 0$. Przez to, że $\\bar{\\Theta}_k = 0$, wartość funkcji celu się nie zmienia, ale eliminujemy zmienną sztuczną $v_{i\\star}$.\n",
    "\n",
    "Proces ten powtarzamy, aż wszystkie zmienne sztuczne nie będą zmiennymi bazowymi. \n",
    "\n",
    "Otrzymane po takich przekształceniach rozwiązanie $\\bf{x}$ będzie bazowym rozwiązaniem dopuszczalnym, ale zdegenerowanym (tzn. zawierającym zera na co najmniej jednej współrzędnej - z prostej przyczyny, bo włączamy do rozwiązania zmiennie niebazowe - ale już przynajmniej nie sztuczne)."
   ]
  },
  {
   "cell_type": "code",
   "execution_count": 60,
   "id": "8250415c",
   "metadata": {},
   "outputs": [],
   "source": [
    "# x1 -> max\n",
    "# przy ograniczeniach\n",
    "# x1 = 1\n",
    "# x1 + x2 = 1\n",
    "# x1, x2 >= 0\n",
    "\n",
    "A_przykl2_eq = np.array([[1,0],\n",
    "                         [1,1]]).astype(float)\n",
    "b_przykl2_eq = np.array([[1],\n",
    "                         [1]]).astype(float)\n",
    "\n",
    "A_przykl2, b_przykl2, origin_list_przykl2 = preprocess_general_lp(A_eq=A_przykl2_eq, b_eq=b_przykl2_eq, return_origin=True)"
   ]
  },
  {
   "cell_type": "code",
   "execution_count": 61,
   "id": "4c88aad3",
   "metadata": {},
   "outputs": [
    {
     "data": {
      "text/plain": [
       "array([[ 1.,  0.],\n",
       "       [-1., -0.],\n",
       "       [ 1.,  1.],\n",
       "       [-1., -1.]])"
      ]
     },
     "execution_count": 61,
     "metadata": {},
     "output_type": "execute_result"
    }
   ],
   "source": [
    "A_przykl2"
   ]
  },
  {
   "cell_type": "code",
   "execution_count": 62,
   "id": "0915d4d4",
   "metadata": {},
   "outputs": [
    {
     "data": {
      "text/plain": [
       "np.int64(2)"
      ]
     },
     "execution_count": 62,
     "metadata": {},
     "output_type": "execute_result"
    }
   ],
   "source": [
    "np.linalg.matrix_rank(A_przykl2) #macierz A jest pełnego rzędu"
   ]
  },
  {
   "cell_type": "code",
   "execution_count": 63,
   "id": "3c7d73db",
   "metadata": {},
   "outputs": [
    {
     "data": {
      "text/plain": [
       "array([[ 1.],\n",
       "       [-1.],\n",
       "       [ 1.],\n",
       "       [-1.]])"
      ]
     },
     "execution_count": 63,
     "metadata": {},
     "output_type": "execute_result"
    }
   ],
   "source": [
    "b_przykl2.reshape(-1,1)"
   ]
  },
  {
   "cell_type": "code",
   "execution_count": 64,
   "id": "b768f2ab",
   "metadata": {},
   "outputs": [
    {
     "data": {
      "text/plain": [
       "['eq', 'eq', 'eq', 'eq']"
      ]
     },
     "execution_count": 64,
     "metadata": {},
     "output_type": "execute_result"
    }
   ],
   "source": [
    "origin_list_przykl2"
   ]
  },
  {
   "cell_type": "code",
   "execution_count": 65,
   "id": "4490f055",
   "metadata": {},
   "outputs": [],
   "source": [
    "c_przykl2 = np.array([[1],\n",
    "                      [0]])"
   ]
  },
  {
   "cell_type": "code",
   "execution_count": 66,
   "id": "f82ad4bd",
   "metadata": {},
   "outputs": [],
   "source": [
    "A_art_przykl2, b_mod_przykl2, c_art_przykl2, B0_przykl2, n_orig_przykl2, m_all_przykl2 = prepare_phase_I_general(A_przykl2,b_przykl2)"
   ]
  },
  {
   "cell_type": "code",
   "execution_count": 67,
   "id": "76219bca",
   "metadata": {},
   "outputs": [
    {
     "data": {
      "text/plain": [
       "array([[ 1.,  0.,  1.,  0.,  0.,  0.,  1.,  0.,  0.,  0.],\n",
       "       [-1., -0.,  0.,  1.,  0.,  0.,  0., -1.,  0.,  0.],\n",
       "       [ 1.,  1.,  0.,  0.,  1.,  0.,  0.,  0.,  1.,  0.],\n",
       "       [-1., -1.,  0.,  0.,  0.,  1.,  0.,  0.,  0., -1.]])"
      ]
     },
     "execution_count": 67,
     "metadata": {},
     "output_type": "execute_result"
    }
   ],
   "source": [
    "A_art_przykl2"
   ]
  },
  {
   "cell_type": "code",
   "execution_count": 68,
   "id": "ec9be99a",
   "metadata": {},
   "outputs": [
    {
     "data": {
      "text/plain": [
       "np.int64(4)"
      ]
     },
     "execution_count": 68,
     "metadata": {},
     "output_type": "execute_result"
    }
   ],
   "source": [
    "np.linalg.matrix_rank(A_art_przykl2)"
   ]
  },
  {
   "cell_type": "code",
   "execution_count": 69,
   "id": "8c01b120",
   "metadata": {},
   "outputs": [
    {
     "data": {
      "text/plain": [
       "array([[ 1.],\n",
       "       [-1.],\n",
       "       [ 1.],\n",
       "       [-1.]])"
      ]
     },
     "execution_count": 69,
     "metadata": {},
     "output_type": "execute_result"
    }
   ],
   "source": [
    "b_mod_przykl2"
   ]
  },
  {
   "cell_type": "code",
   "execution_count": 70,
   "id": "a5863cba",
   "metadata": {},
   "outputs": [
    {
     "data": {
      "text/plain": [
       "array([[ 0.],\n",
       "       [ 0.],\n",
       "       [ 0.],\n",
       "       [ 0.],\n",
       "       [ 0.],\n",
       "       [ 0.],\n",
       "       [-1.],\n",
       "       [-1.],\n",
       "       [-1.],\n",
       "       [-1.]])"
      ]
     },
     "execution_count": 70,
     "metadata": {},
     "output_type": "execute_result"
    }
   ],
   "source": [
    "c_art_przykl2"
   ]
  },
  {
   "cell_type": "code",
   "execution_count": 71,
   "id": "af6f6f52",
   "metadata": {},
   "outputs": [
    {
     "data": {
      "text/plain": [
       "[6, 7, 8, 9]"
      ]
     },
     "execution_count": 71,
     "metadata": {},
     "output_type": "execute_result"
    }
   ],
   "source": [
    "B0_przykl2"
   ]
  },
  {
   "cell_type": "code",
   "execution_count": 72,
   "id": "5a5b9b3b",
   "metadata": {},
   "outputs": [
    {
     "data": {
      "text/plain": [
       "2"
      ]
     },
     "execution_count": 72,
     "metadata": {},
     "output_type": "execute_result"
    }
   ],
   "source": [
    "n_orig_przykl2"
   ]
  },
  {
   "cell_type": "code",
   "execution_count": 73,
   "id": "f7fb05c6",
   "metadata": {},
   "outputs": [
    {
     "data": {
      "text/plain": [
       "4"
      ]
     },
     "execution_count": 73,
     "metadata": {},
     "output_type": "execute_result"
    }
   ],
   "source": [
    "m_all_przykl2"
   ]
  },
  {
   "cell_type": "code",
   "execution_count": 74,
   "id": "71528404",
   "metadata": {},
   "outputs": [],
   "source": [
    "x1_przykl2, f1_przykl2, B1_przykl2 = simplex_core(A_art_przykl2, b_mod_przykl2, c_art_przykl2, B0_przykl2, return_more=True)\n",
    "if abs(f1_przykl2) > 1e-9:\n",
    "    raise Exception(\"Brak dopuszczalnego rozwiązania (faza I)\")"
   ]
  },
  {
   "cell_type": "code",
   "execution_count": 75,
   "id": "53c2c36d",
   "metadata": {},
   "outputs": [
    {
     "data": {
      "text/plain": [
       "array([ 1.,  0.,  0.,  0.,  0.,  0.,  0., -0.,  0., -0.])"
      ]
     },
     "execution_count": 75,
     "metadata": {},
     "output_type": "execute_result"
    }
   ],
   "source": [
    "x1_przykl2"
   ]
  },
  {
   "cell_type": "code",
   "execution_count": 76,
   "id": "501a0e20",
   "metadata": {},
   "outputs": [
    {
     "data": {
      "text/plain": [
       "0.0"
      ]
     },
     "execution_count": 76,
     "metadata": {},
     "output_type": "execute_result"
    }
   ],
   "source": [
    "f1_przykl2"
   ]
  },
  {
   "cell_type": "code",
   "execution_count": 77,
   "id": "735faf1b",
   "metadata": {},
   "outputs": [
    {
     "data": {
      "text/plain": [
       "[0, 1, 7, 9]"
      ]
     },
     "execution_count": 77,
     "metadata": {},
     "output_type": "execute_result"
    }
   ],
   "source": [
    "B1_przykl2"
   ]
  },
  {
   "cell_type": "code",
   "execution_count": 78,
   "id": "9a16d811",
   "metadata": {},
   "outputs": [
    {
     "data": {
      "text/plain": [
       "array([1., 0.])"
      ]
     },
     "execution_count": 78,
     "metadata": {},
     "output_type": "execute_result"
    }
   ],
   "source": [
    "simplex_solve_general(A_eq=A_przykl2_eq, b_eq=b_przykl2_eq, c = c_przykl2)"
   ]
  },
  {
   "cell_type": "markdown",
   "id": "8d62bea0",
   "metadata": {},
   "source": [
    "Powyższy proces \"wypychania\" zmiennnej sztucznej $v_{i\\star}$ nie powiedzie się tylko, jeśli $y_{i_\\star}^k = 0$ dla wszystkich kolumn odpowiadających zmiennym niesztucznym.\n",
    "\n",
    "Ale to oznaczałoby, że istnieją przekształcenia elementarne zerujące wiersz $i_\\star$ w oryginalnej macierzy $\\hat{A}$, a więc $\\mathop{\\text{rank}} \\hat{A} < m$. \n",
    "\n",
    "W takim przypadku usuwamy $i_\\star$-ty wiersz z macierzy $\\hat{A}$ (a więc usuwamy $i_\\star$-te ograniczenie, bo jest ono liniowo zależne od pozostałych, więc nic nowego nie wnosi). "
   ]
  },
  {
   "cell_type": "code",
   "execution_count": 79,
   "id": "364f2205",
   "metadata": {},
   "outputs": [],
   "source": [
    "# x1 -> max\n",
    "# przy ograniczeniach\n",
    "# x1 + x2 = 2\n",
    "# 2x1 + 2x2 = 4\n",
    "# x1, x2 >= 0\n",
    "\n",
    "A_przykl3_eq = np.array([[1,1],\n",
    "                         [2,2]]).astype(float)\n",
    "b_przykl3_eq = np.array([[2],\n",
    "                         [4]]).astype(float)\n",
    "\n",
    "A_przykl3, b_przykl3, origin_list_przykl3 = preprocess_general_lp(A_eq=A_przykl3_eq, b_eq=b_przykl3_eq, return_origin=True)"
   ]
  },
  {
   "cell_type": "code",
   "execution_count": 80,
   "id": "78bb2b7e",
   "metadata": {},
   "outputs": [
    {
     "data": {
      "text/plain": [
       "array([[ 1.,  1.],\n",
       "       [-1., -1.],\n",
       "       [ 2.,  2.],\n",
       "       [-2., -2.]])"
      ]
     },
     "execution_count": 80,
     "metadata": {},
     "output_type": "execute_result"
    }
   ],
   "source": [
    "A_przykl3"
   ]
  },
  {
   "cell_type": "code",
   "execution_count": 81,
   "id": "f969a977",
   "metadata": {},
   "outputs": [
    {
     "data": {
      "text/plain": [
       "np.int64(1)"
      ]
     },
     "execution_count": 81,
     "metadata": {},
     "output_type": "execute_result"
    }
   ],
   "source": [
    "np.linalg.matrix_rank(A_przykl3) #tutaj nie mamy pełnego rzędu"
   ]
  },
  {
   "cell_type": "code",
   "execution_count": 82,
   "id": "4e007021",
   "metadata": {},
   "outputs": [
    {
     "data": {
      "text/plain": [
       "array([ 2., -2.,  4., -4.])"
      ]
     },
     "execution_count": 82,
     "metadata": {},
     "output_type": "execute_result"
    }
   ],
   "source": [
    "b_przykl3"
   ]
  },
  {
   "cell_type": "code",
   "execution_count": 83,
   "id": "d5fe7ea5",
   "metadata": {},
   "outputs": [
    {
     "data": {
      "text/plain": [
       "['eq', 'eq', 'eq', 'eq']"
      ]
     },
     "execution_count": 83,
     "metadata": {},
     "output_type": "execute_result"
    }
   ],
   "source": [
    "origin_list_przykl3"
   ]
  },
  {
   "cell_type": "code",
   "execution_count": 84,
   "id": "1779085c",
   "metadata": {},
   "outputs": [],
   "source": [
    "c_przykl3 = np.array([[1],\n",
    "                      [0]])"
   ]
  },
  {
   "cell_type": "code",
   "execution_count": 85,
   "id": "b8964b64",
   "metadata": {},
   "outputs": [],
   "source": [
    "A_art_przykl3, b_mod_przykl3, c_art_przykl3, B0_przykl3, n_orig_przykl3, m_all_przykl3 = prepare_phase_I_general(A_przykl3,b_przykl3)"
   ]
  },
  {
   "cell_type": "code",
   "execution_count": 86,
   "id": "5841b3d4",
   "metadata": {},
   "outputs": [
    {
     "data": {
      "text/plain": [
       "array([[ 1.,  1.,  1.,  0.,  0.,  0.,  1.,  0.,  0.,  0.],\n",
       "       [-1., -1.,  0.,  1.,  0.,  0.,  0., -1.,  0.,  0.],\n",
       "       [ 2.,  2.,  0.,  0.,  1.,  0.,  0.,  0.,  1.,  0.],\n",
       "       [-2., -2.,  0.,  0.,  0.,  1.,  0.,  0.,  0., -1.]])"
      ]
     },
     "execution_count": 86,
     "metadata": {},
     "output_type": "execute_result"
    }
   ],
   "source": [
    "A_art_przykl3"
   ]
  },
  {
   "cell_type": "code",
   "execution_count": 87,
   "id": "c6fd8de7",
   "metadata": {},
   "outputs": [
    {
     "data": {
      "text/plain": [
       "np.int64(4)"
      ]
     },
     "execution_count": 87,
     "metadata": {},
     "output_type": "execute_result"
    }
   ],
   "source": [
    "np.linalg.matrix_rank(A_art_przykl3)"
   ]
  },
  {
   "cell_type": "code",
   "execution_count": 88,
   "id": "4f6f5821",
   "metadata": {},
   "outputs": [
    {
     "data": {
      "text/plain": [
       "array([[ 2.],\n",
       "       [-2.],\n",
       "       [ 4.],\n",
       "       [-4.]])"
      ]
     },
     "execution_count": 88,
     "metadata": {},
     "output_type": "execute_result"
    }
   ],
   "source": [
    "b_mod_przykl3"
   ]
  },
  {
   "cell_type": "code",
   "execution_count": 89,
   "id": "3c68d18c",
   "metadata": {},
   "outputs": [
    {
     "data": {
      "text/plain": [
       "array([[ 0.],\n",
       "       [ 0.],\n",
       "       [ 0.],\n",
       "       [ 0.],\n",
       "       [ 0.],\n",
       "       [ 0.],\n",
       "       [-1.],\n",
       "       [-1.],\n",
       "       [-1.],\n",
       "       [-1.]])"
      ]
     },
     "execution_count": 89,
     "metadata": {},
     "output_type": "execute_result"
    }
   ],
   "source": [
    "c_art_przykl3"
   ]
  },
  {
   "cell_type": "code",
   "execution_count": 90,
   "id": "b996ffec",
   "metadata": {},
   "outputs": [
    {
     "data": {
      "text/plain": [
       "[6, 7, 8, 9]"
      ]
     },
     "execution_count": 90,
     "metadata": {},
     "output_type": "execute_result"
    }
   ],
   "source": [
    "B0_przykl3"
   ]
  },
  {
   "cell_type": "code",
   "execution_count": 91,
   "id": "8129d0c8",
   "metadata": {},
   "outputs": [
    {
     "data": {
      "text/plain": [
       "2"
      ]
     },
     "execution_count": 91,
     "metadata": {},
     "output_type": "execute_result"
    }
   ],
   "source": [
    "n_orig_przykl3"
   ]
  },
  {
   "cell_type": "code",
   "execution_count": 92,
   "id": "423be79f",
   "metadata": {},
   "outputs": [
    {
     "data": {
      "text/plain": [
       "4"
      ]
     },
     "execution_count": 92,
     "metadata": {},
     "output_type": "execute_result"
    }
   ],
   "source": [
    "m_all_przykl3"
   ]
  },
  {
   "cell_type": "code",
   "execution_count": 93,
   "id": "1cbde01d",
   "metadata": {},
   "outputs": [],
   "source": [
    "x1_przykl3, f1_przykl3, B1_przykl3 = simplex_core(A_art_przykl3, b_mod_przykl3, c_art_przykl3, B0_przykl3, return_more=True)\n",
    "if abs(f1_przykl3) > 1e-9:\n",
    "    raise Exception(\"Brak dopuszczalnego rozwiązania (faza I)\")"
   ]
  },
  {
   "cell_type": "code",
   "execution_count": 94,
   "id": "4686bbb7",
   "metadata": {},
   "outputs": [
    {
     "data": {
      "text/plain": [
       "array([ 2.,  0.,  0.,  0.,  0.,  0.,  0., -0.,  0., -0.])"
      ]
     },
     "execution_count": 94,
     "metadata": {},
     "output_type": "execute_result"
    }
   ],
   "source": [
    "x1_przykl3"
   ]
  },
  {
   "cell_type": "code",
   "execution_count": 95,
   "id": "713b6450",
   "metadata": {},
   "outputs": [
    {
     "data": {
      "text/plain": [
       "0.0"
      ]
     },
     "execution_count": 95,
     "metadata": {},
     "output_type": "execute_result"
    }
   ],
   "source": [
    "f1_przykl3"
   ]
  },
  {
   "cell_type": "code",
   "execution_count": 96,
   "id": "f3eb7135",
   "metadata": {},
   "outputs": [
    {
     "data": {
      "text/plain": [
       "[0, 4, 7, 9]"
      ]
     },
     "execution_count": 96,
     "metadata": {},
     "output_type": "execute_result"
    }
   ],
   "source": [
    "B1_przykl3"
   ]
  },
  {
   "cell_type": "code",
   "execution_count": 97,
   "id": "f6a52271",
   "metadata": {},
   "outputs": [
    {
     "data": {
      "text/plain": [
       "array([2., 0.])"
      ]
     },
     "execution_count": 97,
     "metadata": {},
     "output_type": "execute_result"
    }
   ],
   "source": [
    "simplex_solve_general(A_eq=A_przykl3_eq, b_eq=b_przykl3_eq, c = c_przykl3)"
   ]
  },
  {
   "cell_type": "markdown",
   "id": "84d30c0e",
   "metadata": {},
   "source": [
    "Przytaczamy teraz na sam koniec kilka uwag na temat możliwych przyczyn degeneracji rozwiązania z wykładu [1]:\n",
    "\n",
    "![image.png](projekt_alg_Simplex_zdj/degeneracja_tekst.png)\n",
    "\n",
    "Żeby nie wpaść w cykl, stosuje się właśnie powyżej wspomniane:\n",
    "\n",
    "`Twierdzenie 4 (Algorytm Simplex zatrzymuje się)` Załóżmy, że $N_k$ będzie kolumną wchodzącą do bazy wybraną następująco:\n",
    "\n",
    "$$ k = \\mathop{\\text{min}} \\{ j \\colon c_j - z_j > 0, m + 1 \\le j \\le m + n\\}$$\n",
    "\n",
    "oraz w przypadku pojawienia się niejednoznaczności przy zastosowaniu kryterium wyjścia, przyjmiemy jako indeks zmiennej wychodzącej z bazy indeks $i_{\\star}$ będący indeksem o najmniejszej wartości spośród indeksów wyznaczających minimalną wartość ilorazu $\\frac{x_{i_\\star}^B}{y_{i_\\star}^k}$. Wówczas algorytm sympleks skończy działanie w skończonej liczbie kroków.\n",
    "\n",
    "Opisany powyżej sposób wyboru zmiennych (o najmniejszych indeksach) znany jest jako `reguła Bland’a`."
   ]
  },
  {
   "cell_type": "markdown",
   "id": "42f0c236",
   "metadata": {},
   "source": [
    "Na koniec porównanie wyników na jeszcze jednym przykładzie:"
   ]
  },
  {
   "cell_type": "code",
   "execution_count": 98,
   "id": "d6726fa1",
   "metadata": {},
   "outputs": [
    {
     "name": "stdout",
     "output_type": "stream",
     "text": [
      "nasz solver - rozwiązanie:          [3.25 0.75],               wartość funkcji celu: 4.75\n",
      "scipy solver linprog - rozwiązanie: [3.25 0.75],               wartość funkcji celu: 4.75\n"
     ]
    }
   ],
   "source": [
    "# --- PRZYKŁAD PROBLEMU LP z ograniczeniami mieszanych typów <= i >= i == ---\n",
    "# max x1 + 2 x2\n",
    "#   x1 + x2 <= 4\n",
    "#   x1 - x2 >= 2       -->  -x1 + x2 <= -2\n",
    "#   x1 - 3 x2 = 1      -->  równanie\n",
    "\n",
    "# 1) A_le x ≤ b_le\n",
    "A_le = np.array([[1, 1]])    # x₁ + x₂ ≤ 4\n",
    "b_le = np.array([4])\n",
    "# 2) A_ge x ≥ b_ge\n",
    "A_ge = np.array([[1, -1]])   # x₁ − x₂ ≥ 2\n",
    "b_ge = np.array([2])\n",
    "# 3) A_eq x = b_eq\n",
    "A_eq = np.array([[1, -3]])   # x₁ − 3x₂ = 1\n",
    "b_eq = np.array([1])\n",
    "# Wektor współczynników funkcji celu: max (1*x₁ + 2*x₂)\n",
    "c = np.array([1, 2])\n",
    "\n",
    "# Rozwiązanie własnym simplexem dwuetapowym\n",
    "x_sol, f_sol, B_sol = simplex_solve_general(\n",
    "    A_le, b_le, c,\n",
    "    A_ge=A_ge, b_ge=b_ge,\n",
    "    A_eq=A_eq, b_eq=b_eq, return_more=True\n",
    ")\n",
    "print('nasz solver - rozwiązanie:          {},               wartość funkcji celu: {}'.format(x_sol, f_sol))\n",
    "\n",
    "# Porównanie z SciPy (Highs)\n",
    "A_ub, b_ub = preprocess_general_lp(A_le, b_le, A_ge, b_ge, A_eq, b_eq)\n",
    "res = linprog(c=-c, A_ub=A_ub, b_ub=b_ub,\n",
    "                bounds=[(0, None)] * c.shape[0], method='highs')\n",
    "print('scipy solver linprog - rozwiązanie: {},               wartość funkcji celu: {}'.format(res.x, -res.fun))\n",
    "# Uwaga: SciPy dla maksymalizacji przyjmuje -c i zwraca -fun jako wartość celu."
   ]
  },
  {
   "cell_type": "markdown",
   "id": "fcb1baed",
   "metadata": {},
   "source": [
    "---"
   ]
  },
  {
   "cell_type": "markdown",
   "id": "03b3bcef",
   "metadata": {},
   "source": [
    "Inne testy na różnych przypadkach (wszystkie te testy algorytm przechodzi pomyślnie):"
   ]
  },
  {
   "cell_type": "code",
   "execution_count": 99,
   "id": "fbed1ced",
   "metadata": {},
   "outputs": [
    {
     "name": "stdout",
     "output_type": "stream",
     "text": [
      "x_opt = [2. 1.]\n",
      "f_opt = 3.0\n"
     ]
    }
   ],
   "source": [
    "import numpy as np\n",
    "# maximize x1 + x2\n",
    "#  x1 + 2x2 ≤ 4\n",
    "#  4x1 + 2x2 ≥ 6\n",
    "#  x1 - x2  = 1\n",
    "#  x1, x2 ≥ 0\n",
    "A_le = np.array([[1, 2]])\n",
    "b_le = np.array([4])\n",
    "A_ge = np.array([[4, 2]])\n",
    "b_ge = np.array([6])\n",
    "A_eq = np.array([[1, -1]])\n",
    "b_eq = np.array([1])\n",
    "c = np.array([1, 1])\n",
    "x_opt, f_opt, B_opt = simplex_solve_general(A_le, b_le, c, A_ge, b_ge, A_eq, b_eq, return_more=True)\n",
    "print(\"x_opt =\", x_opt)\n",
    "print(\"f_opt =\", f_opt)"
   ]
  },
  {
   "cell_type": "code",
   "execution_count": 100,
   "id": "3d643f47",
   "metadata": {},
   "outputs": [
    {
     "name": "stdout",
     "output_type": "stream",
     "text": [
      "Oczekiwany wyjątek: LP nie ma dopuszczalnych rozwiązań.\n"
     ]
    }
   ],
   "source": [
    "import numpy as np\n",
    "\n",
    "# Ograniczenia ≤:\n",
    "A_le = np.array([[1, 1]])\n",
    "b_le = np.array([1])\n",
    "\n",
    "# Ograniczenia ≥:\n",
    "A_ge = np.array([[1, 1]])\n",
    "b_ge = np.array([3])\n",
    "\n",
    "# Brak równań:\n",
    "A_eq = None\n",
    "b_eq = None\n",
    "\n",
    "# Funkcja celu:\n",
    "c = np.array([1, 1])\n",
    "\n",
    "try:\n",
    "    x_opt = simplex_solve_general(A_le, b_le, c, A_ge, b_ge, A_eq, b_eq)\n",
    "    print(\"Nieoczekiwanie znaleziono rozwiązanie:\", x_opt)\n",
    "except Exception as e:\n",
    "    print(\"Oczekiwany wyjątek:\", e)"
   ]
  },
  {
   "cell_type": "code",
   "execution_count": 101,
   "id": "59ebfe25",
   "metadata": {},
   "outputs": [
    {
     "name": "stdout",
     "output_type": "stream",
     "text": [
      "Oczekiwany wyjątek (lub informacja o nieograniczoności): LP nieograniczone\n"
     ]
    }
   ],
   "source": [
    "import numpy as np\n",
    "\n",
    "# Ograniczenia ≤:\n",
    "A_le = np.array([[1, -1]])\n",
    "b_le = np.array([1])\n",
    "\n",
    "# Bez ograniczeń ≥ i =:\n",
    "A_ge = None\n",
    "b_ge = None\n",
    "A_eq = None\n",
    "b_eq = None\n",
    "\n",
    "# Funkcja celu: max x1 (czyli c = [1, 0])\n",
    "c = np.array([1, 0])\n",
    "\n",
    "try:\n",
    "    x_opt, f_opt, B_opt = simplex_solve_general(A_le, b_le, c, A_ge, b_ge, A_eq, b_eq, return_more=True)\n",
    "    print(\"Znalezione rozwiązanie:\", x_opt, \"f =\", f_opt)\n",
    "    print(\"⟵ To oznacza, że algorytm nie wykrył nieograniczoności.\")\n",
    "except Exception as e:\n",
    "    print(\"Oczekiwany wyjątek (lub informacja o nieograniczoności):\", e)"
   ]
  },
  {
   "cell_type": "code",
   "execution_count": 102,
   "id": "3c2c7401",
   "metadata": {},
   "outputs": [
    {
     "name": "stdout",
     "output_type": "stream",
     "text": [
      "Rozwiązanie: [5. 0.]\n",
      "Wartość funkcji celu: 5.0\n"
     ]
    }
   ],
   "source": [
    "import numpy as np\n",
    "\n",
    "# Ograniczenia ≤:\n",
    "A_le = np.array([[1, 0],\n",
    "                 [2, 0]])\n",
    "b_le = np.array([5, 10])\n",
    "\n",
    "# Ograniczenia ≥:\n",
    "A_ge = np.array([[1, 0]])\n",
    "b_ge = np.array([1])\n",
    "\n",
    "# Brak równań:\n",
    "A_eq = None\n",
    "b_eq = None\n",
    "\n",
    "# Funkcja celu: max x1 (czyli c = [1, 0])\n",
    "c = np.array([1, 0])\n",
    "\n",
    "x_opt, f_opt, B_opt = simplex_solve_general(A_le, b_le, c, A_ge, b_ge, A_eq, b_eq, return_more=True)\n",
    "print(\"Rozwiązanie:\", x_opt)    # spodziewane x1=5, x2=0\n",
    "print(\"Wartość funkcji celu:\", f_opt)"
   ]
  },
  {
   "cell_type": "code",
   "execution_count": 103,
   "id": "e68c9e1c",
   "metadata": {},
   "outputs": [
    {
     "name": "stdout",
     "output_type": "stream",
     "text": [
      "Rozwiązanie: [1. 1.]\n",
      "Wartość celu: 2.0 Baza: [0, 1]\n"
     ]
    }
   ],
   "source": [
    "import numpy as np\n",
    "\n",
    "A_le = np.array([[1, 1],\n",
    "                 [1, 0]])\n",
    "b_le = np.array([2, 1])\n",
    "\n",
    "A_ge = None\n",
    "b_ge = None\n",
    "A_eq = None\n",
    "b_eq = None\n",
    "\n",
    "c = np.array([1, 1])\n",
    "\n",
    "x_opt, f_opt, B_opt = simplex_solve_general(A_le, b_le, c, A_ge, b_ge, A_eq, b_eq, return_more=True)\n",
    "print(\"Rozwiązanie:\", x_opt)    # powinno dać x1=1, x2=1\n",
    "print(\"Wartość celu:\", f_opt, \"Baza:\", B_opt)"
   ]
  },
  {
   "cell_type": "code",
   "execution_count": 104,
   "id": "92177173",
   "metadata": {},
   "outputs": [
    {
     "name": "stdout",
     "output_type": "stream",
     "text": [
      "Rozwiązanie: [2. 2. 0. 1. 0.]\n",
      "Wartość celu: 50.0 Baza: [0, 1, 3]\n"
     ]
    }
   ],
   "source": [
    "import numpy as np\n",
    "\n",
    "A_le = np.array([[1, 0, 1, 0, 0],\n",
    "                 [0, 1, 0, 1, 0],\n",
    "                 [1, 1, 0, 0, 1]])\n",
    "b_le = np.array([2, 3, 4])\n",
    "\n",
    "A_ge = None\n",
    "b_ge = None\n",
    "A_eq = None\n",
    "b_eq = None\n",
    "\n",
    "c = np.array([15, 10, 0, 0, 0])\n",
    "\n",
    "x_opt, f_opt, B_opt = simplex_solve_general(A_le, b_le, c, A_ge, b_ge, A_eq, b_eq, return_more=True)\n",
    "print(\"Rozwiązanie:\", x_opt)    # powinno dać (x1,x2, x3, x4, x5) = (2, 2, 0, 1, 0), f_opt = 50\n",
    "print(\"Wartość celu:\", f_opt, \"Baza:\", B_opt)"
   ]
  }
 ],
 "metadata": {
  "kernelspec": {
   "display_name": "Python 3",
   "language": "python",
   "name": "python3"
  },
  "language_info": {
   "codemirror_mode": {
    "name": "ipython",
    "version": 3
   },
   "file_extension": ".py",
   "mimetype": "text/x-python",
   "name": "python",
   "nbconvert_exporter": "python",
   "pygments_lexer": "ipython3",
   "version": "3.13.2"
  }
 },
 "nbformat": 4,
 "nbformat_minor": 5
}
