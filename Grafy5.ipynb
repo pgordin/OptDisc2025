{
  "nbformat": 4,
  "nbformat_minor": 0,
  "metadata": {
    "colab": {
      "provenance": [],
      "authorship_tag": "ABX9TyMQygAk7ydgtZmE2zhOYQLv",
      "include_colab_link": true
    },
    "kernelspec": {
      "name": "python3",
      "display_name": "Python 3"
    },
    "language_info": {
      "name": "python"
    }
  },
  "cells": [
    {
      "cell_type": "markdown",
      "metadata": {
        "id": "view-in-github",
        "colab_type": "text"
      },
      "source": [
        "<a href=\"https://colab.research.google.com/github/pgordin/OptDisc2025/blob/main/Grafy5.ipynb\" target=\"_parent\"><img src=\"https://colab.research.google.com/assets/colab-badge.svg\" alt=\"Open In Colab\"/></a>"
      ]
    },
    {
      "cell_type": "markdown",
      "source": [
        "#Algorytmy optymalizacji dyskretnej; laboratoria\n",
        "This notebook contains a definition of a python class *Graph*, containing functions described during labs."
      ],
      "metadata": {
        "id": "noHa1UnB6dTl"
      }
    },
    {
      "cell_type": "markdown",
      "source": [
        "Package import."
      ],
      "metadata": {
        "id": "o6cctVaGKn9n"
      }
    },
    {
      "cell_type": "code",
      "execution_count": 1,
      "metadata": {
        "id": "OAkHMz2jKTzm"
      },
      "outputs": [],
      "source": [
        "import numpy as np\n",
        "from random import random, seed\n",
        "from copy import deepcopy"
      ]
    },
    {
      "cell_type": "markdown",
      "source": [
        "## Simple functions from the first classes\n",
        "This is left just as an example (to compare the behaviour)."
      ],
      "metadata": {
        "id": "r_QpZWdZCdkX"
      }
    },
    {
      "cell_type": "code",
      "source": [
        "def print_matrix(vertices, matrix):\n",
        "  \"\"\"\n",
        "  Printing a graph given by adjacency matrix\n",
        "  \"\"\"\n",
        "  n = len(matrix)\n",
        "  if (vertices is not None) and (len(vertices) == n):\n",
        "    vv = vertices\n",
        "  else:\n",
        "    vv = range(1, n+1)\n",
        "  for i in range(n):\n",
        "    print(vv[i], \":\", end=\"\")\n",
        "    for j in range(n):\n",
        "      if matrix[i, j]:\n",
        "        print(\" \", vv[j], end=\"\")\n",
        "    print(\"\")\n",
        "\n",
        "def print_dict(graph):\n",
        "  \"\"\"\n",
        "  Printing of a graph (given as a dictionary/neighbouring list)\n",
        "  \"\"\"\n",
        "  for v in graph:\n",
        "    print(v, \":\", end=\"\")\n",
        "    for u in graph[v]:\n",
        "      print(\" \", u, end=\"\")\n",
        "    print(\"\")"
      ],
      "metadata": {
        "id": "a5x2lBIQK70Y"
      },
      "execution_count": 2,
      "outputs": []
    },
    {
      "cell_type": "markdown",
      "source": [
        "## Class *Graph*"
      ],
      "metadata": {
        "id": "2WMNx_ldK23O"
      }
    },
    {
      "cell_type": "code",
      "source": [
        "class Graph:\n",
        "    def __init__(self, graph=None):\n",
        "        if graph is None:\n",
        "            graph = {}\n",
        "        self.graph = graph\n",
        "\n",
        "    # dict initializer\n",
        "    @classmethod\n",
        "    def from_dict(cls, graph):\n",
        "        return cls(graph)\n",
        "\n",
        "    # array initializer\n",
        "    @classmethod\n",
        "    def from_matrix(cls, matrix, vertices = None):\n",
        "        if (vertices is None) or (len(vertices) != len(matrix)):\n",
        "            vertices = [*range(1, len(matrix) + 1)]\n",
        "        return cls.from_dict(cls._matrix_to_dict(matrix, vertices))\n",
        "\n",
        "    # two private methods matrix <-> dictionaries\n",
        "    def _matrix_to_dict(matrix, vertices: list) -> dict:\n",
        "        \"\"\"\n",
        "        Converts a graph given as an adjacency matrix to a graph in dict form.\n",
        "        \"\"\"\n",
        "        res_dict = {}\n",
        "        for i, v in enumerate(vertices):\n",
        "            neighbours = [vertices[j] for j, edge in enumerate(matrix[i]) if edge]\n",
        "            res_dict[v] = neighbours\n",
        "        return res_dict\n",
        "\n",
        "    def _dict_to_matrix(self, _dict: dict) -> np.array:\n",
        "        \"\"\"\n",
        "        Converts a graph in dict form to its adjacency matrix.\n",
        "        \"\"\"\n",
        "        n = len(_dict)\n",
        "        vertices = [*_dict.keys()]\n",
        "        matrix = np.zeros(shape = (n, n), dtype=int)\n",
        "        for u,v in [\n",
        "            (vertices.index(u), vertices.index(v))\n",
        "            for u, row in _dict.items() for v in row\n",
        "        ]:\n",
        "            matrix[u][v] += 1\n",
        "        return matrix\n",
        "\n",
        "    def vertices(self) -> list:\n",
        "        \"\"\"\n",
        "        Returns list of vertices of the graph.\n",
        "        \"\"\"\n",
        "        return [*self.graph.keys()]\n",
        "\n",
        "    def matrix(self) -> np.array:\n",
        "        \"\"\"\n",
        "        Returns the adjacency matrix of the graph.\n",
        "        \"\"\"\n",
        "        return self._dict_to_matrix(self.graph)\n",
        "\n",
        "    # redefinition of print for objects of class Graph\n",
        "    def __str__(self):\n",
        "        res = \"\"\n",
        "        for v in self.graph:\n",
        "            res += f\"{v}:\"\n",
        "            for u in self.graph[v]:\n",
        "                res += f\" {u}\"\n",
        "            res += \"\\n\"\n",
        "        return res\n",
        "\n",
        "    # The following is for free thanks to the above\n",
        "    def to_neighbourlist(self, filename: str):\n",
        "        \"\"\"\n",
        "        Saves a graphs to a text file as a neighbour dict.\\n\n",
        "        Filename is a file path.\n",
        "        \"\"\"\n",
        "        file = open(filename, \"w\")  # open textfile for writing\n",
        "        file.write(str(self))\n",
        "        file.close()\n",
        "\n",
        "    # Modyfying graphs\n",
        "    def add_vertex(self, vertex):\n",
        "        \"\"\"\n",
        "        Adds a new vertex to the graph.\n",
        "        \"\"\"\n",
        "        if vertex not in self.graph:\n",
        "            self.graph[vertex] = []\n",
        "\n",
        "    def del_vertex(self, vertex):\n",
        "        \"\"\"\n",
        "        Removes a vertex from the graph.\n",
        "        \"\"\"\n",
        "        if vertex in self.graph:\n",
        "            self.graph.pop(vertex)\n",
        "            for u in self.graph:\n",
        "                if vertex in self.graph[u]:\n",
        "                    self.graph[u].remove(vertex)\n",
        "\n",
        "    def add_arc(self, arc):\n",
        "        \"\"\"\n",
        "        Given pair of vertices (arc variable) add an arc to the graph\n",
        "        We consider simple, directed graphs.\n",
        "        \"\"\"\n",
        "        u, v = arc\n",
        "        self.add_vertex(u)\n",
        "        self.add_vertex(v)\n",
        "        if v not in self.graph[u]:\n",
        "            self.graph[u].append(v)\n",
        "\n",
        "    def add_edge(self, edge: list):\n",
        "        \"\"\"\n",
        "        Given pair of vertices (edge variable) add an edge to existing graph.\n",
        "        We consider simple, undirected graphs, as symmetric digraphs without loops.\n",
        "        \"\"\"\n",
        "        u, v = edge\n",
        "        if u == v:\n",
        "            raise ValueError(\"Loops are not allowed!\")\n",
        "        self.add_vertex(u)\n",
        "        self.add_vertex(v)\n",
        "        if v not in self.graph[u]:\n",
        "            self.graph[u].append(v)\n",
        "        if u not in self.graph[v]:\n",
        "            self.graph[v].append(u)\n",
        "\n",
        "    # reading from a file\n",
        "    @staticmethod\n",
        "    def from_edges(filename: str, directed = 0):\n",
        "        \"\"\"\n",
        "        Read the graph from file, that in each line contains either\n",
        "        the description of a vertex (one word) or\n",
        "        the description of an edge/arc (at least 2 words).\n",
        "        The resulting graph is returned as a neighbourhood list.\n",
        "        Variable \"filename\" contains the whole path to the file.\n",
        "        \"\"\"\n",
        "        graph = Graph()\n",
        "        file = open(filename, \"r\")          # open the file to read\n",
        "        for line in file:                   # for each line of the file\n",
        "          words = line.strip().split()      # splits the line into words\n",
        "          if len(words) == 1:               # one word - vertex description\n",
        "            graph.add_vertex(words[0])\n",
        "          elif len(words) >= 2:             # at least two words, first two are the edge description\n",
        "            if directed:\n",
        "              graph.add_arc([words[0], words[1]])\n",
        "            else:\n",
        "              graph.add_edge([words[0], words[1]])\n",
        "        file.close()\n",
        "        return graph\n",
        "\n",
        "    @staticmethod\n",
        "    def random_graph(n: int, p: float):\n",
        "        \"\"\"\n",
        "        Creates a random graph in G(n, p) model.\n",
        "        \"\"\"\n",
        "        rand_graph = Graph()\n",
        "        for i in range(1, n + 1):\n",
        "            rand_graph.add_vertex(i)\n",
        "            for j in range(1, i):\n",
        "                if random() < p:\n",
        "                    rand_graph.add_edge([i, j])\n",
        "        return rand_graph\n",
        "\n",
        "    @staticmethod\n",
        "    def cycle(n: int):\n",
        "        \"\"\"\n",
        "        Creates a cycle C_n on n vertices\n",
        "        \"\"\"\n",
        "        cycle = Graph()\n",
        "        for i in range(n-1):\n",
        "          cycle.add_edge([i+1, i+2])\n",
        "        cycle.add_edge([1, n])\n",
        "        return cycle\n",
        "\n",
        "\n",
        "    def Prufer(self):\n",
        "      \"\"\"\n",
        "      Returns the Prufer code of a tree.\n",
        "      It is necessary that the graph is a tree (it is not checked).\n",
        "      Result is given as a string (empty for trees on 1 or 2 vertices).\n",
        "      \"\"\"\n",
        "      tr = deepcopy(self.graph)   # copy of a tree, as we destroy it\n",
        "      code = \"\"\n",
        "      for i in range(len(self.graph) - 2):\n",
        "        for x in sorted(tr):\n",
        "          if len(tr[x]) == 1:   # least leaf\n",
        "            break\n",
        "        v = tr[x][0]            # the unique neighbour of x\n",
        "        code = code + f\"{v} \"\n",
        "        tr[v].remove(x)         # remove x from neighbours of v\n",
        "        tr.pop(x)               # remove x from the tree\n",
        "      return code.strip()\n",
        "\n",
        "    @staticmethod\n",
        "    def tree_from_Prufer(code: str):\n",
        "        \"\"\"\n",
        "        Creating a tree from a Prufer code.\n",
        "        \"\"\"\n",
        "        tree = Graph()\n",
        "        clist = [int(x) for x in code.strip().split()]   # code as a list of numbers\n",
        "        n = len(clist) + 2                  # number of vertices\n",
        "        vert = [*range(1, n+1)]             # list of numbers 1..n\n",
        "        for v in vert:\n",
        "          tree.add_vertex(v)\n",
        "        for i in range(n-2):\n",
        "          for x in vert:\n",
        "            if not x in clist:    # x - least leaf\n",
        "              break\n",
        "          v = clist.pop(0)    # remove the first element from the code - the neighbour of x\n",
        "          tree.add_edge((x, v))\n",
        "          vert.remove(x)\n",
        "        tree.add_edge(vert)\n",
        "        return tree\n",
        "\n",
        "    def connected_components(self):\n",
        "      \"\"\"\n",
        "      Szuka spójnych skłądowych w (nieskierowanym) grafie.\n",
        "      Zwraca listę zbiorów wierzchołków.\n",
        "      Uwaga: zerowy element listy zawiera wszystkie wierzchołki grafu\n",
        "      \"\"\"\n",
        "      def DFS(u):\n",
        "        \"\"\"\n",
        "        Przechodzenie w głąb - metoda wewnętrzna\n",
        "        \"\"\"\n",
        "        for w in self.graph[u]:\n",
        "          if w not in VT[0]:    # w jeszcze nieodwiedzony\n",
        "            VT[0].add(w)        # już odwiedzony\n",
        "            VT[-1].add(w)       # w ostatniej (aktualnej) spójnej składowej\n",
        "            DFS(w)\n",
        "      \"\"\"\n",
        "      VT - lista zbiorów wierzchołków (drzew DFS).\n",
        "      VT[0] - docelowo lista wszystkich wierzchołków w grafie.\n",
        "      \"\"\"\n",
        "      VT = [set([])]\n",
        "      for v in self.graph:\n",
        "        if not v in VT[0]:  # v - nieodwiedzony\n",
        "          VT[0].add(v)      # już odwiedzony\n",
        "          VT.append(set([v])) # zalążek nowej spójnej składowej\n",
        "          DFS(v)\n",
        "      return VT\n",
        "\n",
        "    def connected_components_graphs(self):\n",
        "      \"\"\"\n",
        "      Zwraca listę spójnych składowych (jako grafów).\n",
        "      \"\"\"\n",
        "      components = self.connected_components()  # lista zbiorów wierzchołków\n",
        "      component_graphs = []                     # zalążek listy grafów\n",
        "      for component in components[1:]:\n",
        "        subgraph = Graph()\n",
        "        for vertex in component:\n",
        "          subgraph.graph[vertex] = self.graph[vertex].copy()\n",
        "        component_graphs.append(subgraph)\n",
        "      return component_graphs\n",
        "\n",
        "    def distance(self, v):\n",
        "      \"\"\"\n",
        "      Oblicza odległości z wierzhołka v do każdego osiąglanego wierzchołka w grafie.\n",
        "      Używa BFS. Wynik podany jako słownik (indeksowany etykietami wierzchołków).\n",
        "      \"\"\"\n",
        "      dist = {v: 0}   # zalążek słownika\n",
        "      queue = [v]\n",
        "      while len(queue) > 0:\n",
        "        u = queue.pop(0)\n",
        "        for w in self.graph[u]:\n",
        "          if not w in dist:\n",
        "            dist[w] = dist[u] + 1\n",
        "            queue.append(w)\n",
        "      return dist\n"
      ],
      "metadata": {
        "id": "GpL6rcH371bJ"
      },
      "execution_count": 3,
      "outputs": []
    },
    {
      "cell_type": "markdown",
      "source": [
        "## Grafy ważone"
      ],
      "metadata": {
        "id": "BDScr3VL_2ro"
      }
    },
    {
      "cell_type": "code",
      "source": [
        "from queue import PriorityQueue\n",
        "\n",
        "class WeigthtedGraph(Graph):\n",
        "    def __init__(self, graph=None, weights=None):\n",
        "        if weights is None:\n",
        "            weights = {}\n",
        "        self.weights = weights\n",
        "        super().__init__(graph)\n",
        "\n",
        "    # dict initializer\n",
        "    @classmethod\n",
        "    def from_dict(cls, graph, weights):\n",
        "        return cls(graph, weights)\n",
        "\n",
        "    # przedefiniowanie wypisywania grafów\n",
        "    def __str__(self):\n",
        "        res = \"\"\n",
        "        for v in self.graph:\n",
        "            res += f\"{v}:\"\n",
        "            for u in self.graph[v]:\n",
        "                res += f\" {u}({self.weights[(v, u)]})\"\n",
        "            res += \"\\n\"\n",
        "        return res\n",
        "\n",
        "    def add_arc(self, arc, weight = 1):\n",
        "        \"\"\"\n",
        "        Given pair of vertices (arc variable) add an arc to the graph\n",
        "        We consider simple, directed graphs.\n",
        "        \"\"\"\n",
        "        super().add_arc(arc)\n",
        "        self.weights[arc] = weight\n",
        "\n",
        "    def add_edge(self, edge, weight = 1):\n",
        "        \"\"\"\n",
        "        Given pair of vertices (edge variable) add an edge to existing graph.\n",
        "        We consider simple, undirected graphs, as symmetric digraphs without loops.\n",
        "        \"\"\"\n",
        "        u, v = edge\n",
        "        super().add_edge(edge)\n",
        "        self.weights[edge] = weight\n",
        "        self.weights[(v, u)] = weight\n",
        "\n",
        "    @staticmethod\n",
        "    def from_edges(filename: str, directed = 0):\n",
        "        \"\"\"\n",
        "        Wczytujemy graf z pliku\n",
        "        \"\"\"\n",
        "        graph = WeigthtedGraph()\n",
        "        file = open(filename, \"r\")          # open the file to read\n",
        "        for line in file:                   # for each line of the file\n",
        "          words = line.strip().split()      # splits the line into words\n",
        "          if len(words) == 1:               # one word - vertex description\n",
        "            graph.add_vertex(words[0])\n",
        "          elif len(words) == 2:             # two words, the edge description\n",
        "            if directed:\n",
        "              graph.add_arc((words[0], words[1]))\n",
        "            else:\n",
        "              graph.add_edge((words[0], words[1]))\n",
        "          elif len(words) >= 3:             # at least three words, first three are the weighted edge description\n",
        "            if directed:\n",
        "              graph.add_arc((words[0], words[1]), int(words[2]))\n",
        "            else:\n",
        "              graph.add_edge((words[0], words[1]), int(words[2]))\n",
        "        file.close()\n",
        "        return graph\n",
        "\n",
        "    def min_spanning_tree(self):\n",
        "      \"\"\"\n",
        "      Oblicza drzewo rozpinające wg algorytmu Jarnika-Prima.\n",
        "      \"\"\"\n",
        "      for v in self.graph:\n",
        "        break\n",
        "      wtree = WeigthtedGraph({v:[]}, {})\n",
        "      total = 0   # całkowita waga\n",
        "      q = PriorityQueue()\n",
        "      for u in self.graph[v]:\n",
        "        q.put((self.weights[(v, u)], v, u))\n",
        "      while not q.empty():\n",
        "        w, v, u = q.get()\n",
        "        if not u in wtree.graph:\n",
        "          wtree.add_edge((v, u), w)\n",
        "          total += w\n",
        "          for x in self.graph[u]:\n",
        "            if not x in wtree.graph:\n",
        "              q.put((self.weights[(u, x)], u, x))\n",
        "      if len(wtree.graph) != len(self.graph):\n",
        "        print(\"Graf jest niespójny. Zwrócopne drzewo dla jednej spójnej składowej.\")\n",
        "      return wtree, total"
      ],
      "metadata": {
        "id": "9DQInrBq_7u2"
      },
      "execution_count": 5,
      "outputs": []
    },
    {
      "cell_type": "markdown",
      "source": [
        "## Use of code"
      ],
      "metadata": {
        "id": "6_YyQKrIMi_C"
      }
    },
    {
      "cell_type": "markdown",
      "source": [
        "## Część 5a (minimalne drzewo)"
      ],
      "metadata": {
        "id": "cLBWmeyDHq3w"
      }
    },
    {
      "cell_type": "code",
      "source": [
        "!wget https://raw.githubusercontent.com/pgordin/OptDisc2025/refs/heads/main/weighted0.txt"
      ],
      "metadata": {
        "colab": {
          "base_uri": "https://localhost:8080/"
        },
        "id": "fJaiGkGRH0Ss",
        "outputId": "929bab57-0df5-41d3-9c26-afd9cc67d6bd"
      },
      "execution_count": 4,
      "outputs": [
        {
          "output_type": "stream",
          "name": "stdout",
          "text": [
            "--2025-04-28 11:19:24--  https://raw.githubusercontent.com/pgordin/OptDisc2025/refs/heads/main/weighted0.txt\n",
            "Resolving raw.githubusercontent.com (raw.githubusercontent.com)... 185.199.108.133, 185.199.109.133, 185.199.110.133, ...\n",
            "Connecting to raw.githubusercontent.com (raw.githubusercontent.com)|185.199.108.133|:443... connected.\n",
            "HTTP request sent, awaiting response... 200 OK\n",
            "Length: 99 [text/plain]\n",
            "Saving to: ‘weighted0.txt’\n",
            "\n",
            "\rweighted0.txt         0%[                    ]       0  --.-KB/s               \rweighted0.txt       100%[===================>]      99  --.-KB/s    in 0s      \n",
            "\n",
            "2025-04-28 11:19:25 (4.35 MB/s) - ‘weighted0.txt’ saved [99/99]\n",
            "\n"
          ]
        }
      ]
    },
    {
      "cell_type": "code",
      "source": [
        "wgrapgh = WeigthtedGraph.from_edges(\"weighted0.txt\")\n",
        "print(wgrapgh)"
      ],
      "metadata": {
        "colab": {
          "base_uri": "https://localhost:8080/"
        },
        "id": "yHCgDCsZH6yd",
        "outputId": "53681c59-e127-4d71-8133-5287c31d0f26"
      },
      "execution_count": 6,
      "outputs": [
        {
          "output_type": "stream",
          "name": "stdout",
          "text": [
            "A: B(3) E(10)\n",
            "B: A(3) C(26) D(12)\n",
            "E: A(10) D(7) F(8) H(4)\n",
            "C: B(26) D(17) F(13) G(14)\n",
            "D: B(12) C(17) E(7) F(15)\n",
            "F: C(13) D(15) E(8) G(9) H(6)\n",
            "G: C(14) F(9) H(16) I(11)\n",
            "H: E(4) F(6) G(16)\n",
            "I: G(11)\n",
            "\n"
          ]
        }
      ]
    },
    {
      "cell_type": "code",
      "source": [
        "wtree, total = wgrapgh.min_spanning_tree()\n",
        "print(wtree)\n",
        "print(\"Total weight:\", total)"
      ],
      "metadata": {
        "colab": {
          "base_uri": "https://localhost:8080/"
        },
        "id": "inUQYdLXIJHp",
        "outputId": "ee43ae51-31ad-4f1b-946b-96e83aabe187"
      },
      "execution_count": 7,
      "outputs": [
        {
          "output_type": "stream",
          "name": "stdout",
          "text": [
            "A: B(3) E(10)\n",
            "B: A(3)\n",
            "E: A(10) H(4) D(7)\n",
            "H: E(4) F(6)\n",
            "F: H(6) G(9) C(13)\n",
            "D: E(7)\n",
            "G: F(9) I(11)\n",
            "I: G(11)\n",
            "C: F(13)\n",
            "\n",
            "Total weight: 63\n"
          ]
        }
      ]
    },
    {
      "cell_type": "markdown",
      "source": [
        "## Część 4 (przechodzenie grafów)."
      ],
      "metadata": {
        "id": "vLC9qATq0SV0"
      }
    },
    {
      "cell_type": "code",
      "source": [
        "graph1 = Graph.random_graph(10, 1/5)\n",
        "print(graph1)\n",
        "\n",
        "VT = graph1.connected_components()\n",
        "print(VT)\n"
      ],
      "metadata": {
        "colab": {
          "base_uri": "https://localhost:8080/"
        },
        "id": "_SuxN8aL0XBC",
        "outputId": "36bf7536-9434-4069-c30c-9cf26809abef"
      },
      "execution_count": null,
      "outputs": [
        {
          "output_type": "stream",
          "name": "stdout",
          "text": [
            "1:\n",
            "2: 8\n",
            "3: 5\n",
            "4: 7 8\n",
            "5: 3 6 10\n",
            "6: 5\n",
            "7: 4\n",
            "8: 2 4\n",
            "9:\n",
            "10: 5\n",
            "\n",
            "[{1, 2, 3, 4, 5, 6, 7, 8, 9, 10}, {1}, {8, 2, 4, 7}, {10, 3, 5, 6}, {9}]\n"
          ]
        }
      ]
    },
    {
      "cell_type": "code",
      "source": [
        "lista = graph1.connected_components_graphs()\n",
        "print(lista[0])"
      ],
      "metadata": {
        "colab": {
          "base_uri": "https://localhost:8080/"
        },
        "id": "K7gTs2Jx3Nw3",
        "outputId": "62f5e5fc-db63-43aa-d43e-9294258a0940"
      },
      "execution_count": null,
      "outputs": [
        {
          "output_type": "stream",
          "name": "stdout",
          "text": [
            "1:\n",
            "\n"
          ]
        }
      ]
    },
    {
      "cell_type": "code",
      "source": [
        "print(lista[1])"
      ],
      "metadata": {
        "colab": {
          "base_uri": "https://localhost:8080/"
        },
        "id": "28kvAX4b3cIa",
        "outputId": "ac130dc0-e4af-4cb4-fddb-d60315a4c3cf"
      },
      "execution_count": null,
      "outputs": [
        {
          "output_type": "stream",
          "name": "stdout",
          "text": [
            "8: 2 4\n",
            "2: 8\n",
            "4: 7 8\n",
            "7: 4\n",
            "\n"
          ]
        }
      ]
    },
    {
      "cell_type": "code",
      "source": [
        "print(lista[1].distance(8))"
      ],
      "metadata": {
        "colab": {
          "base_uri": "https://localhost:8080/"
        },
        "id": "bJFNJfyt5i53",
        "outputId": "4e566e18-7c06-4c0c-c235-7376592ab7a1"
      },
      "execution_count": null,
      "outputs": [
        {
          "output_type": "stream",
          "name": "stdout",
          "text": [
            "{8: 0, 2: 1, 4: 1, 7: 2}\n"
          ]
        }
      ]
    },
    {
      "cell_type": "markdown",
      "source": [
        "## Eksperyment Millgrama (małego świata)\n",
        "Zbadamy, czy $G(n,p)$ jest dobrym modelem zjawiska."
      ],
      "metadata": {
        "id": "52XYMf4O7D9G"
      }
    },
    {
      "cell_type": "code",
      "source": [
        "n = 2000\n",
        "p = 1/300\n",
        "rgraph = Graph.random_graph(n, p)\n",
        "graph = rgraph.connected_components_graphs()[0]\n",
        "print(len(graph.vertices()))"
      ],
      "metadata": {
        "colab": {
          "base_uri": "https://localhost:8080/"
        },
        "id": "KGZkjEHp7bQB",
        "outputId": "b74781d2-8ebb-466a-9f2c-d7912981dd4d"
      },
      "execution_count": null,
      "outputs": [
        {
          "output_type": "stream",
          "name": "stdout",
          "text": [
            "1999\n"
          ]
        }
      ]
    },
    {
      "cell_type": "code",
      "source": [
        "md = {}\n",
        "ecc = {}\n",
        "for v in graph.vertices():\n",
        "  dist = graph.distance(v)\n",
        "  ecc[v] = max(dist.values())\n",
        "  md[v] = sum(dist.values()) / len(dist.values())\n",
        "print(\"Promień:\", min(ecc.values()), \" Średnica:\", max(ecc.values()), \" Average: \", sum(md.values())/len(md))"
      ],
      "metadata": {
        "colab": {
          "base_uri": "https://localhost:8080/"
        },
        "id": "O4LDc_kc7-J4",
        "outputId": "770c82c4-48ee-4582-f370-c6b92064da78"
      },
      "execution_count": null,
      "outputs": [
        {
          "output_type": "stream",
          "name": "stdout",
          "text": [
            "Promień: 5  Średnica: 7  Average:  4.210159106566796\n"
          ]
        }
      ]
    },
    {
      "cell_type": "markdown",
      "source": [],
      "metadata": {
        "id": "6YesG_Bj5v70"
      }
    },
    {
      "cell_type": "markdown",
      "source": [
        "### Part 3 (Prufer codes)"
      ],
      "metadata": {
        "id": "_Li4OSBDrp7K"
      }
    },
    {
      "cell_type": "code",
      "source": [
        "%%writefile tree1.txt\n",
        "1 3\n",
        "3 5\n",
        "2 5\n",
        "4 5\n",
        "6 5"
      ],
      "metadata": {
        "colab": {
          "base_uri": "https://localhost:8080/"
        },
        "id": "RFG49rSWryaK",
        "outputId": "b6ac0296-d6cb-4b20-fede-2f7c4f39dfaf"
      },
      "execution_count": null,
      "outputs": [
        {
          "output_type": "stream",
          "name": "stdout",
          "text": [
            "Writing tree1.txt\n"
          ]
        }
      ]
    },
    {
      "cell_type": "code",
      "source": [
        "tree1 = Graph.from_edges(\"tree1.txt\")"
      ],
      "metadata": {
        "id": "MxM8JOw9sR5_"
      },
      "execution_count": null,
      "outputs": []
    },
    {
      "cell_type": "code",
      "source": [
        "print(tree1)"
      ],
      "metadata": {
        "colab": {
          "base_uri": "https://localhost:8080/"
        },
        "id": "uFVlsqDesWeX",
        "outputId": "24763050-bbcc-425d-efd9-eed2791286c9"
      },
      "execution_count": null,
      "outputs": [
        {
          "output_type": "stream",
          "name": "stdout",
          "text": [
            "1: 3\n",
            "3: 1 5\n",
            "5: 3 2 4 6\n",
            "2: 5\n",
            "4: 5\n",
            "6: 5\n",
            "\n"
          ]
        }
      ]
    },
    {
      "cell_type": "code",
      "source": [
        "print(tree1.Prufer())"
      ],
      "metadata": {
        "colab": {
          "base_uri": "https://localhost:8080/"
        },
        "id": "hlcmteDpunm0",
        "outputId": "a76954db-3d33-4978-ce1d-4f2caa34f363"
      },
      "execution_count": null,
      "outputs": [
        {
          "output_type": "stream",
          "name": "stdout",
          "text": [
            "3 5 5 5\n"
          ]
        }
      ]
    },
    {
      "cell_type": "code",
      "source": [
        "print(Graph.tree_from_Prufer(\"3 5 5 5\"))"
      ],
      "metadata": {
        "colab": {
          "base_uri": "https://localhost:8080/"
        },
        "id": "W13ncK5-xiqO",
        "outputId": "5901f39f-f320-49d8-c8ce-4e87fbc614a0"
      },
      "execution_count": null,
      "outputs": [
        {
          "output_type": "stream",
          "name": "stdout",
          "text": [
            "1: 3\n",
            "2: 5\n",
            "3: 1 5\n",
            "4: 5\n",
            "5: 2 3 4 6\n",
            "6: 5\n",
            "\n"
          ]
        }
      ]
    },
    {
      "cell_type": "code",
      "source": [
        "print(Graph.tree_from_Prufer(\"5 4 3 1\"))"
      ],
      "metadata": {
        "colab": {
          "base_uri": "https://localhost:8080/"
        },
        "id": "TGyO_yEcxpwm",
        "outputId": "1c2bb003-1f80-4c8b-c9fd-37770d8edcf8"
      },
      "execution_count": null,
      "outputs": [
        {
          "output_type": "stream",
          "name": "stdout",
          "text": [
            "1: 3 6\n",
            "2: 5\n",
            "3: 4 1\n",
            "4: 5 3\n",
            "5: 2 4\n",
            "6: 1\n",
            "\n"
          ]
        }
      ]
    },
    {
      "cell_type": "code",
      "source": [
        "print(Graph.tree_from_Prufer(\"1 1 1 2 3\"))"
      ],
      "metadata": {
        "colab": {
          "base_uri": "https://localhost:8080/"
        },
        "id": "kIMXlvKdxzRQ",
        "outputId": "253cf899-4fd8-4fff-b32c-bc78ca612ca1"
      },
      "execution_count": null,
      "outputs": [
        {
          "output_type": "stream",
          "name": "stdout",
          "text": [
            "1: 4 5 6 2\n",
            "2: 1 3\n",
            "3: 2 7\n",
            "4: 1\n",
            "5: 1\n",
            "6: 1\n",
            "7: 3\n",
            "\n"
          ]
        }
      ]
    },
    {
      "cell_type": "markdown",
      "source": [
        "### Part2"
      ],
      "metadata": {
        "id": "8zI4hhs8mnCH"
      }
    },
    {
      "cell_type": "code",
      "source": [
        "%%writefile edges.txt\n",
        "a b\n",
        "b c\n",
        "b d\n",
        "d\n",
        "d c\n",
        "e\n",
        "f\n"
      ],
      "metadata": {
        "colab": {
          "base_uri": "https://localhost:8080/"
        },
        "id": "APWxQBCKmoxT",
        "outputId": "63d6f103-23a7-45b2-e876-b84fced14567"
      },
      "execution_count": null,
      "outputs": [
        {
          "output_type": "stream",
          "name": "stdout",
          "text": [
            "Overwriting edges.txt\n"
          ]
        }
      ]
    },
    {
      "cell_type": "code",
      "source": [
        "%cat edges.txt"
      ],
      "metadata": {
        "colab": {
          "base_uri": "https://localhost:8080/"
        },
        "id": "eR-LAgiBnAPC",
        "outputId": "39972372-9f1a-4a07-ae31-1913f10b6d44"
      },
      "execution_count": null,
      "outputs": [
        {
          "output_type": "stream",
          "name": "stdout",
          "text": [
            "a b\n",
            "b c\n",
            "b d\n",
            "d\n",
            "d c\n",
            "e\n",
            "f\n"
          ]
        }
      ]
    },
    {
      "cell_type": "code",
      "source": [
        "graph2 = Graph.from_edges(\"edges.txt\")\n",
        "print(graph2)"
      ],
      "metadata": {
        "colab": {
          "base_uri": "https://localhost:8080/"
        },
        "id": "iMrisHgRnKuO",
        "outputId": "8c707a92-cb87-4ee7-a05c-02bc5c810d6b"
      },
      "execution_count": null,
      "outputs": [
        {
          "output_type": "stream",
          "name": "stdout",
          "text": [
            "a: b\n",
            "b: a c d\n",
            "c: b d\n",
            "d: b c\n",
            "e:\n",
            "f:\n",
            "\n"
          ]
        }
      ]
    },
    {
      "cell_type": "code",
      "source": [
        "graph2.to_neighbourlist(\"neighbourhood.txt\")"
      ],
      "metadata": {
        "id": "r9NGeZi7p1GR"
      },
      "execution_count": null,
      "outputs": []
    },
    {
      "cell_type": "code",
      "source": [
        "%cat \"neighbourhood.txt\""
      ],
      "metadata": {
        "colab": {
          "base_uri": "https://localhost:8080/"
        },
        "id": "nWT3fLVpqHpo",
        "outputId": "853fad05-b2b6-4166-9d8f-a6fd5171db92"
      },
      "execution_count": null,
      "outputs": [
        {
          "output_type": "stream",
          "name": "stdout",
          "text": [
            "a: b\n",
            "b: a c d\n",
            "c: b d\n",
            "d: b c\n",
            "e:\n",
            "f:\n"
          ]
        }
      ]
    },
    {
      "cell_type": "code",
      "source": [
        "!wget https://raw.githubusercontent.com/pgordin/OptDisc2025/refs/heads/main/weighted0.txt"
      ],
      "metadata": {
        "id": "LFUwDnCdyx3v",
        "outputId": "fc438c86-fe1d-4539-c3d8-14b13558baa8",
        "colab": {
          "base_uri": "https://localhost:8080/"
        }
      },
      "execution_count": null,
      "outputs": [
        {
          "output_type": "stream",
          "name": "stdout",
          "text": [
            "--2025-03-31 10:43:59--  https://raw.githubusercontent.com/pgordin/OptDisc2025/refs/heads/main/weighted0.txt\n",
            "Resolving raw.githubusercontent.com (raw.githubusercontent.com)... 185.199.111.133, 185.199.108.133, 185.199.109.133, ...\n",
            "Connecting to raw.githubusercontent.com (raw.githubusercontent.com)|185.199.111.133|:443... connected.\n",
            "HTTP request sent, awaiting response... 200 OK\n",
            "Length: 99 [text/plain]\n",
            "Saving to: ‘weighted0.txt.2’\n",
            "\n",
            "weighted0.txt.2     100%[===================>]      99  --.-KB/s    in 0s      \n",
            "\n",
            "2025-03-31 10:43:59 (6.04 MB/s) - ‘weighted0.txt.2’ saved [99/99]\n",
            "\n"
          ]
        }
      ]
    },
    {
      "cell_type": "code",
      "source": [
        "!wget https://github.com/pgordin/OptDisc2025/raw/main/weighted0.txt"
      ],
      "metadata": {
        "id": "OtKrskF-r81d",
        "outputId": "e95abd14-4216-4da5-96ee-4a87cfc8ce05",
        "colab": {
          "base_uri": "https://localhost:8080/"
        }
      },
      "execution_count": null,
      "outputs": [
        {
          "output_type": "stream",
          "name": "stdout",
          "text": [
            "--2025-03-31 10:42:42--  https://github.com/pgordin/OptDisc2025/raw/main/weighted0.txt\n",
            "Resolving github.com (github.com)... 20.27.177.113\n",
            "Connecting to github.com (github.com)|20.27.177.113|:443... connected.\n",
            "HTTP request sent, awaiting response... 302 Found\n",
            "Location: https://raw.githubusercontent.com/pgordin/OptDisc2025/main/weighted0.txt [following]\n",
            "--2025-03-31 10:42:42--  https://raw.githubusercontent.com/pgordin/OptDisc2025/main/weighted0.txt\n",
            "Resolving raw.githubusercontent.com (raw.githubusercontent.com)... 185.199.110.133, 185.199.111.133, 185.199.108.133, ...\n",
            "Connecting to raw.githubusercontent.com (raw.githubusercontent.com)|185.199.110.133|:443... connected.\n",
            "HTTP request sent, awaiting response... 200 OK\n",
            "Length: 99 [text/plain]\n",
            "Saving to: ‘weighted0.txt.1’\n",
            "\n",
            "weighted0.txt.1     100%[===================>]      99  --.-KB/s    in 0s      \n",
            "\n",
            "2025-03-31 10:42:43 (1.58 MB/s) - ‘weighted0.txt.1’ saved [99/99]\n",
            "\n"
          ]
        }
      ]
    },
    {
      "cell_type": "code",
      "source": [
        "graph3 = Graph.from_edges(\"weighted0.txt\")\n",
        "print(graph3)"
      ],
      "metadata": {
        "id": "vdKnV3IJsg3U",
        "outputId": "b0c026f7-6158-4e08-89a8-532324444389",
        "colab": {
          "base_uri": "https://localhost:8080/"
        }
      },
      "execution_count": null,
      "outputs": [
        {
          "output_type": "stream",
          "name": "stdout",
          "text": [
            "A: B E\n",
            "B: A C D\n",
            "E: A D F H\n",
            "C: B D F G\n",
            "D: B C E F\n",
            "F: C D E G H\n",
            "G: C F H I\n",
            "H: E F G\n",
            "I: G\n",
            "\n"
          ]
        }
      ]
    },
    {
      "cell_type": "code",
      "source": [
        "graph4 = Graph.random_graph(10, 1/3)\n",
        "print(graph4)"
      ],
      "metadata": {
        "colab": {
          "base_uri": "https://localhost:8080/"
        },
        "id": "zBiLX0N80Lt-",
        "outputId": "22c76c89-2ecd-48b3-ed65-d2a76b46bff0"
      },
      "execution_count": null,
      "outputs": [
        {
          "output_type": "stream",
          "name": "stdout",
          "text": [
            "1: 2 4 7 8 9\n",
            "2: 1 6 8 9\n",
            "3: 9 10\n",
            "4: 1 6 7 10\n",
            "5: 7\n",
            "6: 2 4 7 9\n",
            "7: 1 4 5 6 8 10\n",
            "8: 1 2 7\n",
            "9: 1 2 3 6\n",
            "10: 3 4 7\n",
            "\n"
          ]
        }
      ]
    },
    {
      "cell_type": "code",
      "source": [
        "print(Graph.cycle(6))"
      ],
      "metadata": {
        "colab": {
          "base_uri": "https://localhost:8080/"
        },
        "id": "E_3Xuype0TRP",
        "outputId": "e0133134-abae-4cc4-d915-299c4a8670a8"
      },
      "execution_count": null,
      "outputs": [
        {
          "output_type": "stream",
          "name": "stdout",
          "text": [
            "1: 2 6\n",
            "2: 1 3\n",
            "3: 2 4\n",
            "4: 3 5\n",
            "5: 4 6\n",
            "6: 5 1\n",
            "\n"
          ]
        }
      ]
    },
    {
      "cell_type": "markdown",
      "source": [
        "### Part1"
      ],
      "metadata": {
        "id": "M0eanmo5mkjf"
      }
    },
    {
      "cell_type": "code",
      "source": [
        "vertices = [\"a\", \"b\", \"c\", \"d\"]\n",
        "matrix = np.array([[0,1,0,0],[1,0,1,0],[0,1,0,1],[0,0,0,1]])\n",
        "print(vertices)\n",
        "print(matrix)\n",
        "print(\"---------------------------\")\n",
        "print_matrix(vertices, matrix)\n",
        "print(\"---------------------------\")\n",
        "print_matrix(None,matrix)"
      ],
      "metadata": {
        "colab": {
          "base_uri": "https://localhost:8080/"
        },
        "id": "fFt6k4_1MkaO",
        "outputId": "211a84bd-7c81-45b0-82bb-eaa7051425e8"
      },
      "execution_count": null,
      "outputs": [
        {
          "output_type": "stream",
          "name": "stdout",
          "text": [
            "['a', 'b', 'c', 'd']\n",
            "[[0 1 0 0]\n",
            " [1 0 1 0]\n",
            " [0 1 0 1]\n",
            " [0 0 0 1]]\n",
            "---------------------------\n",
            "a :  b\n",
            "b :  a  c\n",
            "c :  b  d\n",
            "d :  d\n",
            "---------------------------\n",
            "1 :  2\n",
            "2 :  1  3\n",
            "3 :  2  4\n",
            "4 :  4\n"
          ]
        }
      ]
    },
    {
      "cell_type": "code",
      "source": [
        "graph_dict = {\n",
        "  \"a\": [\"b\"],\n",
        "  \"b\": [\"a\", \"c\"],\n",
        "  \"c\": [\"b\", \"d\"],\n",
        "  \"d\": [\"c\"]\n",
        "}\n",
        "print(graph_dict)\n",
        "print(\"---------------------------\")\n",
        "print_dict(graph_dict)"
      ],
      "metadata": {
        "colab": {
          "base_uri": "https://localhost:8080/"
        },
        "id": "-WN2GXWRO7a-",
        "outputId": "88af9f85-9efa-42f4-c938-1c69f89ed8d9"
      },
      "execution_count": null,
      "outputs": [
        {
          "output_type": "stream",
          "name": "stdout",
          "text": [
            "{'a': ['b'], 'b': ['a', 'c'], 'c': ['b', 'd'], 'd': ['c']}\n",
            "---------------------------\n",
            "a :  b\n",
            "b :  a  c\n",
            "c :  b  d\n",
            "d :  c\n"
          ]
        }
      ]
    },
    {
      "cell_type": "code",
      "source": [
        "graph1 = Graph.from_matrix(matrix, vertices)\n",
        "print(graph1)"
      ],
      "metadata": {
        "colab": {
          "base_uri": "https://localhost:8080/"
        },
        "id": "X8U18KAaDJzn",
        "outputId": "f82aa5e5-0d9d-4af2-dddf-051aeae0a092"
      },
      "execution_count": null,
      "outputs": [
        {
          "output_type": "stream",
          "name": "stdout",
          "text": [
            "a: b\n",
            "b: a c\n",
            "c: b d\n",
            "d: d\n",
            "\n"
          ]
        }
      ]
    },
    {
      "cell_type": "code",
      "source": [
        "print(Graph(graph_dict))  # the same result"
      ],
      "metadata": {
        "colab": {
          "base_uri": "https://localhost:8080/"
        },
        "id": "Diez_R5gJAvq",
        "outputId": "329d5a23-1064-4284-9d85-ba96b2a90096"
      },
      "execution_count": null,
      "outputs": [
        {
          "output_type": "stream",
          "name": "stdout",
          "text": [
            "a: b\n",
            "b: a c\n",
            "c: b d\n",
            "d: c\n",
            "\n"
          ]
        }
      ]
    },
    {
      "cell_type": "code",
      "source": [
        "print(graph1.vertices())"
      ],
      "metadata": {
        "colab": {
          "base_uri": "https://localhost:8080/"
        },
        "id": "HFejfq6hP4D6",
        "outputId": "a79ac591-2b31-49fd-9278-16c191803ed7"
      },
      "execution_count": null,
      "outputs": [
        {
          "output_type": "stream",
          "name": "stdout",
          "text": [
            "['a', 'b', 'c', 'd']\n"
          ]
        }
      ]
    },
    {
      "cell_type": "code",
      "source": [
        "print(graph1.matrix())"
      ],
      "metadata": {
        "colab": {
          "base_uri": "https://localhost:8080/"
        },
        "id": "f2Tgny4gQF4O",
        "outputId": "224d2fb6-5a9a-4e8b-e2b5-5b39f297687d"
      },
      "execution_count": null,
      "outputs": [
        {
          "output_type": "stream",
          "name": "stdout",
          "text": [
            "[[0 1 0 0]\n",
            " [1 0 1 0]\n",
            " [0 1 0 1]\n",
            " [0 0 0 1]]\n"
          ]
        }
      ]
    },
    {
      "cell_type": "code",
      "source": [
        "graph1.add_vertex(\"e\")\n",
        "print(graph1)"
      ],
      "metadata": {
        "colab": {
          "base_uri": "https://localhost:8080/"
        },
        "id": "eSNamb6BTulo",
        "outputId": "7ad39087-5b1d-457b-bdb4-15b5dcdb32fc"
      },
      "execution_count": null,
      "outputs": [
        {
          "output_type": "stream",
          "name": "stdout",
          "text": [
            "a: b\n",
            "b: a c\n",
            "c: b d\n",
            "d: d\n",
            "e:\n",
            "\n"
          ]
        }
      ]
    },
    {
      "cell_type": "code",
      "source": [
        "graph1.add_edge([\"e\", \"f\"])\n",
        "print(graph1)"
      ],
      "metadata": {
        "colab": {
          "base_uri": "https://localhost:8080/"
        },
        "id": "h20fs6XzT1v3",
        "outputId": "39eedb67-f037-47ac-ccc9-70487f080835"
      },
      "execution_count": null,
      "outputs": [
        {
          "output_type": "stream",
          "name": "stdout",
          "text": [
            "a: b\n",
            "b: a c\n",
            "c: b d\n",
            "d: d\n",
            "e: f\n",
            "f: e\n",
            "\n"
          ]
        }
      ]
    },
    {
      "cell_type": "code",
      "source": [
        "graph1.add_arc([\"e\", \"a\"])  # breaking the symmetry\n",
        "print(graph1)"
      ],
      "metadata": {
        "colab": {
          "base_uri": "https://localhost:8080/"
        },
        "id": "NTRLKliDT9mR",
        "outputId": "435181c5-8d27-40c1-b2d4-7f3602722045"
      },
      "execution_count": null,
      "outputs": [
        {
          "output_type": "stream",
          "name": "stdout",
          "text": [
            "a: b\n",
            "b: a c\n",
            "c: b d\n",
            "d: d\n",
            "e: f a\n",
            "f: e\n",
            "\n"
          ]
        }
      ]
    },
    {
      "cell_type": "code",
      "source": [
        "graph1.add_edge([\"e\", \"a\"])  # restoring the symmetry\n",
        "print(graph1)"
      ],
      "metadata": {
        "colab": {
          "base_uri": "https://localhost:8080/"
        },
        "id": "qplimjtMUGPN",
        "outputId": "f76e46ef-2de4-4a62-b52f-c18509b7ea20"
      },
      "execution_count": null,
      "outputs": [
        {
          "output_type": "stream",
          "name": "stdout",
          "text": [
            "a: b e\n",
            "b: a c\n",
            "c: b d\n",
            "d: d\n",
            "e: f a\n",
            "f: e\n",
            "\n"
          ]
        }
      ]
    },
    {
      "cell_type": "code",
      "source": [
        "graph1.add_edge([\"e\", \"f\"]) # do nothing, an edge already exists\n",
        "print(graph1)"
      ],
      "metadata": {
        "colab": {
          "base_uri": "https://localhost:8080/"
        },
        "id": "GuEBCTrUUM1V",
        "outputId": "3904b08a-a419-4387-f34f-0479a4916987"
      },
      "execution_count": null,
      "outputs": [
        {
          "output_type": "stream",
          "name": "stdout",
          "text": [
            "a: b e\n",
            "b: a c\n",
            "c: b d\n",
            "d: d\n",
            "e: f a\n",
            "f: e\n",
            "\n"
          ]
        }
      ]
    },
    {
      "cell_type": "code",
      "source": [
        "graph1.del_vertex(\"f\")  # removing a vertex\n",
        "print(graph1)"
      ],
      "metadata": {
        "colab": {
          "base_uri": "https://localhost:8080/"
        },
        "id": "XLQ1qcCAu7ie",
        "outputId": "5e3d5bdb-58fd-4fc7-8dae-b21042ee6d94"
      },
      "execution_count": null,
      "outputs": [
        {
          "output_type": "stream",
          "name": "stdout",
          "text": [
            "a: b e\n",
            "b: a c\n",
            "c: b d\n",
            "d: d\n",
            "e: a\n",
            "\n"
          ]
        }
      ]
    },
    {
      "cell_type": "code",
      "source": [
        "graph1.add_edge([\"e\", \"e\"]) # an error"
      ],
      "metadata": {
        "colab": {
          "base_uri": "https://localhost:8080/",
          "height": 283
        },
        "id": "H16ojmt5UWKW",
        "outputId": "99c474dc-e7c0-45db-900c-e009dd7a9aaa"
      },
      "execution_count": null,
      "outputs": [
        {
          "output_type": "error",
          "ename": "ValueError",
          "evalue": "Loops are not allowed!",
          "traceback": [
            "\u001b[0;31m---------------------------------------------------------------------------\u001b[0m",
            "\u001b[0;31mValueError\u001b[0m                                Traceback (most recent call last)",
            "\u001b[0;32m<ipython-input-59-3a6861681e28>\u001b[0m in \u001b[0;36m<cell line: 1>\u001b[0;34m()\u001b[0m\n\u001b[0;32m----> 1\u001b[0;31m \u001b[0mgraph1\u001b[0m\u001b[0;34m.\u001b[0m\u001b[0madd_edge\u001b[0m\u001b[0;34m(\u001b[0m\u001b[0;34m[\u001b[0m\u001b[0;34m\"e\"\u001b[0m\u001b[0;34m,\u001b[0m \u001b[0;34m\"e\"\u001b[0m\u001b[0;34m]\u001b[0m\u001b[0;34m)\u001b[0m \u001b[0;31m# an error\u001b[0m\u001b[0;34m\u001b[0m\u001b[0;34m\u001b[0m\u001b[0m\n\u001b[0m",
            "\u001b[0;32m<ipython-input-50-f39c82b79290>\u001b[0m in \u001b[0;36madd_edge\u001b[0;34m(self, edge)\u001b[0m\n\u001b[1;32m    110\u001b[0m         \u001b[0mu\u001b[0m\u001b[0;34m,\u001b[0m \u001b[0mv\u001b[0m \u001b[0;34m=\u001b[0m \u001b[0medge\u001b[0m\u001b[0;34m\u001b[0m\u001b[0;34m\u001b[0m\u001b[0m\n\u001b[1;32m    111\u001b[0m         \u001b[0;32mif\u001b[0m \u001b[0mu\u001b[0m \u001b[0;34m==\u001b[0m \u001b[0mv\u001b[0m\u001b[0;34m:\u001b[0m\u001b[0;34m\u001b[0m\u001b[0;34m\u001b[0m\u001b[0m\n\u001b[0;32m--> 112\u001b[0;31m             \u001b[0;32mraise\u001b[0m \u001b[0mValueError\u001b[0m\u001b[0;34m(\u001b[0m\u001b[0;34m\"Loops are not allowed!\"\u001b[0m\u001b[0;34m)\u001b[0m\u001b[0;34m\u001b[0m\u001b[0;34m\u001b[0m\u001b[0m\n\u001b[0m\u001b[1;32m    113\u001b[0m         \u001b[0mself\u001b[0m\u001b[0;34m.\u001b[0m\u001b[0madd_vertex\u001b[0m\u001b[0;34m(\u001b[0m\u001b[0mu\u001b[0m\u001b[0;34m)\u001b[0m\u001b[0;34m\u001b[0m\u001b[0;34m\u001b[0m\u001b[0m\n\u001b[1;32m    114\u001b[0m         \u001b[0mself\u001b[0m\u001b[0;34m.\u001b[0m\u001b[0madd_vertex\u001b[0m\u001b[0;34m(\u001b[0m\u001b[0mv\u001b[0m\u001b[0;34m)\u001b[0m\u001b[0;34m\u001b[0m\u001b[0;34m\u001b[0m\u001b[0m\n",
            "\u001b[0;31mValueError\u001b[0m: Loops are not allowed!"
          ]
        }
      ]
    },
    {
      "cell_type": "code",
      "source": [
        "graph1.add_arc([\"e\", \"e\"]) # OK - loops are allowed in digraphs\n",
        "print(graph1)"
      ],
      "metadata": {
        "id": "OJsBnowmUdQe",
        "colab": {
          "base_uri": "https://localhost:8080/"
        },
        "outputId": "7181aca7-17b6-4fad-a8cf-04aadf84ea5f"
      },
      "execution_count": null,
      "outputs": [
        {
          "output_type": "stream",
          "name": "stdout",
          "text": [
            "a: b e\n",
            "b: a c\n",
            "c: b d\n",
            "d: d\n",
            "e: a e\n",
            "\n"
          ]
        }
      ]
    },
    {
      "cell_type": "code",
      "source": [
        "print(Graph.cycle(6))"
      ],
      "metadata": {
        "id": "sE1ahsXaDUsb",
        "outputId": "a2a00388-ef1b-489d-d4eb-f3d6c458ab72",
        "colab": {
          "base_uri": "https://localhost:8080/"
        }
      },
      "execution_count": null,
      "outputs": [
        {
          "output_type": "stream",
          "name": "stdout",
          "text": [
            "1: 2 6\n",
            "2: 1 3\n",
            "3: 2 4\n",
            "4: 3 5\n",
            "5: 4 6\n",
            "6: 5 1\n",
            "\n"
          ]
        }
      ]
    }
  ]
}