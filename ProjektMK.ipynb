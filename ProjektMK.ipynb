{
  "nbformat": 4,
  "nbformat_minor": 0,
  "metadata": {
    "colab": {
      "provenance": [],
      "authorship_tag": "ABX9TyMfN8ehFQ26HufbF2PEOL//",
      "include_colab_link": true
    },
    "kernelspec": {
      "name": "python3",
      "display_name": "Python 3"
    },
    "language_info": {
      "name": "python"
    }
  },
  "cells": [
    {
      "cell_type": "markdown",
      "metadata": {
        "id": "view-in-github",
        "colab_type": "text"
      },
      "source": [
        "<a href=\"https://colab.research.google.com/github/pgordin/OptDisc2025/blob/main/ProjektMK.ipynb\" target=\"_parent\"><img src=\"https://colab.research.google.com/assets/colab-badge.svg\" alt=\"Open In Colab\"/></a>"
      ]
    },
    {
      "cell_type": "markdown",
      "source": [
        "# Skojarzenia w grafach dwudzielnych\n",
        "Mateusz Kowalczyk 258087"
      ],
      "metadata": {
        "id": "Q-rOgmT_fHmz"
      }
    },
    {
      "cell_type": "markdown",
      "source": [
        "## Importowanie pakietów"
      ],
      "metadata": {
        "id": "wiRh0G-ffUrc"
      }
    },
    {
      "cell_type": "code",
      "source": [
        "import numpy as np\n",
        "import networkx as nx\n",
        "import matplotlib.pyplot as plt\n",
        "from random import random, seed\n",
        "from copy import deepcopy\n",
        "from queue import PriorityQueue\n",
        "from collections import deque"
      ],
      "metadata": {
        "id": "qBMMVcN5fZ3J"
      },
      "execution_count": null,
      "outputs": []
    },
    {
      "cell_type": "markdown",
      "source": [
        "## Wczytajmy najpierw gotowe funkcje z zajęć"
      ],
      "metadata": {
        "id": "j83WezYKg1tM"
      }
    },
    {
      "cell_type": "code",
      "source": [
        "def print_matrix(vertices, matrix):\n",
        "  n=len(matrix)\n",
        "  if (vertices is not None) and (len(vertices)==n):\n",
        "    vv=vertices\n",
        "  else:\n",
        "    vv=range(1,n+1)\n",
        "  for i in range(n):\n",
        "    print(vv[i], \":\", end=\"\")\n",
        "    for j in range(n):\n",
        "      if matrix[i,j]:\n",
        "        print(\" \", vv[j], end=\"\")\n",
        "    print(\"\")"
      ],
      "metadata": {
        "id": "dZ0Bbpalg_me"
      },
      "execution_count": null,
      "outputs": []
    },
    {
      "cell_type": "code",
      "source": [
        "def print_graph(graph):\n",
        "  for v in graph:\n",
        "    print(v, \":\", end=\"\")\n",
        "    for u in graph[v]:\n",
        "      print(\" \", u, end=\"\")\n",
        "    print(\"\")"
      ],
      "metadata": {
        "id": "ABI0fxwcg1Hw"
      },
      "execution_count": null,
      "outputs": []
    },
    {
      "cell_type": "code",
      "source": [
        "def klucz_od_wartości(s, value):\n",
        "  for klucz, wartosc in s.items():\n",
        "    if wartosc == value:\n",
        "      return klucz\n",
        "  return None"
      ],
      "metadata": {
        "id": "FT2hSwmU8bM_"
      },
      "execution_count": null,
      "outputs": []
    },
    {
      "cell_type": "markdown",
      "source": [
        "##Wczytajmy clasę"
      ],
      "metadata": {
        "id": "0vhtHJZh1sOX"
      }
    },
    {
      "cell_type": "code",
      "source": [
        "class Graph:\n",
        "    def __init__(self, graph=None):\n",
        "        if graph is None:\n",
        "            graph = {}\n",
        "        self.graph = graph\n",
        "\n",
        "    # dict initializer\n",
        "    @classmethod\n",
        "    def from_dict(cls, graph):\n",
        "        return cls(graph)\n",
        "\n",
        "    # array initializer\n",
        "    @classmethod\n",
        "    def from_matrix(cls, matrix, vertices = None):\n",
        "        if (vertices is None) or (len(vertices) != len(matrix)):\n",
        "            vertices = [*range(1, len(matrix) + 1)]\n",
        "        return cls.from_dict(cls._matrix_to_dict(matrix, vertices))\n",
        "\n",
        "    # two private methods matrix <-> dictionaries\n",
        "    def _matrix_to_dict(matrix, vertices: list) -> dict:\n",
        "        \"\"\"\n",
        "        Converts a graph given as an adjacency matrix to a graph in dict form.\n",
        "        \"\"\"\n",
        "        res_dict = {}\n",
        "        for i, v in enumerate(vertices):\n",
        "            neighbours = [vertices[j] for j, edge in enumerate(matrix[i]) if edge]\n",
        "            res_dict[v] = neighbours\n",
        "        return res_dict\n",
        "\n",
        "    def _dict_to_matrix(self, _dict: dict) -> np.array:\n",
        "        \"\"\"\n",
        "        Converts a graph in dict form to its adjacency matrix.\n",
        "        \"\"\"\n",
        "        n = len(_dict)\n",
        "        vertices = [*_dict.keys()]\n",
        "        matrix = np.zeros(shape = (n, n), dtype=int)\n",
        "        for u,v in [\n",
        "            (vertices.index(u), vertices.index(v))\n",
        "            for u, row in _dict.items() for v in row\n",
        "        ]:\n",
        "            matrix[u][v] += 1\n",
        "        return matrix\n",
        "\n",
        "    def vertices(self) -> list:\n",
        "        \"\"\"\n",
        "        Returns list of vertices of the graph.\n",
        "        \"\"\"\n",
        "        return [*self.graph.keys()]\n",
        "\n",
        "    def matrix(self) -> np.array:\n",
        "        \"\"\"\n",
        "        Returns the adjacency matrix of the graph.\n",
        "        \"\"\"\n",
        "        return self._dict_to_matrix(self.graph)\n",
        "\n",
        "    # redefinition of print for objects of class Graph\n",
        "    def __str__(self):\n",
        "        res = \"\"\n",
        "        for v in self.graph:\n",
        "            res += f\"{v}:\"\n",
        "            for u in self.graph[v]:\n",
        "                res += f\" {u}\"\n",
        "            res += \"\\n\"\n",
        "        return res\n",
        "\n",
        "    # The following is for free thanks to the above\n",
        "    def to_neighbourlist(self, filename: str):\n",
        "        \"\"\"\n",
        "        Saves a graphs to a text file as a neighbour dict.\\n\n",
        "        Filename is a file path.\n",
        "        \"\"\"\n",
        "        file = open(filename, \"w\")  # open textfile for writing\n",
        "        file.write(str(self))\n",
        "        file.close()\n",
        "\n",
        "    # Modyfying graphs\n",
        "    def add_vertex(self, vertex):\n",
        "        \"\"\"\n",
        "        Adds a new vertex to the graph.\n",
        "        \"\"\"\n",
        "        if vertex not in self.graph:\n",
        "            self.graph[vertex] = []\n",
        "\n",
        "    def del_vertex(self, vertex):\n",
        "        \"\"\"\n",
        "        Removes a vertex from the graph.\n",
        "        \"\"\"\n",
        "        if vertex in self.graph:\n",
        "            self.graph.pop(vertex)\n",
        "            for u in self.graph:\n",
        "                if vertex in self.graph[u]:\n",
        "                    self.graph[u].remove(vertex)\n",
        "\n",
        "    def add_arc(self, arc):\n",
        "        \"\"\"\n",
        "        Given pair of vertices (arc variable) add an arc to the graph\n",
        "        We consider simple, directed graphs.\n",
        "        \"\"\"\n",
        "        u, v = arc\n",
        "        self.add_vertex(u)\n",
        "        self.add_vertex(v)\n",
        "        if v not in self.graph[u]:\n",
        "            self.graph[u].append(v)\n",
        "\n",
        "    def add_edge(self, edge: list):\n",
        "        \"\"\"\n",
        "        Given pair of vertices (edge variable) add an edge to existing graph.\n",
        "        We consider simple, undirected graphs, as symmetric digraphs without loops.\n",
        "        \"\"\"\n",
        "        u, v = edge\n",
        "        if u == v:\n",
        "            raise ValueError(\"Loops are not allowed!\")\n",
        "        self.add_vertex(u)\n",
        "        self.add_vertex(v)\n",
        "        if v not in self.graph[u]:\n",
        "            self.graph[u].append(v)\n",
        "        if u not in self.graph[v]:\n",
        "            self.graph[v].append(u)\n",
        "\n",
        "    # reading from a file\n",
        "    @staticmethod\n",
        "    def from_edges(filename: str, directed = 0):\n",
        "        \"\"\"\n",
        "        Read the graph from file, that in each line contains either\n",
        "        the description of a vertex (one word) or\n",
        "        the description of an edge/arc (at least 2 words).\n",
        "        The resulting graph is returned as a neighbourhood list.\n",
        "        Variable \"filename\" contains the whole path to the file.\n",
        "        \"\"\"\n",
        "        graph = Graph()\n",
        "        file = open(filename, \"r\")          # open the file to read\n",
        "        for line in file:                   # for each line of the file\n",
        "          words = line.strip().split()      # splits the line into words\n",
        "          if len(words) == 1:               # one word - vertex description\n",
        "            graph.add_vertex(words[0])\n",
        "          elif len(words) >= 2:             # at least two words, first two are the edge description\n",
        "            if directed:\n",
        "              graph.add_arc([words[0], words[1]])\n",
        "            else:\n",
        "              graph.add_edge([words[0], words[1]])\n",
        "        file.close()\n",
        "        return graph\n",
        "\n",
        "    @staticmethod\n",
        "    def random_graph(n: int, p: float):\n",
        "        \"\"\"\n",
        "        Creates a random graph in G(n, p) model.\n",
        "        \"\"\"\n",
        "        rand_graph = Graph()\n",
        "        for i in range(1, n + 1):\n",
        "            rand_graph.add_vertex(i)\n",
        "            for j in range(1, i):\n",
        "                if random() < p:\n",
        "                    rand_graph.add_edge([i, j])\n",
        "        return rand_graph\n",
        "\n",
        "    @staticmethod\n",
        "    def cycle(n: int):\n",
        "        \"\"\"\n",
        "        Creates a cycle C_n on n vertices\n",
        "        \"\"\"\n",
        "        cycle = Graph()\n",
        "        for i in range(n-1):\n",
        "          cycle.add_edge([i+1, i+2])\n",
        "        cycle.add_edge([1, n])\n",
        "        return cycle\n",
        "\n",
        "    def draw(self):\n",
        "      \"\"\"\n",
        "      Draws the graph using networkx.\n",
        "      \"\"\"\n",
        "      G = nx.Graph()\n",
        "      for u in self.graph:\n",
        "        for v in self.graph[u]:\n",
        "          G.add_edge(u, v)\n",
        "      pos = nx.spring_layout(G)\n",
        "      nx.draw(G, pos, with_labels=True)\n",
        "      plt.show()\n",
        "\n",
        "    def Prufer(self):\n",
        "      \"\"\"\n",
        "      Returns the Prufer code of a tree.\n",
        "      It is necessary that the graph is a tree (it is not checked).\n",
        "      Result is given as a string (empty for trees on 1 or 2 vertices).\n",
        "      \"\"\"\n",
        "      tr = deepcopy(self.graph)   # copy of a tree, as we destroy it\n",
        "      code = \"\"\n",
        "      for i in range(len(self.graph) - 2):\n",
        "        for x in sorted(tr):\n",
        "          if len(tr[x]) == 1:   # least leaf\n",
        "            break\n",
        "        v = tr[x][0]            # the unique neighbour of x\n",
        "        code = code + f\"{v} \"\n",
        "        tr[v].remove(x)         # remove x from neighbours of v\n",
        "        tr.pop(x)               # remove x from the tree\n",
        "      return code.strip()\n",
        "\n",
        "    @staticmethod\n",
        "    def tree_from_Prufer(code: str):\n",
        "        \"\"\"\n",
        "        Creating a tree from a Prufer code.\n",
        "        \"\"\"\n",
        "        tree = Graph()\n",
        "        clist = [int(x) for x in code.strip().split()]   # code as a list of numbers\n",
        "        n = len(clist) + 2                  # number of vertices\n",
        "        vert = [*range(1, n+1)]             # list of numbers 1..n\n",
        "        for v in vert:\n",
        "          tree.add_vertex(v)\n",
        "        for i in range(n-2):\n",
        "          for x in vert:\n",
        "            if not x in clist:    # x - least leaf\n",
        "              break\n",
        "          v = clist.pop(0)    # remove the first element from the code - the neighbour of x\n",
        "          tree.add_edge((x, v))\n",
        "          vert.remove(x)\n",
        "        tree.add_edge(vert)\n",
        "        return tree\n",
        "\n",
        "    def connected_components(self):\n",
        "      \"\"\"\n",
        "      Szuka spójnych skłądowych w (nieskierowanym) grafie.\n",
        "      Zwraca listę zbiorów wierzchołków.\n",
        "      Uwaga: zerowy element listy zawiera wszystkie wierzchołki grafu\n",
        "      \"\"\"\n",
        "      def DFS(u):\n",
        "        \"\"\"\n",
        "        Przechodzenie w głąb - metoda wewnętrzna\n",
        "        \"\"\"\n",
        "        for w in self.graph[u]:\n",
        "          if w not in VT[0]:    # w jeszcze nieodwiedzony\n",
        "            VT[0].add(w)        # już odwiedzony\n",
        "            VT[-1].add(w)       # w ostatniej (aktualnej) spójnej składowej\n",
        "            DFS(w)\n",
        "      \"\"\"\n",
        "      VT - lista zbiorów wierzchołków (drzew DFS).\n",
        "      VT[0] - docelowo lista wszystkich wierzchołków w grafie.\n",
        "      \"\"\"\n",
        "      VT = [set([])]\n",
        "      for v in self.graph:\n",
        "        if not v in VT[0]:  # v - nieodwiedzony\n",
        "          VT[0].add(v)      # już odwiedzony\n",
        "          VT.append(set([v])) # zalążek nowej spójnej składowej\n",
        "          DFS(v)\n",
        "      return VT\n",
        "\n",
        "    def connected_components_graphs(self):\n",
        "      \"\"\"\n",
        "      Zwraca listę spójnych składowych (jako grafów).\n",
        "      \"\"\"\n",
        "      components = self.connected_components()  # lista zbiorów wierzchołków\n",
        "      component_graphs = []                     # zalążek listy grafów\n",
        "      for component in components[1:]:\n",
        "        subgraph = Graph()\n",
        "        for vertex in component:\n",
        "          subgraph.graph[vertex] = self.graph[vertex].copy()\n",
        "        component_graphs.append(subgraph)\n",
        "      return component_graphs\n",
        "\n",
        "    def distance(self, v):\n",
        "      \"\"\"\n",
        "      Oblicza odległości z wierzhołka v do każdego osiąglanego wierzchołka w grafie.\n",
        "      Używa BFS. Wynik podany jako słownik (indeksowany etykietami wierzchołków).\n",
        "      \"\"\"\n",
        "      dist = {v: 0}   # zalążek słownika\n",
        "      queue = [v]\n",
        "      while len(queue) > 0:\n",
        "        u = queue.pop(0)\n",
        "        for w in self.graph[u]:\n",
        "          if not w in dist:\n",
        "            dist[w] = dist[u] + 1\n",
        "            queue.append(w)\n",
        "      return dist\n",
        "\n",
        "    @staticmethod\n",
        "    def random_bipartite_graph_nk(n: int,k: int, p: float):\n",
        "        rand_graph = Graph()\n",
        "\n",
        "        for i in range(1, n + k + 1):\n",
        "          rand_graph.add_vertex(i)\n",
        "        reds=[*range(1, n+1)]\n",
        "        blacks=[*range(n+1, n+k+1)]\n",
        "        for i in reds:\n",
        "          for j in blacks:\n",
        "            if random() < p:\n",
        "              rand_graph.add_edge([i, j])\n",
        "        return rand_graph\n",
        "\n",
        "\n",
        "    def bipartite_matching(self, X, matching):\n",
        "      \"\"\"\n",
        "      Funkcja bierze graph oraz  listę wierzchołków X.\n",
        "      Funkcja zwraca skojarzenia w postaci słownika.\n",
        "      \"\"\"\n",
        "      Mx=set(matching.keys())\n",
        "      U=X.copy()\n",
        "      U = list(filter(lambda x: x not in Mx, U))\n",
        "      a=1\n",
        "      while a!=0:\n",
        "        S=U.copy()\n",
        "        a=0\n",
        "        T=[]\n",
        "        pop={}\n",
        "        kol=deque()\n",
        "        for i in U:\n",
        "          kol.append(i)\n",
        "        while len(kol)!=0:\n",
        "          u=kol.popleft()\n",
        "          for v in self.graph[u]:\n",
        "            if v not in T:\n",
        "              if v in matching.values():\n",
        "                pop[v]=u\n",
        "                x=klucz_od_wartości(matching,v)\n",
        "                kol.appendleft(x)\n",
        "                S.append(x)\n",
        "                T.append(v)\n",
        "              else:\n",
        "                x=u\n",
        "                while x in matching.keys():\n",
        "                  y=matching[x]\n",
        "                  matching[x]=v\n",
        "                  x=pop[y]\n",
        "                  v=y\n",
        "                matching[x]=v\n",
        "                U.remove(x)\n",
        "                a=1\n",
        "                break\n",
        "          if a==1:\n",
        "            kol.clear()\n",
        "        Sset=set(S)\n",
        "        Q=list(filter(lambda x: x not in Sset, X))+T\n",
        "      return matching, Q\n",
        "\n",
        "\n",
        "\n"
      ],
      "metadata": {
        "id": "GpL6rcH371bJ"
      },
      "execution_count": null,
      "outputs": []
    },
    {
      "cell_type": "markdown",
      "source": [
        "#Pokaz działania"
      ],
      "metadata": {
        "id": "z2IOMSoZpOcm"
      }
    },
    {
      "cell_type": "code",
      "source": [
        "np.random.seed(2025)"
      ],
      "metadata": {
        "id": "QJIL62IKg9db"
      },
      "execution_count": null,
      "outputs": []
    },
    {
      "cell_type": "code",
      "source": [
        "graph=Graph.random_bipartite_graph_nk(5,5,0.5)\n",
        "graph.draw()"
      ],
      "metadata": {
        "colab": {
          "base_uri": "https://localhost:8080/",
          "height": 516
        },
        "id": "vWEsJJuGpNiq",
        "outputId": "fc494044-0ebb-4d9c-fdc3-29f543bc7c26"
      },
      "execution_count": null,
      "outputs": [
        {
          "output_type": "display_data",
          "data": {
            "text/plain": [
              "<Figure size 640x480 with 1 Axes>"
            ],
            "image/png": "[encoded data removed]"
          },
          "metadata": {}
        }
      ]
    },
    {
      "cell_type": "code",
      "source": [
        "X=[1,2,3,4,5]\n",
        "matching={3:7, 4:10}\n",
        "match, Q =graph.bipartite_matching(X,matching)\n",
        "print(match)\n",
        "print(Q)"
      ],
      "metadata": {
        "colab": {
          "base_uri": "https://localhost:8080/"
        },
        "id": "_FsBJdxB2HW9",
        "outputId": "fc3e31de-7c00-4aae-87c5-38649348eee2"
      },
      "execution_count": null,
      "outputs": [
        {
          "output_type": "stream",
          "name": "stdout",
          "text": [
            "{3: 8, 4: 10, 1: 6, 2: 7}\n",
            "[1, 2, 3, 4]\n"
          ]
        }
      ]
    },
    {
      "cell_type": "code",
      "source": [
        "mgraph=Graph()\n",
        "for u, v in match.items():\n",
        "  mgraph.add_edge([u, v])\n",
        "mgraph.draw()"
      ],
      "metadata": {
        "colab": {
          "base_uri": "https://localhost:8080/",
          "height": 516
        },
        "id": "STK6IqXGl7Dt",
        "outputId": "166f1f43-c753-4ce8-ca96-7e7d0fe67f5d"
      },
      "execution_count": null,
      "outputs": [
        {
          "output_type": "display_data",
          "data": {
            "text/plain": [
              "<Figure size 640x480 with 1 Axes>"
            ],
            "image/png": "[encoded data removed]"
          },
          "metadata": {}
        }
      ]
    }
  ]
}