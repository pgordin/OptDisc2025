{
  "nbformat": 4,
  "nbformat_minor": 0,
  "metadata": {
    "colab": {
      "provenance": [],
      "include_colab_link": true
    },
    "kernelspec": {
      "name": "python3",
      "display_name": "Python 3"
    },
    "language_info": {
      "name": "python"
    }
  },
  "cells": [
    {
      "cell_type": "markdown",
      "metadata": {
        "id": "view-in-github",
        "colab_type": "text"
      },
      "source": [
        "<a href=\"https://colab.research.google.com/github/pgordin/OptDisc2025/blob/main/Lab1_LP_ILP.ipynb\" target=\"_parent\"><img src=\"https://colab.research.google.com/assets/colab-badge.svg\" alt=\"Open In Colab\"/></a>"
      ]
    },
    {
      "cell_type": "markdown",
      "source": [
        "# Linki do tutoriali\n",
        "\n",
        "[Programowanie liniowe](https://medium.com/@chongjingting/4-ways-to-solve-linear-programming-in-python-b4af36b7894d)\n",
        "\n",
        "[Programowanie całkowitoliczbowe w PULP](https://medium.com/@gazalashaikh999/mixed-integer-programming-cfe0c196e875)\n",
        "\n",
        "[Automatyzacja programowania całkowitoliczbowego w Google-OR\n",
        "](https://developers.google.com/optimization/mip/mip_var_array?hl=pl)\n",
        "\n",
        "# Zadanie 1.\n",
        "Na przykładzie ciągłego problemu plecakowego sprawdzić (i przetestować) SciPy, PuLP i Google OR-Tools."
      ],
      "metadata": {
        "id": "aOeKaIUkTpvk"
      }
    },
    {
      "cell_type": "markdown",
      "source": [
        "**1. ScipPy**"
      ],
      "metadata": {
        "id": "KhY8AgrNGfxM"
      }
    },
    {
      "cell_type": "code",
      "source": [
        "import numpy as np\n",
        "from scipy.optimize import linprog"
      ],
      "metadata": {
        "id": "mPc4X8DJHe-2"
      },
      "execution_count": 8,
      "outputs": []
    },
    {
      "cell_type": "markdown",
      "source": [
        "Dane dla przedmiotów"
      ],
      "metadata": {
        "id": "N1BWqzJ-IJYt"
      }
    },
    {
      "cell_type": "code",
      "source": [
        "#wartości przedmiotów\n",
        "values = [60, 100, 120]\n",
        "\n",
        "#wagi przedmiotów\n",
        "weights = [10, 20, 30]\n",
        "\n",
        "#maksymalna waga plecaka\n",
        "W = 50\n",
        "\n",
        "#liczba przedmiotów\n",
        "n = len(values)"
      ],
      "metadata": {
        "id": "krv48vvyIXYZ"
      },
      "execution_count": 9,
      "outputs": []
    },
    {
      "cell_type": "markdown",
      "source": [
        "Funkcja celu"
      ],
      "metadata": {
        "id": "CPeN0RpALXRj"
      }
    },
    {
      "cell_type": "code",
      "source": [
        "c = [-v for v in values]"
      ],
      "metadata": {
        "id": "ee5dxWoELS7H"
      },
      "execution_count": 11,
      "outputs": []
    },
    {
      "cell_type": "markdown",
      "source": [
        "Wprowadzone ograniczenia"
      ],
      "metadata": {
        "id": "dVoFA7mcI0ke"
      }
    },
    {
      "cell_type": "code",
      "source": [
        "#ograniczenie sumy wag\n",
        "A = [weights]\n",
        "\n",
        "#ograniczenie na maksymalną wagę plecaka\n",
        "b = [W]\n",
        "\n",
        "# ograniczenie, że x_i jest w przedziale [0, 1]\n",
        "bounds = [(0, 1) for _ in range(n)]"
      ],
      "metadata": {
        "id": "aUukMso2JAFa"
      },
      "execution_count": 12,
      "outputs": []
    },
    {
      "cell_type": "markdown",
      "source": [
        "Rozwiązanie problemu"
      ],
      "metadata": {
        "id": "R_5tifpnIqw4"
      }
    },
    {
      "cell_type": "code",
      "source": [
        "result = linprog(c, A_ub=A, b_ub=b, bounds=bounds, method='highs')\n",
        "if result.success:\n",
        "    print(\"Optymalne rozwiązanie\")\n",
        "    print(f\"Wybrane przedmioty: {np.round(result.x, 2)}\")\n",
        "    print(f\"Łączna wartość plecaka: {-result.fun}\")\n",
        "else:\n",
        "    print(\"Nie znaleziono rozwiązania\")"
      ],
      "metadata": {
        "id": "9zeBdHSAIvnn",
        "outputId": "35718a90-a6f7-4454-f03a-f53b62ec5a3f",
        "colab": {
          "base_uri": "https://localhost:8080/"
        }
      },
      "execution_count": 13,
      "outputs": [
        {
          "output_type": "stream",
          "name": "stdout",
          "text": [
            "Optymalne rozwiązanie\n",
            "Wybrane przedmioty: [1.   1.   0.67]\n",
            "Łączna wartość plecaka: 240.0\n"
          ]
        }
      ]
    },
    {
      "cell_type": "markdown",
      "source": [
        "**2. PuLP**"
      ],
      "metadata": {
        "id": "WAuBeQAcGrYJ"
      }
    },
    {
      "cell_type": "code",
      "source": [],
      "metadata": {
        "id": "TGZCO9lmKFtj"
      },
      "execution_count": null,
      "outputs": []
    },
    {
      "cell_type": "markdown",
      "source": [
        "**3. Google OR-Tools**"
      ],
      "metadata": {
        "id": "KJM49qLWGv99"
      }
    },
    {
      "cell_type": "code",
      "source": [],
      "metadata": {
        "id": "VDh0aikjKIJ5"
      },
      "execution_count": null,
      "outputs": []
    },
    {
      "cell_type": "markdown",
      "source": [
        "- - -"
      ],
      "metadata": {
        "id": "7l1Y2wmybul2"
      }
    },
    {
      "cell_type": "markdown",
      "source": [
        "# Zadanie 2.\n",
        "Jak wygląda programowanie całkowitoliczbowe w tych pakietach? Rozwiązać (zwykły) problem plecakowy.\n"
      ],
      "metadata": {
        "id": "jkN1WRnzZlw4"
      }
    },
    {
      "cell_type": "markdown",
      "source": [
        "- - -"
      ],
      "metadata": {
        "id": "aSGWhoPcb7wQ"
      }
    },
    {
      "cell_type": "markdown",
      "source": [
        "**1. ScipPy**"
      ],
      "metadata": {
        "id": "_MpxUAQKJmIT"
      }
    },
    {
      "cell_type": "markdown",
      "source": [
        "SciPy nie obsługuje programowania całkowitoliczbowego bezpośrednio, więc do rozwiązania tego typu problemu możemy sprawdzić wszystkie kombinacje wybranych przedmiotów i znaleźć najlepszą możliwą całkowitoliczbową wartość."
      ],
      "metadata": {
        "id": "fj4Ia_ZfKaRZ"
      }
    },
    {
      "cell_type": "code",
      "source": [
        "import numpy as np\n",
        "from scipy.optimize import linprog\n",
        "from itertools import combinations"
      ],
      "metadata": {
        "id": "f6CVy42fKiwF"
      },
      "execution_count": 14,
      "outputs": []
    },
    {
      "cell_type": "markdown",
      "source": [
        "Dane dla przedmiotów"
      ],
      "metadata": {
        "id": "8fu83CsYKnMc"
      }
    },
    {
      "cell_type": "code",
      "source": [
        "#wartości przedmiotów\n",
        "values = [60, 100, 120]\n",
        "\n",
        "#wagi przedmiotów\n",
        "weights = [10, 20, 30]\n",
        "\n",
        "#maksymalna waga plecaka\n",
        "W = 50\n",
        "\n",
        "#liczba przedmiotów\n",
        "n = len(values)"
      ],
      "metadata": {
        "id": "KVJhyhQsKsig"
      },
      "execution_count": 15,
      "outputs": []
    },
    {
      "cell_type": "markdown",
      "source": [
        "Funkcja celu"
      ],
      "metadata": {
        "id": "mTesESUkLnwn"
      }
    },
    {
      "cell_type": "code",
      "source": [
        "c = [-v for v in values]"
      ],
      "metadata": {
        "id": "VycKBEA6LuUO"
      },
      "execution_count": 16,
      "outputs": []
    },
    {
      "cell_type": "markdown",
      "source": [
        "Ograniczenia dla funkcji"
      ],
      "metadata": {
        "id": "25q49gXJLw7p"
      }
    },
    {
      "cell_type": "code",
      "source": [
        "#ograniczenie wagowe\n",
        "A = [weights]\n",
        "\n",
        "#ograniczenie na maksymalną wagę plecaka\n",
        "b = [W]\n",
        "\n",
        "#ograniczenia x_i ∈ {0, 1}\n",
        "bounds = [(0, 1) for _ in range(n)]"
      ],
      "metadata": {
        "id": "NuKMkIUYL3ab"
      },
      "execution_count": 17,
      "outputs": []
    },
    {
      "cell_type": "markdown",
      "source": [
        "Rozwiązanie problemu"
      ],
      "metadata": {
        "id": "FhdPZnOGL9we"
      }
    },
    {
      "cell_type": "code",
      "source": [
        "result = linprog(c, A_ub=A, b_ub=b, bounds=bounds, method='highs')\n",
        "if result.success:\n",
        "    #zaokrąglamy i sprawdzamy wszystkie kombinacje\n",
        "    best_value = 0\n",
        "    best_combination = None\n",
        "\n",
        "    #przegląd wszystkich kombinacji przedmiotów\n",
        "    for r in range(1, n + 1):\n",
        "        for subset in combinations(range(n), r):\n",
        "            subset_weight = sum(weights[i] for i in subset)\n",
        "            subset_value = sum(values[i] for i in subset)\n",
        "\n",
        "            if subset_weight <= W and subset_value > best_value:\n",
        "                best_value = subset_value\n",
        "                best_combination = subset\n",
        "\n",
        "    selected_items = [1 if i in best_combination else 0 for i in range(n)]\n",
        "\n",
        "    print(\"Optymalne rozwiązanie\")\n",
        "    print(f\"Wybrane przedmioty: {selected_items}\")\n",
        "    print(f\"Łączna wartość plecaka: {best_value}\")\n",
        "else:\n",
        "    print(\"Nie znaleziono rozwiązania\")"
      ],
      "metadata": {
        "id": "MCL28-udMBeU",
        "outputId": "443b2e20-771d-4005-9085-8c14a1819e07",
        "colab": {
          "base_uri": "https://localhost:8080/"
        }
      },
      "execution_count": 18,
      "outputs": [
        {
          "output_type": "stream",
          "name": "stdout",
          "text": [
            "Optymalne rozwiązanie\n",
            "Wybrane przedmioty: [0, 1, 1]\n",
            "Łączna wartość plecaka: 220\n"
          ]
        }
      ]
    },
    {
      "cell_type": "markdown",
      "source": [
        "**2. PuLP**"
      ],
      "metadata": {
        "id": "j_zcEXLnMQ8k"
      }
    },
    {
      "cell_type": "code",
      "source": [],
      "metadata": {
        "id": "lv_rW-IJMW1R"
      },
      "execution_count": null,
      "outputs": []
    },
    {
      "cell_type": "markdown",
      "source": [
        "**3. Google OR-Tools**"
      ],
      "metadata": {
        "id": "tYbxzZumMbrH"
      }
    },
    {
      "cell_type": "code",
      "source": [],
      "metadata": {
        "id": "KkugsBSoMjks"
      },
      "execution_count": null,
      "outputs": []
    }
  ]
}