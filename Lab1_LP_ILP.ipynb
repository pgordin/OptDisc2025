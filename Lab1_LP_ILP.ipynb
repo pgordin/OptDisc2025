{
  "nbformat": 4,
  "nbformat_minor": 0,
  "metadata": {
    "colab": {
      "provenance": [],
      "include_colab_link": true
    },
    "kernelspec": {
      "name": "python3",
      "display_name": "Python 3"
    },
    "language_info": {
      "name": "python"
    }
  },
  "cells": [
    {
      "cell_type": "markdown",
      "metadata": {
        "id": "view-in-github",
        "colab_type": "text"
      },
      "source": [
        "<a href=\"https://colab.research.google.com/github/pgordin/OptDisc2025/blob/main/Lab1_LP_ILP.ipynb\" target=\"_parent\"><img src=\"https://colab.research.google.com/assets/colab-badge.svg\" alt=\"Open In Colab\"/></a>"
      ]
    },
    {
      "cell_type": "markdown",
      "source": [
        "# Linki do tutoriali\n",
        "\n",
        "[Programowanie liniowe](https://medium.com/@chongjingting/4-ways-to-solve-linear-programming-in-python-b4af36b7894d)\n",
        "\n",
        "[Programowanie całkowitoliczbowe w PULP](https://medium.com/@gazalashaikh999/mixed-integer-programming-cfe0c196e875)\n",
        "\n",
        "[Automatyzacja programowania całkowitoliczbowego w Google-OR\n",
        "](https://developers.google.com/optimization/mip/mip_var_array?hl=pl)\n",
        "\n",
        "# Zadanie 1.\n",
        "Na przykładzie ciągłego problemu plecakowego sprawdzić (i przetestować) SciPy, PuLP i Google OR-Tools."
      ],
      "metadata": {
        "id": "aOeKaIUkTpvk"
      }
    },
    {
      "cell_type": "markdown",
      "source": [
        "- - -"
      ],
      "metadata": {
        "id": "7l1Y2wmybul2"
      }
    },
    {
      "cell_type": "markdown",
      "source": [
        "# Zadanie 2.\n",
        "Jak wygląda programowanie całkowitoliczbowe w tych pakietach? Rozwiązać (zwykły) problem plecakowy.\n"
      ],
      "metadata": {
        "id": "jkN1WRnzZlw4"
      }
    },
    {
      "cell_type": "markdown",
      "source": [
        "- - -"
      ],
      "metadata": {
        "id": "aSGWhoPcb7wQ"
      }
    }
  ]
}