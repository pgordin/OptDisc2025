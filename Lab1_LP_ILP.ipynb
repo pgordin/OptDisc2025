{
  "nbformat": 4,
  "nbformat_minor": 0,
  "metadata": {
    "colab": {
      "provenance": [],
      "include_colab_link": true
    },
    "kernelspec": {
      "name": "python3",
      "display_name": "Python 3"
    },
    "language_info": {
      "name": "python"
    }
  },
  "cells": [
    {
      "cell_type": "markdown",
      "metadata": {
        "id": "view-in-github",
        "colab_type": "text"
      },
      "source": [
        "<a href=\"https://colab.research.google.com/github/pgordin/OptDisc2025/blob/main/Lab1_LP_ILP.ipynb\" target=\"_parent\"><img src=\"https://colab.research.google.com/assets/colab-badge.svg\" alt=\"Open In Colab\"/></a>"
      ]
    },
    {
      "cell_type": "markdown",
      "source": [
        "# Linki do tutoriali\n",
        "\n",
        "[Programowanie liniowe](https://medium.com/@chongjingting/4-ways-to-solve-linear-programming-in-python-b4af36b7894d)\n",
        "\n",
        "[Programowanie całkowitoliczbowe w PULP](https://medium.com/@gazalashaikh999/mixed-integer-programming-cfe0c196e875)\n",
        "\n",
        "[Automatyzacja programowania całkowitoliczbowego w Google-OR\n",
        "](https://developers.google.com/optimization/mip/mip_var_array?hl=pl)\n",
        "\n",
        "# Zadanie 1.\n",
        "Na przykładzie ciągłego problemu plecakowego sprawdzić (i przetestować) SciPy, PuLP i Google OR-Tools."
      ],
      "metadata": {
        "id": "aOeKaIUkTpvk"
      }
    },
    {
      "cell_type": "markdown",
      "source": [
        "**1. ScipPy**"
      ],
      "metadata": {
        "id": "KhY8AgrNGfxM"
      }
    },
    {
      "cell_type": "code",
      "source": [
        "import numpy as np\n",
        "from scipy.optimize import linprog"
      ],
      "metadata": {
        "id": "mPc4X8DJHe-2"
      },
      "execution_count": 76,
      "outputs": []
    },
    {
      "cell_type": "markdown",
      "source": [
        "Dane dla przedmiotów"
      ],
      "metadata": {
        "id": "N1BWqzJ-IJYt"
      }
    },
    {
      "cell_type": "code",
      "source": [
        "#wartości przedmiotów\n",
        "values = [60, 100, 120]\n",
        "\n",
        "#wagi przedmiotów\n",
        "weights = [10, 20, 30]\n",
        "\n",
        "#maksymalna waga plecaka\n",
        "W = 50\n",
        "\n",
        "#liczba przedmiotów\n",
        "n = len(values)"
      ],
      "metadata": {
        "id": "krv48vvyIXYZ"
      },
      "execution_count": 77,
      "outputs": []
    },
    {
      "cell_type": "markdown",
      "source": [
        "Funkcja celu"
      ],
      "metadata": {
        "id": "CPeN0RpALXRj"
      }
    },
    {
      "cell_type": "code",
      "source": [
        "c = [-v for v in values]"
      ],
      "metadata": {
        "id": "ee5dxWoELS7H"
      },
      "execution_count": 78,
      "outputs": []
    },
    {
      "cell_type": "markdown",
      "source": [
        "Wprowadzone ograniczenia"
      ],
      "metadata": {
        "id": "dVoFA7mcI0ke"
      }
    },
    {
      "cell_type": "code",
      "source": [
        "#ograniczenie sumy wag\n",
        "A = [weights]\n",
        "\n",
        "#ograniczenie na maksymalną wagę plecaka\n",
        "b = [W]\n",
        "\n",
        "# ograniczenie, że x_i jest w przedziale [0, 1]\n",
        "bounds = [(0, 1) for _ in range(n)]"
      ],
      "metadata": {
        "id": "aUukMso2JAFa"
      },
      "execution_count": 79,
      "outputs": []
    },
    {
      "cell_type": "markdown",
      "source": [
        "Rozwiązanie problemu"
      ],
      "metadata": {
        "id": "R_5tifpnIqw4"
      }
    },
    {
      "cell_type": "code",
      "source": [
        "result = linprog(c, A_ub=A, b_ub=b, bounds=bounds, method='highs')\n",
        "if result.success:\n",
        "    print(\"Optymalne rozwiązanie\")\n",
        "    print(f\"Wybrane przedmioty: {np.round(result.x, 2)}\")\n",
        "    print(f\"Łączna wartość plecaka: {-result.fun}\")\n",
        "else:\n",
        "    print(\"Nie znaleziono rozwiązania\")"
      ],
      "metadata": {
        "id": "9zeBdHSAIvnn",
        "outputId": "17d8cdd9-5d66-47a6-f01a-349fc0766deb",
        "colab": {
          "base_uri": "https://localhost:8080/"
        }
      },
      "execution_count": 80,
      "outputs": [
        {
          "output_type": "stream",
          "name": "stdout",
          "text": [
            "Optymalne rozwiązanie\n",
            "Wybrane przedmioty: [1.   1.   0.67]\n",
            "Łączna wartość plecaka: 240.0\n"
          ]
        }
      ]
    },
    {
      "cell_type": "markdown",
      "source": [
        "**2. PuLP**"
      ],
      "metadata": {
        "id": "WAuBeQAcGrYJ"
      }
    },
    {
      "cell_type": "code",
      "source": [
        "!pip install pulp"
      ],
      "metadata": {
        "id": "hpuogwM4wjsf",
        "outputId": "2a6bcb59-1694-4e35-eb22-0bda729128f9",
        "colab": {
          "base_uri": "https://localhost:8080/"
        }
      },
      "execution_count": 81,
      "outputs": [
        {
          "output_type": "stream",
          "name": "stdout",
          "text": [
            "Requirement already satisfied: pulp in /usr/local/lib/python3.11/dist-packages (3.0.2)\n"
          ]
        }
      ]
    },
    {
      "cell_type": "code",
      "source": [
        "from pulp import *"
      ],
      "metadata": {
        "id": "TGZCO9lmKFtj"
      },
      "execution_count": 82,
      "outputs": []
    },
    {
      "cell_type": "code",
      "source": [
        "model = pulp.LpProblem('linear_programming', LpMaximize)"
      ],
      "metadata": {
        "id": "YrTHVHpPsA3r"
      },
      "execution_count": 83,
      "outputs": []
    },
    {
      "cell_type": "markdown",
      "source": [
        "get solver"
      ],
      "metadata": {
        "id": "_pBgkKRysLjL"
      }
    },
    {
      "cell_type": "code",
      "source": [
        "solver = getSolver('PULP_CBC_CMD')"
      ],
      "metadata": {
        "id": "45a_-k1ZsFoA"
      },
      "execution_count": 84,
      "outputs": []
    },
    {
      "cell_type": "markdown",
      "source": [
        "Zmienne decyzyjne"
      ],
      "metadata": {
        "id": "IrhvJyASs1ui"
      }
    },
    {
      "cell_type": "code",
      "source": [
        "# ilosci wzietych poszczegolnych produktów\n",
        "x1 = LpVariable('x1', lowBound = 0, cat = 'Continuous')\n",
        "x2 = LpVariable('x2', lowBound = 0, cat = 'Continuous')\n",
        "x3 = LpVariable('x3', lowBound = 0, cat = 'Continuous')\n",
        "x4 = LpVariable('x4', lowBound = 0, cat = 'Continuous')\n",
        "x5 = LpVariable('x5', lowBound = 0, cat = 'Continuous')\n",
        "\n",
        "#pojemnosc plecaka\n",
        "pojemnosc = 1200\n",
        "\n",
        "#maksymalne możliwe ilości do wzięcia\n",
        "quant = [10,7,8,5,6]\n",
        "\n",
        "#masy jednostkowe produktów\n",
        "mass = [46, 40, 42, 38, 10]\n",
        "\n",
        "#ceny jednostkowe produktów\n",
        "values = [12, 19, 19, 15, 8]"
      ],
      "metadata": {
        "id": "LjwxCSeFswFN"
      },
      "execution_count": 85,
      "outputs": []
    },
    {
      "cell_type": "markdown",
      "source": [
        "Cel"
      ],
      "metadata": {
        "id": "DzFOcpaSte2t"
      }
    },
    {
      "cell_type": "code",
      "source": [
        "model += values[0]*x1+values[1]*x2+values[2]*x3+values[3]*x4+values[4]*x5"
      ],
      "metadata": {
        "id": "9C7qQ44VtuYH"
      },
      "execution_count": 86,
      "outputs": []
    },
    {
      "cell_type": "markdown",
      "source": [
        "Wprowadzenie ograniczeń"
      ],
      "metadata": {
        "id": "w2pQ7xjwtxjn"
      }
    },
    {
      "cell_type": "code",
      "source": [
        "model += mass[0]*x1+mass[1]*x2+mass[2]*x3+mass[3]*x4+mass[4]*x5 <= pojemnosc\n",
        "\n",
        "for i in range(1,6):\n",
        "    model += eval('x{}'.format(i)) <= quant[i-1]"
      ],
      "metadata": {
        "id": "U9dw0Nn4uuNV"
      },
      "execution_count": 87,
      "outputs": []
    },
    {
      "cell_type": "markdown",
      "source": [
        "Rozwiązanie"
      ],
      "metadata": {
        "id": "RaWEDDNRu2NS"
      }
    },
    {
      "cell_type": "code",
      "source": [
        "results = model.solve(solver=solver)\n",
        "\n",
        "# print results\n",
        "if LpStatus[results] == 'Optimal': print('The solution is optimal.')\n",
        "print(f'Objective value: z* = {value(model.objective)}')\n",
        "print(f'Mass value: z* = {mass[0]*value(x1)+mass[1]*value(x2)+mass[2]*value(x3)+mass[3]*value(x4)+mass[4]*value(x5)}')\n",
        "print(f'Solution: x1* = {value(x1)}, x2* = {value(x2)}, x3* = {value(x3)}, x4* = {value(x4)}, x5* = {value(x5)}')"
      ],
      "metadata": {
        "id": "o3cnRqM-vEO3",
        "outputId": "99062dfa-7de1-4de4-bd03-13f1e3643696",
        "colab": {
          "base_uri": "https://localhost:8080/"
        }
      },
      "execution_count": 88,
      "outputs": [
        {
          "output_type": "stream",
          "name": "stdout",
          "text": [
            "The solution is optimal.\n",
            "Objective value: z* = 495.1304352\n",
            "Mass value: z* = 1200.0000016\n",
            "Solution: x1* = 7.2608696, x2* = 7.0, x3* = 8.0, x4* = 5.0, x5* = 6.0\n"
          ]
        }
      ]
    },
    {
      "cell_type": "markdown",
      "source": [
        "**3. Google OR-Tools**"
      ],
      "metadata": {
        "id": "KJM49qLWGv99"
      }
    },
    {
      "cell_type": "markdown",
      "source": [
        "Podstawy - problem plecakowy w wersji ciągłej"
      ],
      "metadata": {
        "id": "6qR2KPDVnNsa"
      }
    },
    {
      "cell_type": "code",
      "source": [
        "!pip install ortools"
      ],
      "metadata": {
        "id": "aqHvyA4Nnp6H",
        "outputId": "0eaa31e7-daf3-45b6-ea37-80c0941ae369",
        "colab": {
          "base_uri": "https://localhost:8080/"
        }
      },
      "execution_count": 89,
      "outputs": [
        {
          "output_type": "stream",
          "name": "stdout",
          "text": [
            "Requirement already satisfied: ortools in /usr/local/lib/python3.11/dist-packages (9.12.4544)\n",
            "Requirement already satisfied: absl-py>=2.0.0 in /usr/local/lib/python3.11/dist-packages (from ortools) (2.1.0)\n",
            "Requirement already satisfied: numpy>=1.13.3 in /usr/local/lib/python3.11/dist-packages (from ortools) (1.26.4)\n",
            "Requirement already satisfied: pandas>=2.0.0 in /usr/local/lib/python3.11/dist-packages (from ortools) (2.2.2)\n",
            "Requirement already satisfied: protobuf<5.30,>=5.29.3 in /usr/local/lib/python3.11/dist-packages (from ortools) (5.29.3)\n",
            "Requirement already satisfied: immutabledict>=3.0.0 in /usr/local/lib/python3.11/dist-packages (from ortools) (4.2.1)\n",
            "Requirement already satisfied: python-dateutil>=2.8.2 in /usr/local/lib/python3.11/dist-packages (from pandas>=2.0.0->ortools) (2.8.2)\n",
            "Requirement already satisfied: pytz>=2020.1 in /usr/local/lib/python3.11/dist-packages (from pandas>=2.0.0->ortools) (2025.1)\n",
            "Requirement already satisfied: tzdata>=2022.7 in /usr/local/lib/python3.11/dist-packages (from pandas>=2.0.0->ortools) (2025.1)\n",
            "Requirement already satisfied: six>=1.5 in /usr/local/lib/python3.11/dist-packages (from python-dateutil>=2.8.2->pandas>=2.0.0->ortools) (1.17.0)\n"
          ]
        }
      ]
    },
    {
      "cell_type": "code",
      "source": [
        "from ortools.linear_solver import pywraplp\n",
        "\n",
        "#ustalenie stałych\n",
        "#wartości przedmiotów:\n",
        "item1value = 100\n",
        "item2value = 0.5\n",
        "\n",
        "#pojemność plecaka:\n",
        "knapsack_cap = 20\n",
        "\n",
        "#dostępna masa przedmiotów:\n",
        "item1maxmass = 6.3\n",
        "item2maxmass = 15\n",
        "\n",
        "# wywołanie solvera\n",
        "solver = pywraplp.Solver.CreateSolver('GLOP')\n",
        "\n",
        "# określenie zmiennych\n",
        "item1mass = solver.NumVar(0.0, solver.infinity(), 'item1mass')\n",
        "item2mass = solver.NumVar(0.0, solver.infinity(), 'item2mass')\n",
        "\n",
        "# określenie celu\n",
        "solver.Maximize(item1value*item1mass + item2value*item2mass)\n",
        "\n",
        "# określenie ograniczeń\n",
        "solver.Add(item1mass + item2mass <= knapsack_cap)\n",
        "solver.Add(item1mass <= item1maxmass)\n",
        "solver.Add(item2mass <= item2maxmass)\n",
        "\n",
        "# rozwiązywanie\n",
        "results = solver.Solve()\n",
        "\n",
        "# wyświetlenie wyniku:\n",
        "if results == pywraplp.Solver.OPTIMAL: print(f'The solution is optimal.')\n",
        "print(f'Objective value: z* = {solver.Objective().Value()}')\n",
        "print(f'Solution: item1mass* = {item1mass.solution_value()}, item2mass* = {item2mass.solution_value()}')"
      ],
      "metadata": {
        "id": "VDh0aikjKIJ5",
        "outputId": "f7b9a818-36e3-41dc-ba35-0866dadc9469",
        "colab": {
          "base_uri": "https://localhost:8080/"
        }
      },
      "execution_count": 90,
      "outputs": [
        {
          "output_type": "stream",
          "name": "stdout",
          "text": [
            "The solution is optimal.\n",
            "Objective value: z* = 636.85\n",
            "Solution: item1mass* = 6.3, item2mass* = 13.700000000000001\n"
          ]
        }
      ]
    },
    {
      "cell_type": "markdown",
      "source": [
        "Funkcja do rozwiązywania problemu plecakowego w wersji ciągłej, z jednym plecakiem"
      ],
      "metadata": {
        "id": "eS86xkGVo89H"
      }
    },
    {
      "cell_type": "code",
      "source": [
        "import numpy as np\n",
        "def solving_knapsack_problem(itemvalues, itemmass, itemBounds, capacity):\n",
        "\n",
        "    solver = pywraplp.Solver.CreateSolver('SCIP')\n",
        "\n",
        "    # określanie zmiennych (iteracyjnie, w zależności od tego co podamy do funkcji)\n",
        "\n",
        "    itemCounts = np.array([solver.IntVar(0.0, solver.infinity(), f'item{i + 1}Count') for i in range(len(itemvalues))])\n",
        "\n",
        "    # określanie celu\n",
        "    solver.Maximize(sum(itemvalues*itemCounts))\n",
        "\n",
        "    # określanie ograniczeń (iteracyjnie, w zależności od tego co podamy do funkcji)\n",
        "\n",
        "    for i in range(len(itemBounds)):\n",
        "        solver.Add(itemCounts[i] <= itemBounds[i])\n",
        "\n",
        "\n",
        "    solver.Add(solver.Sum(itemCounts[i] * itemmass[i] for i in range(len(itemmass))) <= capacity)\n",
        "\n",
        "\n",
        "    # rozwiązanie\n",
        "    results = solver.Solve()\n",
        "\n",
        "    # wyświetlanie wyników\n",
        "    if results == pywraplp.Solver.OPTIMAL: print(f'The solution is optimal.')\n",
        "    print(f'Objective value: z* = {solver.Objective().Value()}')\n",
        "    for i in range(len(itemCounts)):\n",
        "        print(f'Solution: item{i+1}Count* = {itemCounts[i].solution_value()}')"
      ],
      "metadata": {
        "id": "CCXVfW1lo_HC"
      },
      "execution_count": 91,
      "outputs": []
    },
    {
      "cell_type": "markdown",
      "source": [
        "Przykładowe wykorzystanie"
      ],
      "metadata": {
        "id": "W1aLub4-pMyT"
      }
    },
    {
      "cell_type": "code",
      "source": [
        "# przykładowe dane\n",
        "\n",
        "itemvalues = np.array([100, 0.5])\n",
        "itemmass = np.array([16.3, 2.2])\n",
        "itemCounts = []\n",
        "itemBounds = np.array([6, 15])\n",
        "capacity = 95\n",
        "\n",
        "solving_knapsack_problem(itemvalues, itemmass, itemBounds, capacity)"
      ],
      "metadata": {
        "id": "b8u8vkmVpNyw",
        "outputId": "eda91f44-c56d-4884-d59f-eee841ab4053",
        "colab": {
          "base_uri": "https://localhost:8080/"
        }
      },
      "execution_count": 92,
      "outputs": [
        {
          "output_type": "stream",
          "name": "stdout",
          "text": [
            "The solution is optimal.\n",
            "Objective value: z* = 502.99999999999994\n",
            "Solution: item1Count* = 5.0\n",
            "Solution: item2Count* = 6.0\n"
          ]
        }
      ]
    },
    {
      "cell_type": "markdown",
      "source": [
        "- - -"
      ],
      "metadata": {
        "id": "7l1Y2wmybul2"
      }
    },
    {
      "cell_type": "markdown",
      "source": [
        "# Zadanie 2.\n",
        "Jak wygląda programowanie całkowitoliczbowe w tych pakietach? Rozwiązać (zwykły) problem plecakowy.\n"
      ],
      "metadata": {
        "id": "jkN1WRnzZlw4"
      }
    },
    {
      "cell_type": "markdown",
      "source": [
        "- - -"
      ],
      "metadata": {
        "id": "aSGWhoPcb7wQ"
      }
    },
    {
      "cell_type": "markdown",
      "source": [
        "**1. ScipPy**"
      ],
      "metadata": {
        "id": "_MpxUAQKJmIT"
      }
    },
    {
      "cell_type": "markdown",
      "source": [
        "SciPy nie obsługuje programowania całkowitoliczbowego bezpośrednio, więc do rozwiązania tego typu problemu możemy sprawdzić wszystkie kombinacje wybranych przedmiotów i znaleźć najlepszą możliwą całkowitoliczbową wartość."
      ],
      "metadata": {
        "id": "fj4Ia_ZfKaRZ"
      }
    },
    {
      "cell_type": "code",
      "source": [
        "import numpy as np\n",
        "from scipy.optimize import linprog\n",
        "from itertools import combinations"
      ],
      "metadata": {
        "id": "f6CVy42fKiwF"
      },
      "execution_count": 93,
      "outputs": []
    },
    {
      "cell_type": "markdown",
      "source": [
        "Dane dla przedmiotów"
      ],
      "metadata": {
        "id": "8fu83CsYKnMc"
      }
    },
    {
      "cell_type": "code",
      "source": [
        "#wartości przedmiotów\n",
        "values = [60, 100, 120]\n",
        "\n",
        "#wagi przedmiotów\n",
        "weights = [10, 20, 30]\n",
        "\n",
        "#maksymalna waga plecaka\n",
        "W = 50\n",
        "\n",
        "#liczba przedmiotów\n",
        "n = len(values)"
      ],
      "metadata": {
        "id": "KVJhyhQsKsig"
      },
      "execution_count": 94,
      "outputs": []
    },
    {
      "cell_type": "markdown",
      "source": [
        "Funkcja celu"
      ],
      "metadata": {
        "id": "mTesESUkLnwn"
      }
    },
    {
      "cell_type": "code",
      "source": [
        "c = [-v for v in values]"
      ],
      "metadata": {
        "id": "VycKBEA6LuUO"
      },
      "execution_count": 95,
      "outputs": []
    },
    {
      "cell_type": "markdown",
      "source": [
        "Ograniczenia dla funkcji"
      ],
      "metadata": {
        "id": "25q49gXJLw7p"
      }
    },
    {
      "cell_type": "code",
      "source": [
        "#ograniczenie wagowe\n",
        "A = [weights]\n",
        "\n",
        "#ograniczenie na maksymalną wagę plecaka\n",
        "b = [W]\n",
        "\n",
        "#ograniczenia x_i ∈ {0, 1}\n",
        "bounds = [(0, 1) for _ in range(n)]"
      ],
      "metadata": {
        "id": "NuKMkIUYL3ab"
      },
      "execution_count": 96,
      "outputs": []
    },
    {
      "cell_type": "markdown",
      "source": [
        "Rozwiązanie problemu"
      ],
      "metadata": {
        "id": "FhdPZnOGL9we"
      }
    },
    {
      "cell_type": "code",
      "source": [
        "result = linprog(c, A_ub=A, b_ub=b, bounds=bounds, method='highs')\n",
        "if result.success:\n",
        "    #zaokrąglamy i sprawdzamy wszystkie kombinacje\n",
        "    best_value = 0\n",
        "    best_combination = None\n",
        "\n",
        "    #przegląd wszystkich kombinacji przedmiotów\n",
        "    for r in range(1, n + 1):\n",
        "        for subset in combinations(range(n), r):\n",
        "            subset_weight = sum(weights[i] for i in subset)\n",
        "            subset_value = sum(values[i] for i in subset)\n",
        "\n",
        "            if subset_weight <= W and subset_value > best_value:\n",
        "                best_value = subset_value\n",
        "                best_combination = subset\n",
        "\n",
        "    selected_items = [1 if i in best_combination else 0 for i in range(n)]\n",
        "\n",
        "    print(\"Optymalne rozwiązanie\")\n",
        "    print(f\"Wybrane przedmioty: {selected_items}\")\n",
        "    print(f\"Łączna wartość plecaka: {best_value}\")\n",
        "else:\n",
        "    print(\"Nie znaleziono rozwiązania\")"
      ],
      "metadata": {
        "id": "MCL28-udMBeU",
        "outputId": "a582971d-90d4-4369-e855-f2b3e188a37d",
        "colab": {
          "base_uri": "https://localhost:8080/"
        }
      },
      "execution_count": 97,
      "outputs": [
        {
          "output_type": "stream",
          "name": "stdout",
          "text": [
            "Optymalne rozwiązanie\n",
            "Wybrane przedmioty: [0, 1, 1]\n",
            "Łączna wartość plecaka: 220\n"
          ]
        }
      ]
    },
    {
      "cell_type": "markdown",
      "source": [
        "**2. PuLP**"
      ],
      "metadata": {
        "id": "j_zcEXLnMQ8k"
      }
    },
    {
      "cell_type": "code",
      "source": [
        "!pip install pulp"
      ],
      "metadata": {
        "id": "TFJl9XLswzzp",
        "outputId": "75ae6255-eb77-4d28-8ee1-898070dd92f7",
        "colab": {
          "base_uri": "https://localhost:8080/"
        }
      },
      "execution_count": 98,
      "outputs": [
        {
          "output_type": "stream",
          "name": "stdout",
          "text": [
            "Requirement already satisfied: pulp in /usr/local/lib/python3.11/dist-packages (3.0.2)\n"
          ]
        }
      ]
    },
    {
      "cell_type": "code",
      "source": [
        "from pulp import *\n",
        "\n",
        "model = pulp.LpProblem('linear_programming', LpMaximize)\n",
        "\n",
        "# get solver\n",
        "solver = getSolver('PULP_CBC_CMD')\n",
        "\n",
        "# declare decision variables - ilosci wzietych poszczegolnych produktów\n",
        "x1 = LpVariable('x1', lowBound = 0, cat = 'Integer')\n",
        "x2 = LpVariable('x2', lowBound = 0, cat = 'Integer')\n",
        "x3 = LpVariable('x3', lowBound = 0, cat = 'Integer')\n",
        "x4 = LpVariable('x4', lowBound = 0, cat = 'Integer')\n",
        "x5 = LpVariable('x5', lowBound = 0, cat = 'Integer')\n",
        "\n",
        "#pojemnosc plecaka\n",
        "pojemnosc = 1200\n",
        "\n",
        "#maksymalne możliwe ilości do wzięcia\n",
        "quant = [10,7,8,5,6]\n",
        "\n",
        "#masy jednostkowe produktów\n",
        "mass = [46, 40, 42, 38, 10]\n",
        "\n",
        "#ceny jednostkowe produktów\n",
        "values = [12, 19, 19, 15, 8]\n",
        "\n",
        "# declare objective\n",
        "model += values[0]*x1+values[1]*x2+values[2]*x3+values[3]*x4+values[4]*x5\n",
        "\n",
        "# declare constraints\n",
        "model += mass[0]*x1+mass[1]*x2+mass[2]*x3+mass[3]*x4+mass[4]*x5 <= pojemnosc\n",
        "\n",
        "for i in range(1,6):\n",
        "    model += eval('x{}'.format(i)) <= quant[i-1]\n",
        "\n",
        "# solve\n",
        "results = model.solve(solver=solver)\n",
        "\n",
        "# print results\n",
        "if LpStatus[results] == 'Optimal': print('The solution is optimal.')\n",
        "print(f'Objective value: z* = {value(model.objective)}')\n",
        "print(f'Mass value: z* = {mass[0]*value(x1)+mass[1]*value(x2)+mass[2]*value(x3)+mass[3]*value(x4)+mass[4]*value(x5)}')\n",
        "print(f'Solution: x1* = {value(x1)}, x2* = {value(x2)}, x3* = {value(x3)}, x4* = {value(x4)}, x5* = {value(x5)}')"
      ],
      "metadata": {
        "id": "lv_rW-IJMW1R",
        "outputId": "05abed13-9243-4629-bdb2-b86590dd6b8b",
        "colab": {
          "base_uri": "https://localhost:8080/"
        }
      },
      "execution_count": 99,
      "outputs": [
        {
          "output_type": "stream",
          "name": "stdout",
          "text": [
            "The solution is optimal.\n",
            "Objective value: z* = 492.0\n",
            "Mass value: z* = 1188.0\n",
            "Solution: x1* = 7.0, x2* = 7.0, x3* = 8.0, x4* = 5.0, x5* = 6.0\n"
          ]
        }
      ]
    },
    {
      "cell_type": "markdown",
      "source": [
        "**3. Google OR-Tools**"
      ],
      "metadata": {
        "id": "tYbxzZumMbrH"
      }
    },
    {
      "cell_type": "markdown",
      "source": [
        "Podstawy - problem plecakowy w wersji całkowitoliczbowej"
      ],
      "metadata": {
        "id": "tKjN0Cd8ofQ4"
      }
    },
    {
      "cell_type": "code",
      "source": [
        "!pip install ortools"
      ],
      "metadata": {
        "id": "CJXkE2wLoqJA",
        "outputId": "cfeb52ff-4be2-4762-de51-1d679e183b6d",
        "colab": {
          "base_uri": "https://localhost:8080/"
        }
      },
      "execution_count": 100,
      "outputs": [
        {
          "output_type": "stream",
          "name": "stdout",
          "text": [
            "Requirement already satisfied: ortools in /usr/local/lib/python3.11/dist-packages (9.12.4544)\n",
            "Requirement already satisfied: absl-py>=2.0.0 in /usr/local/lib/python3.11/dist-packages (from ortools) (2.1.0)\n",
            "Requirement already satisfied: numpy>=1.13.3 in /usr/local/lib/python3.11/dist-packages (from ortools) (1.26.4)\n",
            "Requirement already satisfied: pandas>=2.0.0 in /usr/local/lib/python3.11/dist-packages (from ortools) (2.2.2)\n",
            "Requirement already satisfied: protobuf<5.30,>=5.29.3 in /usr/local/lib/python3.11/dist-packages (from ortools) (5.29.3)\n",
            "Requirement already satisfied: immutabledict>=3.0.0 in /usr/local/lib/python3.11/dist-packages (from ortools) (4.2.1)\n",
            "Requirement already satisfied: python-dateutil>=2.8.2 in /usr/local/lib/python3.11/dist-packages (from pandas>=2.0.0->ortools) (2.8.2)\n",
            "Requirement already satisfied: pytz>=2020.1 in /usr/local/lib/python3.11/dist-packages (from pandas>=2.0.0->ortools) (2025.1)\n",
            "Requirement already satisfied: tzdata>=2022.7 in /usr/local/lib/python3.11/dist-packages (from pandas>=2.0.0->ortools) (2025.1)\n",
            "Requirement already satisfied: six>=1.5 in /usr/local/lib/python3.11/dist-packages (from python-dateutil>=2.8.2->pandas>=2.0.0->ortools) (1.17.0)\n"
          ]
        }
      ]
    },
    {
      "cell_type": "code",
      "source": [
        "from ortools.linear_solver import pywraplp\n",
        "\n",
        "# ustalanie stałych\n",
        "# wartości przedmiotów\n",
        "item1value = 100\n",
        "item2value = 0.5\n",
        "\n",
        "#pojemność plecaka:\n",
        "knapsack_cap = 20\n",
        "\n",
        "#dostępna masa przedmiotów:\n",
        "item1maxmass = 6.3\n",
        "item2maxmass = 15\n",
        "\n",
        "# wywołanie solvera\n",
        "solver = pywraplp.Solver.CreateSolver('SCIP')\n",
        "\n",
        "# określenie zmiennych\n",
        "item1mass = solver.IntVar(0.0, solver.infinity(), 'item1mass')\n",
        "item2mass = solver.IntVar(0.0, solver.infinity(), 'item2mass')\n",
        "\n",
        "# określenie celu\n",
        "solver.Maximize(item1value*item1mass + item2value*item2mass)\n",
        "\n",
        "# określenie ograniczeń\n",
        "solver.Add(item1mass + item2mass <= knapsack_cap)\n",
        "solver.Add(item1mass <= item1maxmass)\n",
        "solver.Add(item2mass <= item2maxmass)\n",
        "\n",
        "# rozwiązanie\n",
        "results = solver.Solve()\n",
        "\n",
        "# wyświetlanie wyniku\n",
        "if results == pywraplp.Solver.OPTIMAL: print(f'The solution is optimal.')\n",
        "print(f'Objective value: z* = {solver.Objective().Value()}')\n",
        "print(f'Solution: item1mass* = {item1mass.solution_value()}, item2mass* = {item2mass.solution_value()}')"
      ],
      "metadata": {
        "id": "KkugsBSoMjks",
        "outputId": "2d1ea99d-a1b5-4915-ba46-7525e5482afc",
        "colab": {
          "base_uri": "https://localhost:8080/"
        }
      },
      "execution_count": 101,
      "outputs": [
        {
          "output_type": "stream",
          "name": "stdout",
          "text": [
            "The solution is optimal.\n",
            "Objective value: z* = 607.0\n",
            "Solution: item1mass* = 6.0, item2mass* = 14.0\n"
          ]
        }
      ]
    },
    {
      "cell_type": "markdown",
      "source": [
        "Funkcja do rozwiązywania problemu plecakowego z wieloma plecakami"
      ],
      "metadata": {
        "id": "-Z2OtQE9pl-F"
      }
    },
    {
      "cell_type": "code",
      "source": [
        "from ortools.linear_solver import pywraplp\n",
        "\n",
        "def solving_multiple_knapsacks(itemsValues, itemsMass, itemsQuantities, knapsacksCapacities):\n",
        "    num_items = len(itemsValues)\n",
        "    num_knapsacks = len(knapsacksCapacities)\n",
        "\n",
        "    solver = pywraplp.Solver.CreateSolver('CBC')\n",
        "    if not solver:\n",
        "        print(\"Solver could not be created. Check OR-Tools installation.\")\n",
        "        return None, None\n",
        "\n",
        "    # Decision variables (avoid excessive memory use)\n",
        "    itemCounts = [[solver.IntVar(0, min(itemsQuantities[i], knapsacksCapacities[j] // itemsMass[i]), f'item{i}_knapsack{j}')\n",
        "                   for j in range(num_knapsacks)] for i in range(num_items)]\n",
        "\n",
        "    # Objective function: Maximize total value\n",
        "    solver.Maximize(solver.Sum([itemsValues[i] * itemCounts[i][j] for i in range(num_items) for j in range(num_knapsacks)]))\n",
        "\n",
        "    # Capacity constraints (knapsacks cannot exceed their weight limit)\n",
        "    for j in range(num_knapsacks):\n",
        "        solver.Add(solver.Sum([itemsMass[i] * itemCounts[i][j] for i in range(num_items)]) <= knapsacksCapacities[j])\n",
        "\n",
        "    # Item quantity constraints (each item cannot exceed available stock)\n",
        "    for i in range(num_items):\n",
        "        solver.Add(solver.Sum([itemCounts[i][j] for j in range(num_knapsacks)]) <= itemsQuantities[i])\n",
        "\n",
        "    # Solve the problem\n",
        "    result_status = solver.Solve()\n",
        "\n",
        "    if result_status == pywraplp.Solver.OPTIMAL:\n",
        "        obj_val = solver.Objective().Value()\n",
        "        solution = [[itemCounts[i][j].solution_value() for j in range(num_knapsacks)] for i in range(num_items)]\n",
        "        return solution, obj_val\n",
        "    else:\n",
        "        return None, None"
      ],
      "metadata": {
        "id": "kr9qtG1rpm57"
      },
      "execution_count": 102,
      "outputs": []
    },
    {
      "cell_type": "markdown",
      "source": [
        "Przykładowy problem"
      ],
      "metadata": {
        "id": "U96CwDP8pxGR"
      }
    },
    {
      "cell_type": "code",
      "source": [
        "itemvalues = [10, 20, 30]\n",
        "itemmass = [2, 3, 4]\n",
        "itemBounds = [3, 2, 2]\n",
        "capacities = [5, 7]\n",
        "\n",
        "a, _ = solving_multiple_knapsacks(itemvalues, itemmass, itemBounds, capacities)\n",
        "\n",
        "# Wyświetlanie rozwiązania\n",
        "if a is not None:\n",
        "    print(\"Rozwiązanie:\", a,  \"\\n Wartość celu:\", _)\n",
        "else:\n",
        "    print(\"Nie znaleziono rozwiązania\")"
      ],
      "metadata": {
        "id": "2MDRdiSXp3FD",
        "outputId": "53783b61-a9c2-4b42-f96d-215826436949",
        "colab": {
          "base_uri": "https://localhost:8080/"
        }
      },
      "execution_count": 103,
      "outputs": [
        {
          "output_type": "stream",
          "name": "stdout",
          "text": [
            "Rozwiązanie: [[1.0, 0.0], [1.0, 1.0], [0.0, 1.0]] \n",
            " Wartość celu: 80.0\n"
          ]
        }
      ]
    },
    {
      "cell_type": "markdown",
      "source": [
        "Próba odszukaia rozwiązania dla problemu plecakowego znanego nam z zajęć z Uczenia Maszynowego na poprzednim semestrze:"
      ],
      "metadata": {
        "id": "0DbkDDZPp6qG"
      }
    },
    {
      "cell_type": "code",
      "source": [
        "import pandas as pd\n",
        "ladybug_capacity = pd.read_csv(\"csvFiles\\Ladybug2.csv\", sep= \";\", index_col=0)\n",
        "ladybug_capacity = ladybug_capacity.to_numpy().T.flatten().tolist()\n",
        "\n",
        "lidl = pd.read_csv(\"csvFiles\\Lidle2.csv\", sep= \";\", index_col=0, header=None)\n",
        "weights, net_worths, quantities = lidl.to_numpy().T\n",
        "\n",
        "weights = weights.tolist()\n",
        "net_worths = net_worths.tolist()\n",
        "quantities = quantities.tolist()\n",
        "a, _ = solving_multiple_knapsacks(net_worths, weights, quantities, ladybug_capacity)\n",
        "\n",
        "if a is not None:\n",
        "    print(\"Rozwiązanie:\", a,  \"\\n Wartość celu:\", _)\n",
        "else:\n",
        "    print(\"Nie znaleziono rozwiązania\")"
      ],
      "metadata": {
        "id": "dH_yRRkFqDDW"
      },
      "execution_count": null,
      "outputs": []
    },
    {
      "cell_type": "markdown",
      "source": [
        "**Uwaga**\n",
        "\n",
        "Google-OR posiada również **bezpośrednie narzędzie** do rozwiązywania problemów plecakowych.\n",
        "\n",
        "Przykładowy od ze strony Google-OR:"
      ],
      "metadata": {
        "id": "JqS-9bupqJjv"
      }
    },
    {
      "cell_type": "code",
      "source": [
        "from ortools.algorithms.python import knapsack_solver\n",
        "\n",
        "\n",
        "def main():\n",
        "    # Create the solver.\n",
        "    solver = knapsack_solver.KnapsackSolver(\n",
        "        knapsack_solver.SolverType.KNAPSACK_MULTIDIMENSION_BRANCH_AND_BOUND_SOLVER,\n",
        "        \"KnapsackExample\",\n",
        "    )\n",
        "\n",
        "    values = [\n",
        "        # fmt:off\n",
        "      360, 83, 59, 130, 431, 67, 230, 52, 93, 125, 670, 892, 600, 38, 48, 147,\n",
        "      78, 256, 63, 17, 120, 164, 432, 35, 92, 110, 22, 42, 50, 323, 514, 28,\n",
        "      87, 73, 78, 15, 26, 78, 210, 36, 85, 189, 274, 43, 33, 10, 19, 389, 276,\n",
        "      312\n",
        "        # fmt:on\n",
        "    ]\n",
        "    weights = [\n",
        "        # fmt: off\n",
        "      [7, 0, 30, 22, 80, 94, 11, 81, 70, 64, 59, 18, 0, 36, 3, 8, 15, 42, 9, 0,\n",
        "       42, 47, 52, 32, 26, 48, 55, 6, 29, 84, 2, 4, 18, 56, 7, 29, 93, 44, 71,\n",
        "       3, 86, 66, 31, 65, 0, 79, 20, 65, 52, 13],\n",
        "        # fmt: on\n",
        "    ]\n",
        "    capacities = [850]\n",
        "\n",
        "    solver.init(values, weights, capacities)\n",
        "    computed_value = solver.solve()\n",
        "\n",
        "    packed_items = []\n",
        "    packed_weights = []\n",
        "    total_weight = 0\n",
        "    print(\"Total value =\", computed_value)\n",
        "    for i in range(len(values)):\n",
        "        if solver.best_solution_contains(i):\n",
        "            packed_items.append(i)\n",
        "            packed_weights.append(weights[0][i])\n",
        "            total_weight += weights[0][i]\n",
        "    print(\"Total weight:\", total_weight)\n",
        "    print(\"Packed items:\", packed_items)\n",
        "    print(\"Packed_weights:\", packed_weights)\n",
        "\n",
        "\n",
        "if __name__ == \"__main__\":\n",
        "    main()"
      ],
      "metadata": {
        "id": "b_X-HZeNqY74"
      },
      "execution_count": null,
      "outputs": []
    }
  ]
}