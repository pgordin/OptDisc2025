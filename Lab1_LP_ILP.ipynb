{
  "nbformat": 4,
  "nbformat_minor": 0,
  "metadata": {
    "colab": {
      "provenance": [],
      "include_colab_link": true
    },
    "kernelspec": {
      "name": "python3",
      "display_name": "Python 3"
    },
    "language_info": {
      "name": "python"
    }
  },
  "cells": [
    {
      "cell_type": "markdown",
      "metadata": {
        "id": "view-in-github",
        "colab_type": "text"
      },
      "source": [
        "<a href=\"https://colab.research.google.com/github/pgordin/OptDisc2025/blob/main/Lab1_LP_ILP.ipynb\" target=\"_parent\"><img src=\"https://colab.research.google.com/assets/colab-badge.svg\" alt=\"Open In Colab\"/></a>"
      ]
    },
    {
      "cell_type": "markdown",
      "source": [
        "# Linki do tutoriali\n",
        "\n",
        "[Programowanie liniowe](https://medium.com/@chongjingting/4-ways-to-solve-linear-programming-in-python-b4af36b7894d)\n",
        "\n",
        "[Programowanie całkowitoliczbowe w PULP](https://medium.com/@gazalashaikh999/mixed-integer-programming-cfe0c196e875)\n",
        "\n",
        "[Automatyzacja programowania całkowitoliczbowego w Google-OR\n",
        "](https://developers.google.com/optimization/mip/mip_var_array?hl=pl)\n",
        "\n",
        "# Zadanie 1.\n",
        "Na przykładzie ciągłego problemu plecakowego sprawdzić (i przetestować) SciPy, PuLP i Google OR-Tools."
      ],
      "metadata": {
        "id": "aOeKaIUkTpvk"
      }
    },
    {
      "cell_type": "markdown",
      "source": [
        "**1. ScipPy**"
      ],
      "metadata": {
        "id": "KhY8AgrNGfxM"
      }
    },
    {
      "cell_type": "code",
      "source": [
        "import numpy as np\n",
        "from scipy.optimize import linprog"
      ],
      "metadata": {
        "id": "mPc4X8DJHe-2"
      },
      "execution_count": 2,
      "outputs": []
    },
    {
      "cell_type": "markdown",
      "source": [
        "Dane dla przedmiotów"
      ],
      "metadata": {
        "id": "N1BWqzJ-IJYt"
      }
    },
    {
      "cell_type": "code",
      "source": [
        "#wartości przedmiotów\n",
        "values = [60, 100, 120]\n",
        "\n",
        "#wagi przedmiotów\n",
        "weights = [10, 20, 30]\n",
        "\n",
        "#maksymalna waga plecaka\n",
        "W = 50\n",
        "\n",
        "#liczba przedmiotów\n",
        "n = len(values)"
      ],
      "metadata": {
        "id": "krv48vvyIXYZ"
      },
      "execution_count": 3,
      "outputs": []
    },
    {
      "cell_type": "markdown",
      "source": [
        "Funkcja celu"
      ],
      "metadata": {
        "id": "CPeN0RpALXRj"
      }
    },
    {
      "cell_type": "code",
      "source": [
        "c = [-v for v in values]"
      ],
      "metadata": {
        "id": "ee5dxWoELS7H"
      },
      "execution_count": 4,
      "outputs": []
    },
    {
      "cell_type": "markdown",
      "source": [
        "Wprowadzone ograniczenia"
      ],
      "metadata": {
        "id": "dVoFA7mcI0ke"
      }
    },
    {
      "cell_type": "code",
      "source": [
        "#ograniczenie sumy wag\n",
        "A = [weights]\n",
        "\n",
        "#ograniczenie na maksymalną wagę plecaka\n",
        "b = [W]\n",
        "\n",
        "# ograniczenie, że x_i jest w przedziale [0, 1]\n",
        "bounds = [(0, 1) for _ in range(n)]"
      ],
      "metadata": {
        "id": "aUukMso2JAFa"
      },
      "execution_count": 5,
      "outputs": []
    },
    {
      "cell_type": "markdown",
      "source": [
        "Rozwiązanie problemu"
      ],
      "metadata": {
        "id": "R_5tifpnIqw4"
      }
    },
    {
      "cell_type": "code",
      "source": [
        "result = linprog(c, A_ub=A, b_ub=b, bounds=bounds, method='highs')\n",
        "if result.success:\n",
        "    print(\"Optymalne rozwiązanie\")\n",
        "    print(f\"Wybrane przedmioty: {np.round(result.x, 2)}\")\n",
        "    print(f\"Łączna wartość plecaka: {-result.fun}\")\n",
        "else:\n",
        "    print(\"Nie znaleziono rozwiązania\")"
      ],
      "metadata": {
        "id": "9zeBdHSAIvnn",
        "outputId": "fb1353ee-64ea-4ed8-9196-641d9561b767",
        "colab": {
          "base_uri": "https://localhost:8080/"
        }
      },
      "execution_count": 6,
      "outputs": [
        {
          "output_type": "stream",
          "name": "stdout",
          "text": [
            "Optymalne rozwiązanie\n",
            "Wybrane przedmioty: [1.   1.   0.67]\n",
            "Łączna wartość plecaka: 240.0\n"
          ]
        }
      ]
    },
    {
      "cell_type": "markdown",
      "source": [
        "**2. PuLP**"
      ],
      "metadata": {
        "id": "WAuBeQAcGrYJ"
      }
    },
    {
      "cell_type": "code",
      "source": [
        "!pip install pulp"
      ],
      "metadata": {
        "id": "hpuogwM4wjsf",
        "outputId": "e18fdbf3-1b17-4359-ea6f-83d141f3f7d3",
        "colab": {
          "base_uri": "https://localhost:8080/"
        }
      },
      "execution_count": 8,
      "outputs": [
        {
          "output_type": "stream",
          "name": "stdout",
          "text": [
            "Collecting pulp\n",
            "  Downloading PuLP-3.0.2-py3-none-any.whl.metadata (6.7 kB)\n",
            "Downloading PuLP-3.0.2-py3-none-any.whl (17.7 MB)\n",
            "\u001b[2K   \u001b[90m━━━━━━━━━━━━━━━━━━━━━━━━━━━━━━━━━━━━━━━━\u001b[0m \u001b[32m17.7/17.7 MB\u001b[0m \u001b[31m79.5 MB/s\u001b[0m eta \u001b[36m0:00:00\u001b[0m\n",
            "\u001b[?25hInstalling collected packages: pulp\n",
            "Successfully installed pulp-3.0.2\n"
          ]
        }
      ]
    },
    {
      "cell_type": "code",
      "source": [
        "from pulp import *"
      ],
      "metadata": {
        "id": "TGZCO9lmKFtj"
      },
      "execution_count": 9,
      "outputs": []
    },
    {
      "cell_type": "code",
      "source": [
        "model = pulp.LpProblem('linear_programming', LpMaximize)"
      ],
      "metadata": {
        "id": "YrTHVHpPsA3r"
      },
      "execution_count": 10,
      "outputs": []
    },
    {
      "cell_type": "markdown",
      "source": [
        "get solver"
      ],
      "metadata": {
        "id": "_pBgkKRysLjL"
      }
    },
    {
      "cell_type": "code",
      "source": [
        "solver = getSolver('PULP_CBC_CMD')"
      ],
      "metadata": {
        "id": "45a_-k1ZsFoA"
      },
      "execution_count": 11,
      "outputs": []
    },
    {
      "cell_type": "markdown",
      "source": [
        "Zmienne decyzyjne"
      ],
      "metadata": {
        "id": "IrhvJyASs1ui"
      }
    },
    {
      "cell_type": "code",
      "source": [
        "# ilosci wzietych poszczegolnych produktów\n",
        "x1 = LpVariable('x1', lowBound = 0, cat = 'Continuous')\n",
        "x2 = LpVariable('x2', lowBound = 0, cat = 'Continuous')\n",
        "x3 = LpVariable('x3', lowBound = 0, cat = 'Continuous')\n",
        "x4 = LpVariable('x4', lowBound = 0, cat = 'Continuous')\n",
        "x5 = LpVariable('x5', lowBound = 0, cat = 'Continuous')\n",
        "\n",
        "#pojemnosc plecaka\n",
        "pojemnosc = 1200\n",
        "\n",
        "#maksymalne możliwe ilości do wzięcia\n",
        "quant = [10,7,8,5,6]\n",
        "\n",
        "#masy jednostkowe produktów\n",
        "mass = [46, 40, 42, 38, 10]\n",
        "\n",
        "#ceny jednostkowe produktów\n",
        "values = [12, 19, 19, 15, 8]"
      ],
      "metadata": {
        "id": "LjwxCSeFswFN"
      },
      "execution_count": 12,
      "outputs": []
    },
    {
      "cell_type": "markdown",
      "source": [
        "Cel"
      ],
      "metadata": {
        "id": "DzFOcpaSte2t"
      }
    },
    {
      "cell_type": "code",
      "source": [
        "model += values[0]*x1+values[1]*x2+values[2]*x3+values[3]*x4+values[4]*x5"
      ],
      "metadata": {
        "id": "9C7qQ44VtuYH"
      },
      "execution_count": 13,
      "outputs": []
    },
    {
      "cell_type": "markdown",
      "source": [
        "Wprowadzenie ograniczeń"
      ],
      "metadata": {
        "id": "w2pQ7xjwtxjn"
      }
    },
    {
      "cell_type": "code",
      "source": [
        "model += mass[0]*x1+mass[1]*x2+mass[2]*x3+mass[3]*x4+mass[4]*x5 <= pojemnosc\n",
        "\n",
        "for i in range(1,6):\n",
        "    model += eval('x{}'.format(i)) <= quant[i-1]"
      ],
      "metadata": {
        "id": "U9dw0Nn4uuNV"
      },
      "execution_count": 14,
      "outputs": []
    },
    {
      "cell_type": "markdown",
      "source": [
        "Rozwiązanie"
      ],
      "metadata": {
        "id": "RaWEDDNRu2NS"
      }
    },
    {
      "cell_type": "code",
      "source": [
        "results = model.solve(solver=solver)\n",
        "\n",
        "# print results\n",
        "if LpStatus[results] == 'Optimal': print('The solution is optimal.')\n",
        "print(f'Objective value: z* = {value(model.objective)}')\n",
        "print(f'Mass value: z* = {mass[0]*value(x1)+mass[1]*value(x2)+mass[2]*value(x3)+mass[3]*value(x4)+mass[4]*value(x5)}')\n",
        "print(f'Solution: x1* = {value(x1)}, x2* = {value(x2)}, x3* = {value(x3)}, x4* = {value(x4)}, x5* = {value(x5)}')"
      ],
      "metadata": {
        "id": "o3cnRqM-vEO3",
        "outputId": "e097e3ec-10b9-49e9-bfc2-6ffea95bf366",
        "colab": {
          "base_uri": "https://localhost:8080/"
        }
      },
      "execution_count": 15,
      "outputs": [
        {
          "output_type": "stream",
          "name": "stdout",
          "text": [
            "The solution is optimal.\n",
            "Objective value: z* = 495.1304352\n",
            "Mass value: z* = 1200.0000016\n",
            "Solution: x1* = 7.2608696, x2* = 7.0, x3* = 8.0, x4* = 5.0, x5* = 6.0\n"
          ]
        }
      ]
    },
    {
      "cell_type": "markdown",
      "source": [
        "**3. Google OR-Tools**"
      ],
      "metadata": {
        "id": "KJM49qLWGv99"
      }
    },
    {
      "cell_type": "code",
      "source": [],
      "metadata": {
        "id": "VDh0aikjKIJ5"
      },
      "execution_count": null,
      "outputs": []
    },
    {
      "cell_type": "markdown",
      "source": [
        "- - -"
      ],
      "metadata": {
        "id": "7l1Y2wmybul2"
      }
    },
    {
      "cell_type": "markdown",
      "source": [
        "# Zadanie 2.\n",
        "Jak wygląda programowanie całkowitoliczbowe w tych pakietach? Rozwiązać (zwykły) problem plecakowy.\n"
      ],
      "metadata": {
        "id": "jkN1WRnzZlw4"
      }
    },
    {
      "cell_type": "markdown",
      "source": [
        "- - -"
      ],
      "metadata": {
        "id": "aSGWhoPcb7wQ"
      }
    },
    {
      "cell_type": "markdown",
      "source": [
        "**1. ScipPy**"
      ],
      "metadata": {
        "id": "_MpxUAQKJmIT"
      }
    },
    {
      "cell_type": "markdown",
      "source": [
        "SciPy nie obsługuje programowania całkowitoliczbowego bezpośrednio, więc do rozwiązania tego typu problemu możemy sprawdzić wszystkie kombinacje wybranych przedmiotów i znaleźć najlepszą możliwą całkowitoliczbową wartość."
      ],
      "metadata": {
        "id": "fj4Ia_ZfKaRZ"
      }
    },
    {
      "cell_type": "code",
      "source": [
        "import numpy as np\n",
        "from scipy.optimize import linprog\n",
        "from itertools import combinations"
      ],
      "metadata": {
        "id": "f6CVy42fKiwF"
      },
      "execution_count": 16,
      "outputs": []
    },
    {
      "cell_type": "markdown",
      "source": [
        "Dane dla przedmiotów"
      ],
      "metadata": {
        "id": "8fu83CsYKnMc"
      }
    },
    {
      "cell_type": "code",
      "source": [
        "#wartości przedmiotów\n",
        "values = [60, 100, 120]\n",
        "\n",
        "#wagi przedmiotów\n",
        "weights = [10, 20, 30]\n",
        "\n",
        "#maksymalna waga plecaka\n",
        "W = 50\n",
        "\n",
        "#liczba przedmiotów\n",
        "n = len(values)"
      ],
      "metadata": {
        "id": "KVJhyhQsKsig"
      },
      "execution_count": 17,
      "outputs": []
    },
    {
      "cell_type": "markdown",
      "source": [
        "Funkcja celu"
      ],
      "metadata": {
        "id": "mTesESUkLnwn"
      }
    },
    {
      "cell_type": "code",
      "source": [
        "c = [-v for v in values]"
      ],
      "metadata": {
        "id": "VycKBEA6LuUO"
      },
      "execution_count": 18,
      "outputs": []
    },
    {
      "cell_type": "markdown",
      "source": [
        "Ograniczenia dla funkcji"
      ],
      "metadata": {
        "id": "25q49gXJLw7p"
      }
    },
    {
      "cell_type": "code",
      "source": [
        "#ograniczenie wagowe\n",
        "A = [weights]\n",
        "\n",
        "#ograniczenie na maksymalną wagę plecaka\n",
        "b = [W]\n",
        "\n",
        "#ograniczenia x_i ∈ {0, 1}\n",
        "bounds = [(0, 1) for _ in range(n)]"
      ],
      "metadata": {
        "id": "NuKMkIUYL3ab"
      },
      "execution_count": 19,
      "outputs": []
    },
    {
      "cell_type": "markdown",
      "source": [
        "Rozwiązanie problemu"
      ],
      "metadata": {
        "id": "FhdPZnOGL9we"
      }
    },
    {
      "cell_type": "code",
      "source": [
        "result = linprog(c, A_ub=A, b_ub=b, bounds=bounds, method='highs')\n",
        "if result.success:\n",
        "    #zaokrąglamy i sprawdzamy wszystkie kombinacje\n",
        "    best_value = 0\n",
        "    best_combination = None\n",
        "\n",
        "    #przegląd wszystkich kombinacji przedmiotów\n",
        "    for r in range(1, n + 1):\n",
        "        for subset in combinations(range(n), r):\n",
        "            subset_weight = sum(weights[i] for i in subset)\n",
        "            subset_value = sum(values[i] for i in subset)\n",
        "\n",
        "            if subset_weight <= W and subset_value > best_value:\n",
        "                best_value = subset_value\n",
        "                best_combination = subset\n",
        "\n",
        "    selected_items = [1 if i in best_combination else 0 for i in range(n)]\n",
        "\n",
        "    print(\"Optymalne rozwiązanie\")\n",
        "    print(f\"Wybrane przedmioty: {selected_items}\")\n",
        "    print(f\"Łączna wartość plecaka: {best_value}\")\n",
        "else:\n",
        "    print(\"Nie znaleziono rozwiązania\")"
      ],
      "metadata": {
        "id": "MCL28-udMBeU",
        "outputId": "7de819fd-6d39-4162-df03-3f802367efca",
        "colab": {
          "base_uri": "https://localhost:8080/"
        }
      },
      "execution_count": 20,
      "outputs": [
        {
          "output_type": "stream",
          "name": "stdout",
          "text": [
            "Optymalne rozwiązanie\n",
            "Wybrane przedmioty: [0, 1, 1]\n",
            "Łączna wartość plecaka: 220\n"
          ]
        }
      ]
    },
    {
      "cell_type": "markdown",
      "source": [
        "**2. PuLP**"
      ],
      "metadata": {
        "id": "j_zcEXLnMQ8k"
      }
    },
    {
      "cell_type": "code",
      "source": [
        "!pip install pulp"
      ],
      "metadata": {
        "id": "TFJl9XLswzzp",
        "outputId": "41f0831c-f4b8-4e0b-d255-00cb57c01211",
        "colab": {
          "base_uri": "https://localhost:8080/"
        }
      },
      "execution_count": 21,
      "outputs": [
        {
          "output_type": "stream",
          "name": "stdout",
          "text": [
            "Requirement already satisfied: pulp in /usr/local/lib/python3.11/dist-packages (3.0.2)\n"
          ]
        }
      ]
    },
    {
      "cell_type": "code",
      "source": [
        "from pulp import *\n",
        "\n",
        "model = pulp.LpProblem('linear_programming', LpMaximize)\n",
        "\n",
        "# get solver\n",
        "solver = getSolver('PULP_CBC_CMD')\n",
        "\n",
        "# declare decision variables - ilosci wzietych poszczegolnych produktów\n",
        "x1 = LpVariable('x1', lowBound = 0, cat = 'Integer')\n",
        "x2 = LpVariable('x2', lowBound = 0, cat = 'Integer')\n",
        "x3 = LpVariable('x3', lowBound = 0, cat = 'Integer')\n",
        "x4 = LpVariable('x4', lowBound = 0, cat = 'Integer')\n",
        "x5 = LpVariable('x5', lowBound = 0, cat = 'Integer')\n",
        "\n",
        "#pojemnosc plecaka\n",
        "pojemnosc = 1200\n",
        "\n",
        "#maksymalne możliwe ilości do wzięcia\n",
        "quant = [10,7,8,5,6]\n",
        "\n",
        "#masy jednostkowe produktów\n",
        "mass = [46, 40, 42, 38, 10]\n",
        "\n",
        "#ceny jednostkowe produktów\n",
        "values = [12, 19, 19, 15, 8]\n",
        "\n",
        "# declare objective\n",
        "model += values[0]*x1+values[1]*x2+values[2]*x3+values[3]*x4+values[4]*x5\n",
        "\n",
        "# declare constraints\n",
        "model += mass[0]*x1+mass[1]*x2+mass[2]*x3+mass[3]*x4+mass[4]*x5 <= pojemnosc\n",
        "\n",
        "for i in range(1,6):\n",
        "    model += eval('x{}'.format(i)) <= quant[i-1]\n",
        "\n",
        "# solve\n",
        "results = model.solve(solver=solver)\n",
        "\n",
        "# print results\n",
        "if LpStatus[results] == 'Optimal': print('The solution is optimal.')\n",
        "print(f'Objective value: z* = {value(model.objective)}')\n",
        "print(f'Mass value: z* = {mass[0]*value(x1)+mass[1]*value(x2)+mass[2]*value(x3)+mass[3]*value(x4)+mass[4]*value(x5)}')\n",
        "print(f'Solution: x1* = {value(x1)}, x2* = {value(x2)}, x3* = {value(x3)}, x4* = {value(x4)}, x5* = {value(x5)}')"
      ],
      "metadata": {
        "id": "lv_rW-IJMW1R",
        "outputId": "6cbd52fa-1c81-4c87-e14a-f3fd4779ae82",
        "colab": {
          "base_uri": "https://localhost:8080/"
        }
      },
      "execution_count": 22,
      "outputs": [
        {
          "output_type": "stream",
          "name": "stdout",
          "text": [
            "The solution is optimal.\n",
            "Objective value: z* = 492.0\n",
            "Mass value: z* = 1188.0\n",
            "Solution: x1* = 7.0, x2* = 7.0, x3* = 8.0, x4* = 5.0, x5* = 6.0\n"
          ]
        }
      ]
    },
    {
      "cell_type": "markdown",
      "source": [
        "**3. Google OR-Tools**"
      ],
      "metadata": {
        "id": "tYbxzZumMbrH"
      }
    },
    {
      "cell_type": "code",
      "source": [],
      "metadata": {
        "id": "KkugsBSoMjks"
      },
      "execution_count": null,
      "outputs": []
    }
  ]
}