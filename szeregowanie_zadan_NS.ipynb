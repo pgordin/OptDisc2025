{
 "cells": [
  {
   "cell_type": "markdown",
   "id": "c0cfd4d9",
   "metadata": {},
   "source": [
    "# Szeregowanie zadań na identycznych maszynach"
   ]
  },
  {
   "cell_type": "markdown",
   "id": "157fd84f",
   "metadata": {},
   "source": [
    "Natalia Sobala 258096"
   ]
  },
  {
   "cell_type": "markdown",
   "id": "476f94df",
   "metadata": {},
   "source": [
    "## Wprowadzenie\n",
    "\n",
    "Szeregowanie zadań to jeden z podstawowych problemów optymalizacyjnych występujących w informatyce, przemyśle i zarządzaniu projektami. Celem jest ustalenie kolejności wykonywania zadań w taki sposób, aby zoptymalizować wybraną funkcję celu (np. czas oczekiwania, czas zakończenia, opóźnienie).\n",
    "\n",
    "W tym projekcie rozpatrujemy klasyczny problem: mamy $n$ zadań do wykonania oraz $m$ identycznych maszyn, na których możemy je uruchamiać. Każde zadanie $J_j$ posiada znany czas wykonania $p_j$. \n",
    "Zostaną zaimplementowane i porównane dwa klasyczne podejścia do tego problemu: $\\textbf{algorytm SPT}$ i $\\textbf{algorytm LPT}$."
   ]
  },
  {
   "cell_type": "markdown",
   "id": "db20c1a4",
   "metadata": {},
   "source": [
    "## Opis problemu i przyjęte założenia\n",
    "\n",
    "Zakładamy, że:\n",
    "\n",
    "- wszystkie maszyny są identyczne (tzn. wykonanie danego zadania trwa tyle samo na każdej z nich),\n",
    "\n",
    "- zadania są znane z góry,\n",
    "\n",
    "- każde zadanie może zostać przypisane tylko jednej maszynie,\n",
    "\n",
    "- zadania nie mogą być przerywane.\n",
    "\n",
    "Rozpatrujemy dwa główne kryteria optymalizacji:\n",
    "\n",
    "1. Minimalizacja średniego czasu oczekiwania na wykonanie zadania – istotne w przypadku systemów, gdzie liczy się sprawiedliwa i szybka obsługa uzytkowników (np. kolejkowanie zleceń).\n",
    "\n",
    "2. Minimalizacja maksymalnego czasu zakończenia (makespan) – ważne w kontekście produkcji lub przetwarzania wsadowego, gdzie chodzi o to, by wszystkie zadania skończyły się jak najszybciej."
   ]
  },
  {
   "cell_type": "markdown",
   "id": "2f0ce252",
   "metadata": {},
   "source": [
    "## Minimalizacja średniego czasu oczekiwania\n",
    "\n",
    "Minimalizacja średniego czasu oczekiwania przy użyciu metody $\\textbf{SPT}$ (*Shortest Processing Time*) to strategia, która minimalizuje średni czas, jaki zadania muszą spędzić w kolejce oczekując na obsłużenie. SPT oznacza, że zadanie o najkrótszym czasie przetwarzania jest obsługiwane jako pierwsze. Działa optymalnie w przypadku jednej maszyny.\n",
    "\n",
    "Dlaczego działa:\n",
    ">Jeśli zaczniemy od najkrótszego zadania, to szybko się ono zakończy i „odblokuje” kolejkę. Krótsze czasy wykonania na początku zmniejszają sumaryczne opóźnienia późniejszych zadań.\n",
    "\n",
    "Działanie algorytmu:\n",
    "- Sortuje zadania rosąnco według czasu przetwarzania $p_j$.\n",
    "\n",
    "- Wykonuje je w tej kolejnosci.\n",
    "\n",
    "\n",
    "Zalety:\n",
    "- Prosty i szybki.\n",
    "\n",
    "- Gwarantuje optymalne rozwiazanie dla jednej maszyny."
   ]
  },
  {
   "cell_type": "code",
   "execution_count": null,
   "id": "29d37d2d",
   "metadata": {},
   "outputs": [],
   "source": [
    "from heapq import heappush, heappop\n",
    "\n",
    "# Algorytm SPT (Shortest Processing Time First)\n",
    "def spt_schedule(jobs):\n",
    "    jobs.sort()  # sortuje rosnąco wg p_j\n",
    "    current_time = 0\n",
    "    completion_times = []\n",
    "    waiting_time_total = 0\n",
    "    for job in jobs:\n",
    "        waiting_time_total += current_time\n",
    "        current_time += job\n",
    "        completion_times.append(current_time)\n",
    "    avg_waiting_time = waiting_time_total / len(jobs)\n",
    "    return {\"order\": jobs,\n",
    "            \"completion_times\": completion_times,\n",
    "            \"average_wait_time\": avg_waiting_time}"
   ]
  },
  {
   "cell_type": "markdown",
   "id": "500ad32e",
   "metadata": {},
   "source": [
    "## Minimalizacja maksymalnego czasu zakończenia\n",
    "\n",
    "Minimalizacja maksymalnego czasu zakończenia to metoda planowania w produkcji i logistyce, która polega na priorytetowym planowaniu zadań o najdłuższych czasach realizacji. Celem jest redukcja ogólnego czasu zakończenia wszystkich zadań, Problem ten jest NP-trudny dla $m > 1$, ale istnieje prosta heurystyka $\\textbf{LPT}$ (*Longest Processing Time First*), która daje dobre przybliżenie.\n",
    "\n",
    "Dlaczego działa:\n",
    ">Gdy przypisujemy długie zadania jako pierwsze do najmniej obciążonych maszyn, równoważymy pracę maszyn już od początku. Zbyt późne przydzielenie długiego zadania mogłoby „przeciążyć” jedną z maszyn.\n",
    "\n",
    "Działanie algorytmu:\n",
    "\n",
    "* Sortuje zadania malejącego według czasu przetwarzania $p_j$, tak aby zadanie o najdłuższym czasie przetwarzania było pierwsze.\n",
    "\n",
    "* Przypisuje każde zadanie do maszyny, na której całkowity czas przetwarzania zaplanowanych zadań jest najkrótszy.\n",
    "\n",
    "LPT zapewnia rozwiązanie nie gorsze niż $(\\frac{4}{3} - \\frac{1}{3m})$ razy optymalne."
   ]
  },
  {
   "cell_type": "code",
   "execution_count": null,
   "id": "83d1c2b4",
   "metadata": {},
   "outputs": [],
   "source": [
    "# Algorytm LPT (Longest Processing Time First) dla m maszyn\n",
    "def lpt_schedule(jobs, m):\n",
    "    jobs.sort(reverse=True)  # sortuje malejąco wg p_j\n",
    "    machines = [(0, i) for i in range(m)]  # (czas zajęcia, id maszyny)\n",
    "    schedule = [[] for _ in range(m)]\n",
    "    \n",
    "    for job in jobs:\n",
    "        time, i = heappop(machines)\n",
    "        schedule[i].append(job)\n",
    "        heappush(machines, (time + job, i))\n",
    "\n",
    "    max_completion_time = max(sum(q) for q in schedule)\n",
    "    return {\"schedule\": schedule,\n",
    "            \"max_completion_time\": max_completion_time}"
   ]
  },
  {
   "cell_type": "markdown",
   "id": "d857e6ac",
   "metadata": {},
   "source": [
    "### Przykład działania"
   ]
  },
  {
   "cell_type": "code",
   "execution_count": null,
   "id": "3d47948c",
   "metadata": {},
   "outputs": [
    {
     "name": "stdout",
     "output_type": "stream",
     "text": [
      "Zadanie: A, Czas: 5\n",
      "Zadanie: B, Czas: 2\n",
      "Zadanie: C, Czas: 7\n",
      "Zadanie: D, Czas: 1\n",
      "Zadanie: E, Czas: 3\n",
      "\n",
      "Algorytm SPT (1 maszyna):\n",
      "Kolejność: ['D', 'B', 'E', 'A', 'C']\n",
      "Czasy zakończenia: [1, 3, 6, 11, 18]\n",
      "Średni czas oczekiwania: 7.8\n",
      "\n",
      "Algorytm LPT (2 maszyny):\n",
      "Maszyna 1: zadania ['C', 'B'], czas: 9\n",
      "Maszyna 2: zadania ['A', 'E', 'D'], czas: 9\n",
      "Maksymalny czas zakończenia (makespan): 9\n"
     ]
    }
   ],
   "source": [
    "if __name__ == \"__main__\":\n",
    "    jobs = [5, 2, 7, 1, 3]\n",
    "    job_names = ['A', 'B', 'C', 'D', 'E']\n",
    "    m = 2\n",
    "\n",
    "    jobs_with_names = list(zip(job_names, jobs))\n",
    "\n",
    "    for job in jobs_with_names:\n",
    "        print(f\"Zadanie: {job[0]}, Czas: {job[1]}\")\n",
    "        \n",
    "    # SPT\n",
    "    print(\"\\nAlgorytm SPT (1 maszyna):\")\n",
    "    # Sortuje według czasu\n",
    "    spt_sorted = sorted(jobs_with_names, key=lambda x: x[1])\n",
    "    order = [job[0] for job in spt_sorted] # kolejność nazw\n",
    "    completion_times = []\n",
    "    current_time = 0\n",
    "    for _, time in spt_sorted:\n",
    "        current_time += time\n",
    "        completion_times.append(current_time)\n",
    "    average_wait_time = sum(completion_times) / len(completion_times)\n",
    "\n",
    "    print(\"Kolejność:\", order)\n",
    "    print(\"Czasy zakończenia:\", completion_times)\n",
    "    print(\"Średni czas oczekiwania:\", round(average_wait_time, 2))\n",
    "\n",
    "    # LPT\n",
    "    print(\"\\nAlgorytm LPT (2 maszyny):\")\n",
    "    lpt_sorted = sorted(jobs_with_names, key=lambda x: x[1], reverse=True)\n",
    "    machines = [[] for _ in range(m)]\n",
    "    machines_times = [0] * m\n",
    "\n",
    "    for job, time in lpt_sorted:\n",
    "        # Znajduje maszynę z najmniejszym łącznym czasem\n",
    "        idx = machines_times.index(min(machines_times))\n",
    "        machines[idx].append((job, time))\n",
    "        machines_times[idx] += time\n",
    "\n",
    "    for i, machine in enumerate(machines):\n",
    "        tasks = [j for j, _ in machine]\n",
    "        total_time = sum(t for _, t in machine)\n",
    "        print(f\"Maszyna {i+1}: zadania {tasks}, czas: {total_time}\")\n",
    "    print(\"Maksymalny czas zakończenia (makespan):\", max(machines_times))\n"
   ]
  },
  {
   "cell_type": "markdown",
   "id": "ff84e3b5",
   "metadata": {},
   "source": [
    "- Co gdyby użyć LPT zamiast SPT?\n",
    "\n",
    "Długie zadania na początku opóźniają wszystkie kolejne, więc średni czas oczekiwania będzie większy.\n",
    "\n",
    "\n",
    "\n",
    "- Co gdyby użyć SPT zamiast LPT?\n",
    "\n",
    "Wtedy długie zadania mogą „wpaść” wszystkie na jedną maszynę pod koniec, co skutkuje nierównym obciążeniem i długim makespanem."
   ]
  },
  {
   "cell_type": "markdown",
   "id": "196c0074",
   "metadata": {},
   "source": [
    "## Minimalizacja średniego czasu oczekiwania, gdy każde zadanie ma swoją wagę (koszt opóźnienia)\n",
    "\n",
    "Każde zadanie $J_j$ ma dodatkowo wagę $w_j$, która reprezentuje jego koszt opóźnienia. Celem jest minimalizacja ważonego czasu oczekiwania:\n",
    "\n",
    "$$\\sum_j w_j\\cdot C_j,$$\n",
    "\n",
    "gdzie $C_j$ to czas zakończenia zadania $J_j$.\n",
    "\n",
    "Reguła Smitha mówi, że: \n",
    "\n",
    ">Dla jednej maszyny optymalna kolejność zadań to taka, która sortuje je według rosnącego stosunku $p_j / w_j$.\n",
    "\n",
    "Jeśli zadanie ma dużą wagę (koszt opóźnienia), powinno być wykonane wcześniej — chyba że jest bardzo długie. Iloraz $p_j / w_j$ to kompromis: niskie wartości oznaczają „opłacalne” zadania."
   ]
  },
  {
   "cell_type": "code",
   "execution_count": null,
   "id": "031f4430",
   "metadata": {},
   "outputs": [],
   "source": [
    "def smith_rule_schedule(jobs):\n",
    "    # jobs to lista krotek: (nazwa, (czas p_j, waga w_j))\n",
    "    # sortuje według p_j / w_j rosnąco (zasada Smitha)\n",
    "    jobs.sort(key=lambda x: x[1][0] / x[1][1])\n",
    "    current_time = 0\n",
    "    weighted_sum = 0\n",
    "    order = []\n",
    "    for name, (p, w) in jobs:\n",
    "        current_time += p\n",
    "        weighted_sum += w * current_time\n",
    "        order.append((name, p, w))\n",
    "    return {\"order\": order, \"weighted_sum_completion_time\": weighted_sum}"
   ]
  },
  {
   "cell_type": "code",
   "execution_count": 5,
   "id": "dfac4e16",
   "metadata": {},
   "outputs": [
    {
     "name": "stdout",
     "output_type": "stream",
     "text": [
      "Kolejność (nazwa, p_j, w_j): [('C', 2, 3), ('A', 5, 2), ('B', 3, 1)]\n",
      "Suma w_j * C_j: 30\n"
     ]
    }
   ],
   "source": [
    "jobs = [('A', (5, 2)), ('B', (3, 1)), ('C', (2, 3))]  # (nazwa, (czas, waga))\n",
    "result = smith_rule_schedule(jobs)\n",
    "print(\"Kolejność (nazwa, p_j, w_j):\", result[\"order\"])\n",
    "print(\"Suma w_j * C_j:\", result[\"weighted_sum_completion_time\"])"
   ]
  },
  {
   "cell_type": "markdown",
   "id": "38f2d580",
   "metadata": {},
   "source": [
    "## Minimalizacja liczby zadań spóźnionych\n",
    "\n",
    "Każde zadanie $J_j$ ma termin $d_j$, do którego powinno się zakończyć. Celem jest minimalizacja liczby zadań spóźnionych.\n",
    "\n",
    "Dla jednej maszyny można zastosować algorytm Earliest Due Date ($\\textbf{EDD}$), który sortuje zadania według rosnących terminów. Gdy najpierw wykonujemy zadania z najwcześniejszym terminem, ograniczamy ryzyko przekroczenia deadline'ów. W przypadku jednej maszyny jest to rozwiązanie optymalne."
   ]
  },
  {
   "cell_type": "code",
   "execution_count": null,
   "id": "ca6b1a2b",
   "metadata": {},
   "outputs": [],
   "source": [
    "def edd_schedule(jobs):\n",
    "    # jobs to lista krotek (nazwa, (czas p_j, deadline d_j))\n",
    "    jobs.sort(key=lambda x: x[1][1])  # sortuje wg deadline d_j\n",
    "    current_time = 0\n",
    "    late_jobs = 0\n",
    "    schedule = []\n",
    "    for name, (p, d) in jobs:\n",
    "        current_time += p\n",
    "        late = current_time > d\n",
    "        if late:\n",
    "            late_jobs += 1\n",
    "        schedule.append((name, p, d, current_time, late))\n",
    "    return {\"schedule\": schedule, \"late_jobs\": late_jobs}"
   ]
  },
  {
   "cell_type": "code",
   "execution_count": 7,
   "id": "8072cf26",
   "metadata": {},
   "outputs": [
    {
     "name": "stdout",
     "output_type": "stream",
     "text": [
      "Zadanie B: czas = 2, deadline = 5, zakończenie = 2, spóźnione = False\n",
      "Zadanie A: czas = 4, deadline = 6, zakończenie = 6, spóźnione = False\n",
      "Zadanie C: czas = 3, deadline = 7, zakończenie = 9, spóźnione = True\n",
      "Liczba spóźnionych zadań: 1\n"
     ]
    }
   ],
   "source": [
    "jobs = [('A', (4, 6)), ('B', (2, 5)), ('C', (3, 7))]\n",
    "result = edd_schedule(jobs)\n",
    "for name, p, d, c, late in result[\"schedule\"]:\n",
    "    print(f\"Zadanie {name}: czas = {p}, deadline = {d}, zakończenie = {c}, spóźnione = {late}\")\n",
    "print(\"Liczba spóźnionych zadań:\", result[\"late_jobs\"])"
   ]
  },
  {
   "cell_type": "markdown",
   "id": "1a475f49",
   "metadata": {},
   "source": [
    "## Bibliografia\n",
    "\n",
    "* [https://en.wikipedia.org/wiki/Identical-machines_scheduling](https://en.wikipedia.org/wiki/Identical-machines_scheduling)\n",
    "* [https://en.wikipedia.org/wiki/Optimal_job_scheduling](https://en.wikipedia.org/wiki/Optimal_job_scheduling)\n",
    "* [https://en.wikipedia.org/wiki/Longest-processing-time-first_scheduling](https://en.wikipedia.org/wiki/Longest-processing-time-first_scheduling)\n"
   ]
  }
 ],
 "metadata": {
  "kernelspec": {
   "display_name": "Python 3",
   "language": "python",
   "name": "python3"
  },
  "language_info": {
   "codemirror_mode": {
    "name": "ipython",
    "version": 3
   },
   "file_extension": ".py",
   "mimetype": "text/x-python",
   "name": "python",
   "nbconvert_exporter": "python",
   "pygments_lexer": "ipython3",
   "version": "3.12.8"
  }
 },
 "nbformat": 4,
 "nbformat_minor": 5
}
