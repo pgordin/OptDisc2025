{
  "nbformat": 4,
  "nbformat_minor": 0,
  "metadata": {
    "colab": {
      "provenance": [],
      "authorship_tag": "ABX9TyNvA+GMIwNEldy46QZoF6Xy",
      "include_colab_link": true
    },
    "kernelspec": {
      "name": "python3",
      "display_name": "Python 3"
    },
    "language_info": {
      "name": "python"
    }
  },
  "cells": [
    {
      "cell_type": "markdown",
      "metadata": {
        "id": "view-in-github",
        "colab_type": "text"
      },
      "source": [
        "<a href=\"https://colab.research.google.com/github/pgordin/OptDisc2025/blob/main/Grafy2.ipynb\" target=\"_parent\"><img src=\"https://colab.research.google.com/assets/colab-badge.svg\" alt=\"Open In Colab\"/></a>"
      ]
    },
    {
      "cell_type": "markdown",
      "source": [
        "Importowanie pakietów"
      ],
      "metadata": {
        "id": "gMVF-gEAx9Ak"
      }
    },
    {
      "cell_type": "code",
      "execution_count": 1,
      "metadata": {
        "id": "3R0WsPHyx7Vq"
      },
      "outputs": [],
      "source": [
        "import numpy as np\n",
        "from random import random, seed"
      ]
    },
    {
      "cell_type": "markdown",
      "source": [
        "# Funkcje grafowe"
      ],
      "metadata": {
        "id": "bpQ4Tb2-yVsr"
      }
    },
    {
      "cell_type": "code",
      "source": [
        "def print_matrix(vertices, matrix):\n",
        "  \"\"\"\n",
        "  Wypisuje na ekranie graf podany jako macierz sąsiedztwa\n",
        "  \"\"\"\n",
        "  n = len(matrix)\n",
        "  if (vertices is not None) and (len(vertices) == n):\n",
        "    vv = vertices\n",
        "  else:\n",
        "    vv = range(1, n+1)\n",
        "  for i in range(n):\n",
        "    print(vv[i], \":\", end=\"\")\n",
        "    for j in range(n):\n",
        "      if matrix[i, j]:\n",
        "        print(\" \", vv[j], end=\"\")\n",
        "    print(\"\")"
      ],
      "metadata": {
        "id": "HbOREhY2yX1R"
      },
      "execution_count": 2,
      "outputs": []
    },
    {
      "cell_type": "code",
      "source": [
        "def print_graph(graph):\n",
        "  \"\"\"\n",
        "  Wypisuje na ekranie graf podany jako lista sąsiedztwa (słownik pythona)\n",
        "  \"\"\"\n",
        "  for v in graph:\n",
        "    print(v, \":\", end=\"\")\n",
        "    for u in graph[v]:\n",
        "      print(\" \", u, end=\"\")\n",
        "    print(\"\")"
      ],
      "metadata": {
        "id": "2amdCCBl2crW"
      },
      "execution_count": 3,
      "outputs": []
    },
    {
      "cell_type": "markdown",
      "source": [
        "## Modyfikacje grafów"
      ],
      "metadata": {
        "id": "xZMOemZD3c0m"
      }
    },
    {
      "cell_type": "code",
      "source": [
        "def add_vertex(graph, vertex):\n",
        "  \"\"\"\n",
        "  Nowy wierzchołek do istniejącego grafu\n",
        "  \"\"\"\n",
        "  if vertex not in graph:\n",
        "    graph[vertex] = []\n",
        "\n",
        "\n",
        "def add_arc(graph, arc):\n",
        "  \"\"\"\n",
        "  Nowy łuk (podany jako para wierzchołków) do istniejącego grafu.\n",
        "  Rozważamy grafy proste, skierowane\n",
        "  \"\"\"\n",
        "  u, v = arc\n",
        "  add_vertex(graph, u)\n",
        "  add_vertex(graph, v)\n",
        "  if v not in graph[u]:\n",
        "    graph[u].append(v)\n",
        "\n",
        "\n",
        "def add_edge(graph, edge):\n",
        "  \"\"\"\n",
        "  Nowa krawędź (podana jako para wierzchołków) do istniejącego grafu.\n",
        "  Rozważamy grafy proste, nieskierowane, (bez pętli)\n",
        "  \"\"\"\n",
        "  u, v = edge\n",
        "  add_vertex(graph, u)\n",
        "  add_vertex(graph, v)\n",
        "  if u == v:\n",
        "    raise ValueError(\"Pętla!\")\n",
        "  if v not in graph[u]:\n",
        "    graph[u].append(v)\n",
        "  if u not in graph[v]:\n",
        "    graph[v].append(u)\n"
      ],
      "metadata": {
        "id": "jsz4esRs3gcO"
      },
      "execution_count": 10,
      "outputs": []
    },
    {
      "cell_type": "markdown",
      "source": [
        "## Wczytywanie i zapis do plików."
      ],
      "metadata": {
        "id": "WXHs9PGs3mq1"
      }
    },
    {
      "cell_type": "code",
      "source": [
        "def graph_from_edges(filename, directed = 0):\n",
        "  \"\"\"\n",
        "  Wczytuje graf z pliku tekstowego, gdzie podany jest opis krawędzi (dwa słowa)\n",
        "  lub wierzchołka (jedno słowo).\n",
        "  Wynik podany jest w formie słownika (grafu).\n",
        "  Zmienna filename zawiera pełną ścieżkę do pliku.\n",
        "  \"\"\"\n",
        "  graph = {}\n",
        "  with open(filename, \"r\") as file:    # otwarcie pliku do odczytu\n",
        "    for line in file:\n",
        "      words = line.strip().split()  # podział linii na słowa\n",
        "      if len(words) == 1:           # jedno słowo - opis wierzchołka\n",
        "        add_vertex(graph, words[0])\n",
        "      elif len(words) >= 2:         # dwa słowa - krawędź lub łuk\n",
        "        if directed:\n",
        "          add_arc(graph, (words[0], words[1]))\n",
        "        else:\n",
        "          add_edge(graph, (words[0], words[1]))\n",
        "  return graph\n"
      ],
      "metadata": {
        "id": "luhSyLQI3gwg"
      },
      "execution_count": 11,
      "outputs": []
    },
    {
      "cell_type": "code",
      "source": [
        "def graph_to_neighbourlist(graph, filename):\n",
        "  \"\"\"\n",
        "  Zapisuje graf (jako słownik) do pliku tekstowego w formie listy sąsiedztwa.\n",
        "  \"\"\"\n",
        "  with open(filename, \"w\") as file:\n",
        "    for v in graph:\n",
        "      line = f\"{v}:\"\n",
        "      for u in graph[v]:\n",
        "        line += f\" {u}\"\n",
        "      line += \"\\n\"\n",
        "      file.write(line)"
      ],
      "metadata": {
        "id": "gWHaW7gn9CeB"
      },
      "execution_count": 14,
      "outputs": []
    },
    {
      "cell_type": "markdown",
      "source": [
        "# Przykłady wykorzystania"
      ],
      "metadata": {
        "id": "BRlBTUeTyYiD"
      }
    },
    {
      "cell_type": "markdown",
      "source": [
        "## Wczytywanie plików"
      ],
      "metadata": {
        "id": "kj_Zjw8Q74mv"
      }
    },
    {
      "cell_type": "code",
      "source": [
        "%%writefile edges.txt\n",
        "a b\n",
        "a c\n",
        "b d\n",
        "c e\n",
        "f\n"
      ],
      "metadata": {
        "colab": {
          "base_uri": "https://localhost:8080/"
        },
        "id": "C6poGCbx7-Vu",
        "outputId": "4ba80d11-ab87-444f-c479-e6136608414a"
      },
      "execution_count": 7,
      "outputs": [
        {
          "output_type": "stream",
          "name": "stdout",
          "text": [
            "Writing edges.txt\n"
          ]
        }
      ]
    },
    {
      "cell_type": "code",
      "source": [
        "%cat edges.txt"
      ],
      "metadata": {
        "colab": {
          "base_uri": "https://localhost:8080/"
        },
        "id": "kDXOiXz88JpM",
        "outputId": "71287543-53a8-4c68-9068-43c54af8d167"
      },
      "execution_count": 8,
      "outputs": [
        {
          "output_type": "stream",
          "name": "stdout",
          "text": [
            "a b\n",
            "a c\n",
            "b d\n",
            "c e\n",
            "f\n"
          ]
        }
      ]
    },
    {
      "cell_type": "code",
      "source": [
        "graf1 = graph_from_edges(\"edges.txt\")\n",
        "print_graph(graf1)"
      ],
      "metadata": {
        "colab": {
          "base_uri": "https://localhost:8080/"
        },
        "id": "Q6O3JwH_8WpR",
        "outputId": "aed66dea-2304-4fd1-b06c-6af51814de92"
      },
      "execution_count": 12,
      "outputs": [
        {
          "output_type": "stream",
          "name": "stdout",
          "text": [
            "a :  b  c\n",
            "b :  a  d\n",
            "c :  a  e\n",
            "d :  b\n",
            "e :  c\n",
            "f :\n"
          ]
        }
      ]
    },
    {
      "cell_type": "code",
      "source": [
        "graf2 = graph_from_edges(\"edges.txt\", directed=1)\n",
        "print_graph(graf2)"
      ],
      "metadata": {
        "colab": {
          "base_uri": "https://localhost:8080/"
        },
        "id": "hSpa5Ebd8qqB",
        "outputId": "e10ffa67-8bad-4028-f2b9-650b53ce9b8e"
      },
      "execution_count": 13,
      "outputs": [
        {
          "output_type": "stream",
          "name": "stdout",
          "text": [
            "a :  b  c\n",
            "b :  d\n",
            "c :  e\n",
            "d :\n",
            "e :\n",
            "f :\n"
          ]
        }
      ]
    },
    {
      "cell_type": "code",
      "source": [
        "graph_to_neighbourlist(graf1, \"lista1.txt\")\n",
        "graph_to_neighbourlist(graf2, \"lista2.txt\")"
      ],
      "metadata": {
        "id": "aABRHs0H-T3r"
      },
      "execution_count": 15,
      "outputs": []
    },
    {
      "cell_type": "code",
      "source": [
        "%cat lista1.txt"
      ],
      "metadata": {
        "colab": {
          "base_uri": "https://localhost:8080/"
        },
        "id": "-lj4Auna-cJI",
        "outputId": "9fdb02ca-f25a-4685-f3d0-9f5fd6fae600"
      },
      "execution_count": 16,
      "outputs": [
        {
          "output_type": "stream",
          "name": "stdout",
          "text": [
            "a: b c\n",
            "b: a d\n",
            "c: a e\n",
            "d: b\n",
            "e: c\n",
            "f:\n"
          ]
        }
      ]
    },
    {
      "cell_type": "code",
      "source": [
        "%cat lista2.txt"
      ],
      "metadata": {
        "colab": {
          "base_uri": "https://localhost:8080/"
        },
        "id": "u8A8lHD_-fO-",
        "outputId": "3c1ff682-e7cf-4c72-b3f4-187f5153015e"
      },
      "execution_count": 17,
      "outputs": [
        {
          "output_type": "stream",
          "name": "stdout",
          "text": [
            "a: b c\n",
            "b: d\n",
            "c: e\n",
            "d:\n",
            "e:\n",
            "f:\n"
          ]
        }
      ]
    },
    {
      "cell_type": "markdown",
      "source": [
        "## Pierwsze zajęcia"
      ],
      "metadata": {
        "id": "JMRHQaWU776X"
      }
    },
    {
      "cell_type": "code",
      "source": [
        "vertices = [\"a\", \"b\", \"c\", \"d\", \"e\"]\n",
        "matrix = np.array([[0,1,1,0,0],[1,0,1,1,0],[1,1,0,0,1],[1,1,0,0,0],[0,1,0,0,0]])\n",
        "print(vertices)\n",
        "print(matrix)\n",
        "print(\"-----------------------------\")\n",
        "print_matrix(vertices, matrix)\n",
        "print(\"-----------------------------\")\n",
        "print_matrix(None, matrix)"
      ],
      "metadata": {
        "colab": {
          "base_uri": "https://localhost:8080/"
        },
        "id": "ya4rZo3kyavf",
        "outputId": "f61dc499-f502-4723-a822-192bf99bbf21"
      },
      "execution_count": null,
      "outputs": [
        {
          "output_type": "stream",
          "name": "stdout",
          "text": [
            "['a', 'b', 'c', 'd', 'e']\n",
            "[[0 1 1 0 0]\n",
            " [1 0 1 1 0]\n",
            " [1 1 0 0 1]\n",
            " [1 1 0 0 0]\n",
            " [0 1 0 0 0]]\n",
            "-----------------------------\n",
            "a :  b  c\n",
            "b :  a  c  d\n",
            "c :  a  b  e\n",
            "d :  a  b\n",
            "e :  b\n",
            "-----------------------------\n",
            "1 :  2  3\n",
            "2 :  1  3  4\n",
            "3 :  1  2  5\n",
            "4 :  1  2\n",
            "5 :  2\n"
          ]
        }
      ]
    },
    {
      "cell_type": "code",
      "source": [
        "graph = {\n",
        "    'a': ['b', 'c'],\n",
        "    'b': ['a', 'c', 'd'],\n",
        "    'c': ['a', 'b', 'e'],\n",
        "    'd': ['a', 'b'],\n",
        "    'e': ['b']\n",
        "}\n",
        "print(graph)"
      ],
      "metadata": {
        "colab": {
          "base_uri": "https://localhost:8080/"
        },
        "id": "2q0knji41eXR",
        "outputId": "79d65099-0433-4e39-cb44-cadc50194d58"
      },
      "execution_count": null,
      "outputs": [
        {
          "output_type": "stream",
          "name": "stdout",
          "text": [
            "{'a': ['b', 'c'], 'b': ['a', 'c', 'd'], 'c': ['a', 'b', 'e'], 'd': ['a', 'b'], 'e': ['b']}\n"
          ]
        }
      ]
    },
    {
      "cell_type": "code",
      "source": [
        "print_graph(graph)"
      ],
      "metadata": {
        "colab": {
          "base_uri": "https://localhost:8080/"
        },
        "id": "eaqPcAmc2ThB",
        "outputId": "4e8d425f-c231-4449-d0d4-e88a82983762"
      },
      "execution_count": null,
      "outputs": [
        {
          "output_type": "stream",
          "name": "stdout",
          "text": [
            "a :  b  c\n",
            "b :  a  c  d\n",
            "c :  a  b  e\n",
            "d :  a  b\n",
            "e :  b\n"
          ]
        }
      ]
    },
    {
      "cell_type": "code",
      "source": [
        "add_vertex(graph, 'f')\n",
        "print_graph(graph)"
      ],
      "metadata": {
        "colab": {
          "base_uri": "https://localhost:8080/"
        },
        "id": "g0oYh-kl5Sam",
        "outputId": "de6d5982-275b-478d-8778-65708cc61a91"
      },
      "execution_count": null,
      "outputs": [
        {
          "output_type": "stream",
          "name": "stdout",
          "text": [
            "a :  b  c\n",
            "b :  a  c  d\n",
            "c :  a  b  e\n",
            "d :  a  b\n",
            "e :  b\n",
            "f :\n"
          ]
        }
      ]
    },
    {
      "cell_type": "code",
      "source": [
        "add_edge(graph, ('a', 'f'))\n",
        "print_graph(graph)"
      ],
      "metadata": {
        "colab": {
          "base_uri": "https://localhost:8080/"
        },
        "id": "Vd7FqXYX5bf0",
        "outputId": "73a3217c-11fa-421e-89d1-26ed047b2fb4"
      },
      "execution_count": null,
      "outputs": [
        {
          "output_type": "stream",
          "name": "stdout",
          "text": [
            "a :  b  c  f\n",
            "b :  a  c  d\n",
            "c :  a  b  e\n",
            "d :  a  b\n",
            "e :  b\n",
            "f :  a\n"
          ]
        }
      ]
    },
    {
      "cell_type": "code",
      "source": [
        "add_edge(graph, ('c', 'e'))\n",
        "add_edge(graph, ('e', 'b'))\n",
        "print_graph(graph)"
      ],
      "metadata": {
        "colab": {
          "base_uri": "https://localhost:8080/"
        },
        "id": "PVkUqAzT5ljZ",
        "outputId": "e1399892-e091-4514-ee04-e4abc6314816"
      },
      "execution_count": null,
      "outputs": [
        {
          "output_type": "stream",
          "name": "stdout",
          "text": [
            "a :  b  c  f\n",
            "b :  a  c  d  e\n",
            "c :  a  b  e\n",
            "d :  a  b\n",
            "e :  b  c\n",
            "f :  a\n"
          ]
        }
      ]
    },
    {
      "cell_type": "code",
      "source": [
        "add_edge(graph, ('c', 'c'))"
      ],
      "metadata": {
        "colab": {
          "base_uri": "https://localhost:8080/",
          "height": 267
        },
        "id": "pl2TId1x52Y6",
        "outputId": "1930ca80-897f-4e12-91a8-8b9d93cffe1c"
      },
      "execution_count": null,
      "outputs": [
        {
          "output_type": "error",
          "ename": "ValueError",
          "evalue": "Pętla!",
          "traceback": [
            "\u001b[0;31m---------------------------------------------------------------------------\u001b[0m",
            "\u001b[0;31mValueError\u001b[0m                                Traceback (most recent call last)",
            "\u001b[0;32m<ipython-input-13-b97f1ae7964f>\u001b[0m in \u001b[0;36m<cell line: 0>\u001b[0;34m()\u001b[0m\n\u001b[0;32m----> 1\u001b[0;31m \u001b[0madd_edge\u001b[0m\u001b[0;34m(\u001b[0m\u001b[0mgraph\u001b[0m\u001b[0;34m,\u001b[0m \u001b[0;34m(\u001b[0m\u001b[0;34m'c'\u001b[0m\u001b[0;34m,\u001b[0m \u001b[0;34m'c'\u001b[0m\u001b[0;34m)\u001b[0m\u001b[0;34m)\u001b[0m\u001b[0;34m\u001b[0m\u001b[0;34m\u001b[0m\u001b[0m\n\u001b[0m",
            "\u001b[0;32m<ipython-input-8-27447b10cf9d>\u001b[0m in \u001b[0;36madd_edge\u001b[0;34m(graph, edge)\u001b[0m\n\u001b[1;32m     28\u001b[0m   \u001b[0madd_vertex\u001b[0m\u001b[0;34m(\u001b[0m\u001b[0mgraph\u001b[0m\u001b[0;34m,\u001b[0m \u001b[0mv\u001b[0m\u001b[0;34m)\u001b[0m\u001b[0;34m\u001b[0m\u001b[0;34m\u001b[0m\u001b[0m\n\u001b[1;32m     29\u001b[0m   \u001b[0;32mif\u001b[0m \u001b[0mu\u001b[0m \u001b[0;34m==\u001b[0m \u001b[0mv\u001b[0m\u001b[0;34m:\u001b[0m\u001b[0;34m\u001b[0m\u001b[0;34m\u001b[0m\u001b[0m\n\u001b[0;32m---> 30\u001b[0;31m     \u001b[0;32mraise\u001b[0m \u001b[0mValueError\u001b[0m\u001b[0;34m(\u001b[0m\u001b[0;34m\"Pętla!\"\u001b[0m\u001b[0;34m)\u001b[0m\u001b[0;34m\u001b[0m\u001b[0;34m\u001b[0m\u001b[0m\n\u001b[0m\u001b[1;32m     31\u001b[0m   \u001b[0;32mif\u001b[0m \u001b[0mv\u001b[0m \u001b[0;32mnot\u001b[0m \u001b[0;32min\u001b[0m \u001b[0mgraph\u001b[0m\u001b[0;34m[\u001b[0m\u001b[0mu\u001b[0m\u001b[0;34m]\u001b[0m\u001b[0;34m:\u001b[0m\u001b[0;34m\u001b[0m\u001b[0;34m\u001b[0m\u001b[0m\n\u001b[1;32m     32\u001b[0m     \u001b[0mgraph\u001b[0m\u001b[0;34m[\u001b[0m\u001b[0mu\u001b[0m\u001b[0;34m]\u001b[0m\u001b[0;34m.\u001b[0m\u001b[0mappend\u001b[0m\u001b[0;34m(\u001b[0m\u001b[0mv\u001b[0m\u001b[0;34m)\u001b[0m\u001b[0;34m\u001b[0m\u001b[0;34m\u001b[0m\u001b[0m\n",
            "\u001b[0;31mValueError\u001b[0m: Pętla!"
          ]
        }
      ]
    },
    {
      "cell_type": "code",
      "source": [
        "add_arc(graph, ('c', 'c'))\n",
        "print_graph(graph)"
      ],
      "metadata": {
        "colab": {
          "base_uri": "https://localhost:8080/"
        },
        "id": "BKzlP3cX6A4r",
        "outputId": "3848582a-3f15-4309-c2e7-b509e6ce8919"
      },
      "execution_count": null,
      "outputs": [
        {
          "output_type": "stream",
          "name": "stdout",
          "text": [
            "a :  b  c  f\n",
            "b :  a  c  d  e\n",
            "c :  a  b  e  c\n",
            "d :  a  b\n",
            "e :  b  c\n",
            "f :  a\n"
          ]
        }
      ]
    },
    {
      "cell_type": "markdown",
      "source": [
        "# Tworzenie grafów losowych $G(n,p)$."
      ],
      "metadata": {
        "id": "jPe67Cme7XXN"
      }
    },
    {
      "cell_type": "code",
      "source": [
        "# dla powtarzalności\n",
        "np.random.seed(2025)"
      ],
      "metadata": {
        "id": "88awcY-o7dh6"
      },
      "execution_count": null,
      "outputs": []
    },
    {
      "cell_type": "code",
      "source": [
        "# losujemy graf G(10, 1/3)\n",
        "n = 10\n",
        "p = 1/3\n",
        "random_graph = {}\n",
        "for i in range(1, n+1):\n",
        "  add_vertex(random_graph, i)\n",
        "  for j in range(1, i):\n",
        "    if np.random.random() < p:\n",
        "      add_edge(random_graph, (i, j))"
      ],
      "metadata": {
        "id": "6BeNNbuP7oF4"
      },
      "execution_count": null,
      "outputs": []
    },
    {
      "cell_type": "code",
      "source": [
        "print_graph(random_graph)"
      ],
      "metadata": {
        "colab": {
          "base_uri": "https://localhost:8080/"
        },
        "id": "q6ETC_Nw8N1R",
        "outputId": "c854fd62-8939-4c31-c3c0-2a41d38e6ee9"
      },
      "execution_count": null,
      "outputs": [
        {
          "output_type": "stream",
          "name": "stdout",
          "text": [
            "1 :  2  7  9\n",
            "2 :  1  9\n",
            "3 :  4  6  8  9\n",
            "4 :  3  7\n",
            "5 :  6  7\n",
            "6 :  3  5  8\n",
            "7 :  1  4  5  9\n",
            "8 :  3  6  9\n",
            "9 :  1  2  3  7  8\n",
            "10 :\n"
          ]
        }
      ]
    }
  ]
}